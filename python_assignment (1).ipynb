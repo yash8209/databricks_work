{
 "cells": [
  {
   "cell_type": "markdown",
   "metadata": {
    "application/vnd.databricks.v1+cell": {
     "cellMetadata": {},
     "inputWidgets": {},
     "nuid": "b6ea958b-7cc1-45f1-9201-45abef838c62",
     "showTitle": false,
     "tableResultSettingsMap": {},
     "title": ""
    }
   },
   "source": [
    "# 📝 Assignment: Python Collections\n",
    "This notebook contains practice exercises on Python collections like List, Dictionary, Tuple, and Set."
   ]
  },
  {
   "cell_type": "markdown",
   "metadata": {
    "application/vnd.databricks.v1+cell": {
     "cellMetadata": {},
     "inputWidgets": {},
     "nuid": "08f6559a-5e7e-48de-b378-d2aef8446fea",
     "showTitle": false,
     "tableResultSettingsMap": {},
     "title": ""
    }
   },
   "source": [
    "## ✅ Part 1: List Operations\n",
    "Given the list of sales amounts:"
   ]
  },
  {
   "cell_type": "code",
   "execution_count": 0,
   "metadata": {
    "application/vnd.databricks.v1+cell": {
     "cellMetadata": {
      "byteLimit": 2048000,
      "rowLimit": 10000
     },
     "inputWidgets": {},
     "nuid": "10dfedbd-325c-4aa1-8629-2dfcd3d97ea4",
     "showTitle": false,
     "tableResultSettingsMap": {},
     "title": ""
    }
   },
   "outputs": [
    {
     "output_type": "stream",
     "name": "stdout",
     "output_type": "stream",
     "text": [
      "Total Sales: 1800\nAverage Sale Amount: 300.0\nSales Above 300: [400, 500]\nSales after adding 350: [250, 300, 400, 150, 500, 200, 350]\nSales in Descending Order: [500, 400, 350, 300, 250, 200, 150]\n"
     ]
    }
   ],
   "source": [
    "sales = [250, 300, 400, 150, 500, 200]\n",
    "# Initial sales list\n",
    "sales = [250, 300, 400, 150, 500, 200]\n",
    "\n",
    "# 1. Total sales\n",
    "total_sales = sum(sales)\n",
    "print(\"Total Sales:\", total_sales)\n",
    "\n",
    "# 2. Average sale amount\n",
    "average_sales = total_sales / len(sales)\n",
    "print(\"Average Sale Amount:\", average_sales)\n",
    "\n",
    "# 3. Sales values above 300\n",
    "sales_above_300 = [s for s in sales if s > 300]\n",
    "print(\"Sales Above 300:\", sales_above_300)\n",
    "\n",
    "# 4. Add 350 to the list\n",
    "sales.append(350)\n",
    "print(\"Sales after adding 350:\", sales)\n",
    "\n",
    "# 5. Sort in descending order\n",
    "sales.sort(reverse=True)\n",
    "print(\"Sales in Descending Order:\", sales)\n"
   ]
  },
  {
   "cell_type": "markdown",
   "metadata": {
    "application/vnd.databricks.v1+cell": {
     "cellMetadata": {},
     "inputWidgets": {},
     "nuid": "d3d74137-5739-4ab9-adc8-64d2fd62a190",
     "showTitle": false,
     "tableResultSettingsMap": {},
     "title": ""
    }
   },
   "source": [
    "**Tasks:**\n",
    "1. Find the total sales.\n",
    "2. Calculate the average sale amount.\n",
    "3. Print sale values above 300.\n",
    "4. Add `350` to the list.\n",
    "5. Sort the list in descending order."
   ]
  },
  {
   "cell_type": "markdown",
   "metadata": {
    "application/vnd.databricks.v1+cell": {
     "cellMetadata": {},
     "inputWidgets": {},
     "nuid": "657c7757-b300-4c83-b6d8-849dfe05bb71",
     "showTitle": false,
     "tableResultSettingsMap": {},
     "title": ""
    }
   },
   "source": [
    "## ✅ Part 2: Dictionary Operations\n",
    "Create a dictionary with product names and their prices:"
   ]
  },
  {
   "cell_type": "code",
   "execution_count": 0,
   "metadata": {
    "application/vnd.databricks.v1+cell": {
     "cellMetadata": {
      "byteLimit": 2048000,
      "rowLimit": 10000
     },
     "inputWidgets": {},
     "nuid": "601cf021-8422-49d7-9646-5d77a268fb2a",
     "showTitle": false,
     "tableResultSettingsMap": {},
     "title": ""
    }
   },
   "outputs": [
    {
     "output_type": "stream",
     "name": "stdout",
     "output_type": "stream",
     "text": [
      "+-------+-----+\n|Product|Price|\n+-------+-----+\n|Monitor|12000|\n+-------+-----+\n\n+--------+-----+\n| Product|Price|\n+--------+-----+\n|  Laptop|70000|\n|   Mouse|  550|\n|Keyboard| 1500|\n| Monitor|12000|\n|  Webcam| 3000|\n+--------+-----+\n\n"
     ]
    }
   ],
   "source": [
    "from pyspark.sql import SparkSession\n",
    "from pyspark.sql.functions import col\n",
    "from pyspark.sql.functions import when\n",
    "\n",
    "# Create Spark session\n",
    "spark = SparkSession.builder.appName(\"Products\").getOrCreate()\n",
    "\n",
    "# Initial product data\n",
    "product_data = [\n",
    "    (\"Laptop\", 70000),\n",
    "    (\"Mouse\", 500),\n",
    "    (\"Keyboard\", 1500),\n",
    "    (\"Monitor\", 12000)\n",
    "]\n",
    "\n",
    "# Create DataFrame\n",
    "df = spark.createDataFrame(product_data, [\"Product\", \"Price\"])\n",
    "\n",
    "# 1. Print price of \"Monitor\"\n",
    "df.filter(col(\"Product\") == \"Monitor\").show()\n",
    "\n",
    "# 2. Add a new product \"Webcam\" with price 3000\n",
    "new_row = spark.createDataFrame([(\"Webcam\", 3000)], [\"Product\", \"Price\"])\n",
    "df = df.union(new_row)\n",
    "\n",
    "# 3. Update price of \"Mouse\" to 550\n",
    "\n",
    "\n",
    "df = df.withColumn(\"Price\", when(col(\"Product\") == \"Mouse\", 550).otherwise(col(\"Price\")))\n",
    "\n",
    "# 4. Print all product names and prices\n",
    "df.show()\n"
   ]
  },
  {
   "cell_type": "markdown",
   "metadata": {
    "application/vnd.databricks.v1+cell": {
     "cellMetadata": {},
     "inputWidgets": {},
     "nuid": "64050f28-a014-40de-856a-1d8a2c7a14b8",
     "showTitle": false,
     "tableResultSettingsMap": {},
     "title": ""
    }
   },
   "source": [
    "**Tasks:**\n",
    "1. Print the price of the \"Monitor\".\n",
    "2. Add a new product `\"Webcam\"` with price `3000`.\n",
    "3. Update the price of \"Mouse\" to `550`.\n",
    "4. Print all product names and prices using a loop."
   ]
  }
 ],
 "metadata": {
  "application/vnd.databricks.v1+notebook": {
   "computePreferences": null,
   "dashboards": [],
   "environmentMetadata": null,
   "inputWidgetPreferences": null,
   "language": "python",
   "notebookMetadata": {
    "pythonIndentUnit": 4
   },
   "notebookName": "python_assignment",
   "widgets": {}
  },
  "kernelspec": {
   "display_name": "Python 3",
   "language": "python",
   "name": "python3"
  },
  "language_info": {
   "name": "python",
   "version": "3.8"
  }
 },
 "nbformat": 4,
 "nbformat_minor": 0
}