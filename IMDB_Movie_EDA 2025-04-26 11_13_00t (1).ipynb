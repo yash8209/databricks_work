{
 "cells": [
  {
   "cell_type": "markdown",
   "metadata": {
    "application/vnd.databricks.v1+cell": {
     "cellMetadata": {},
     "inputWidgets": {},
     "nuid": "f327f375-17da-41d4-bd7d-964bc996cd87",
     "showTitle": false,
     "tableResultSettingsMap": {},
     "title": ""
    }
   },
   "source": [
    "# <font color = blue> IMDb Movie EDA </font>\n",
    "\n",
    "You have the data for the 100 top-rated movies from the past decade along with various pieces of information about the movie, its actors, and the voters who have rated these movies online. In this assignment, you will try to find some interesting insights into these movies and their voters, using Python."
   ]
  },
  {
   "cell_type": "code",
   "execution_count": 0,
   "metadata": {
    "application/vnd.databricks.v1+cell": {
     "cellMetadata": {
      "byteLimit": 2048000,
      "rowLimit": 10000
     },
     "inputWidgets": {},
     "nuid": "08cdbd2c-c645-477b-9ac9-7b80dc1ffe11",
     "showTitle": false,
     "tableResultSettingsMap": {},
     "title": ""
    }
   },
   "outputs": [],
   "source": [
    "from pyspark.sql import SparkSession\n",
    "\n",
    "spark = SparkSession.builder.appName(\"IMDB Movies\").getOrCreate()"
   ]
  },
  {
   "cell_type": "markdown",
   "metadata": {
    "application/vnd.databricks.v1+cell": {
     "cellMetadata": {},
     "inputWidgets": {},
     "nuid": "06502b41-6426-40b8-b2a4-afa2a56a3fbf",
     "showTitle": false,
     "tableResultSettingsMap": {},
     "title": ""
    }
   },
   "source": [
    "##  Task 1: Reading the data"
   ]
  },
  {
   "cell_type": "markdown",
   "metadata": {
    "application/vnd.databricks.v1+cell": {
     "cellMetadata": {},
     "inputWidgets": {},
     "nuid": "cae3d303-9838-4219-9976-231dd4783c26",
     "showTitle": false,
     "tableResultSettingsMap": {},
     "title": ""
    }
   },
   "source": [
    "- ### Subtask 1.1: Read the Movies Data.\n",
    "\n",
    "Read the movies data file provided and store it in a dataframe `movies`."
   ]
  },
  {
   "cell_type": "code",
   "execution_count": 0,
   "metadata": {
    "application/vnd.databricks.v1+cell": {
     "cellMetadata": {
      "byteLimit": 2048000,
      "rowLimit": 10000
     },
     "inputWidgets": {},
     "nuid": "7478b6d8-30b4-46e3-8546-61baacc99b7d",
     "showTitle": false,
     "tableResultSettingsMap": {},
     "title": ""
    }
   },
   "outputs": [],
   "source": [
    "file_path = \"dbfs:/FileStore/tables/imdb_data/IMDB_Movies.csv\"\n",
    "movies = spark.read.csv(file_path, header=True, inferSchema=True)"
   ]
  },
  {
   "cell_type": "code",
   "execution_count": 0,
   "metadata": {
    "application/vnd.databricks.v1+cell": {
     "cellMetadata": {
      "byteLimit": 2048000,
      "rowLimit": 10000
     },
     "inputWidgets": {},
     "nuid": "66a6b631-ac0a-4adb-9ed5-629e525c5631",
     "showTitle": false,
     "tableResultSettingsMap": {},
     "title": ""
    }
   },
   "outputs": [
    {
     "output_type": "stream",
     "name": "stdout",
     "output_type": "stream",
     "text": [
      "Out[33]: Row(Title='La La Land', title_year=2016, budget=30000000, Gross=151101803, actor_1_name='Ryan Gosling', actor_2_name='Emma Stone', actor_3_name='Amiée Conn', actor_1_facebook_likes=14000, actor_2_facebook_likes=19000, actor_3_facebook_likes=None, IMDb_rating=8.2, genre_1='Comedy', genre_2='Drama', genre_3='Music', MetaCritic=93, Runtime=128, CVotes10=74245, CVotes09=71191, CVotes08=64640, CVotes07=38831, CVotes06=17377, CVotes05=8044, CVotes04=3998, CVotes03=2839, CVotes02=2407, CVotes01=6802, CVotesMale=157693, CVotesFemale=56713, CVotesU18=2675, CVotesU18M=1784, CVotesU18F=868, CVotes1829=113008, CVotes1829M=78998, CVotes1829F=32730, CVotes3044=66058, CVotes3044M=50835, CVotes3044F=14165, CVotes45A=15765, CVotes45AM=12148, CVotes45AF=3302, CVotes1000=454, CVotesUS=33360, CVotesnUS=117987, VotesM=8.2, VotesF=8.1, VotesU18=8.9, VotesU18M=9.0, VotesU18F=8.7, Votes1829=8.4, Votes1829M=8.4, Votes1829F=8.2, Votes3044=7.9, Votes3044M=7.9, Votes3044F=7.8, Votes45A=7.6, Votes45AM=7.6, Votes45AF=7.5, Votes1000=7.1, VotesUS=8.3, VotesnUS=8.1, content_rating='PG-13', Country='USA')"
     ]
    }
   ],
   "source": [
    "movies.head()"
   ]
  },
  {
   "cell_type": "markdown",
   "metadata": {
    "application/vnd.databricks.v1+cell": {
     "cellMetadata": {},
     "inputWidgets": {},
     "nuid": "291682fc-7202-47ce-905b-d18bcc9d7c45",
     "showTitle": false,
     "tableResultSettingsMap": {},
     "title": ""
    }
   },
   "source": [
    "- ###  Subtask 1.2: Inspect the Dataframe\n",
    "\n",
    "Inspect the dataframe for dimensions, null-values, and summary of different numeric columns."
   ]
  },
  {
   "cell_type": "code",
   "execution_count": 0,
   "metadata": {
    "application/vnd.databricks.v1+cell": {
     "cellMetadata": {
      "byteLimit": 2048000,
      "rowLimit": 10000
     },
     "inputWidgets": {},
     "nuid": "e106aaa7-210d-4d65-9f52-b92c72cddcdb",
     "showTitle": false,
     "tableResultSettingsMap": {},
     "title": ""
    }
   },
   "outputs": [
    {
     "output_type": "stream",
     "name": "stdout",
     "output_type": "stream",
     "text": [
      "Out[36]: (100, 62)"
     ]
    }
   ],
   "source": [
    "# Check the number of rows and columns in the dataframe\n",
    "movies.count(), len(movies.columns)\n",
    "\n"
   ]
  },
  {
   "cell_type": "code",
   "execution_count": 0,
   "metadata": {
    "application/vnd.databricks.v1+cell": {
     "cellMetadata": {
      "byteLimit": 2048000,
      "rowLimit": 10000
     },
     "inputWidgets": {},
     "nuid": "1751c094-ecf2-4bed-b09a-0e9f4c8bf2f9",
     "showTitle": false,
     "tableResultSettingsMap": {},
     "title": ""
    }
   },
   "outputs": [
    {
     "output_type": "stream",
     "name": "stdout",
     "output_type": "stream",
     "text": [
      "root\n |-- Title: string (nullable = true)\n |-- title_year: integer (nullable = true)\n |-- budget: double (nullable = true)\n |-- gross: double (nullable = true)\n |-- actor_1_name: string (nullable = true)\n |-- actor_2_name: string (nullable = true)\n |-- actor_3_name: string (nullable = true)\n |-- actor_1_facebook_likes: integer (nullable = true)\n |-- actor_2_facebook_likes: integer (nullable = true)\n |-- actor_3_facebook_likes: integer (nullable = true)\n |-- IMDb_rating: double (nullable = true)\n |-- genre_1: string (nullable = true)\n |-- genre_2: string (nullable = true)\n |-- genre_3: string (nullable = true)\n |-- MetaCritic: integer (nullable = true)\n |-- Runtime: integer (nullable = true)\n |-- CVotes10: integer (nullable = true)\n |-- CVotes09: integer (nullable = true)\n |-- CVotes08: integer (nullable = true)\n |-- CVotes07: integer (nullable = true)\n |-- CVotes06: integer (nullable = true)\n |-- CVotes05: integer (nullable = true)\n |-- CVotes04: integer (nullable = true)\n |-- CVotes03: integer (nullable = true)\n |-- CVotes02: integer (nullable = true)\n |-- CVotes01: integer (nullable = true)\n |-- CVotesMale: integer (nullable = true)\n |-- CVotesFemale: integer (nullable = true)\n |-- CVotesU18: integer (nullable = true)\n |-- CVotesU18M: integer (nullable = true)\n |-- CVotesU18F: integer (nullable = true)\n |-- CVotes1829: integer (nullable = true)\n |-- CVotes1829M: integer (nullable = true)\n |-- CVotes1829F: integer (nullable = true)\n |-- CVotes3044: integer (nullable = true)\n |-- CVotes3044M: integer (nullable = true)\n |-- CVotes3044F: integer (nullable = true)\n |-- CVotes45A: integer (nullable = true)\n |-- CVotes45AM: integer (nullable = true)\n |-- CVotes45AF: integer (nullable = true)\n |-- CVotes1000: integer (nullable = true)\n |-- CVotesUS: integer (nullable = true)\n |-- CVotesnUS: integer (nullable = true)\n |-- VotesM: double (nullable = true)\n |-- VotesF: double (nullable = true)\n |-- VotesU18: double (nullable = true)\n |-- VotesU18M: double (nullable = true)\n |-- VotesU18F: double (nullable = true)\n |-- Votes1829: double (nullable = true)\n |-- Votes1829M: double (nullable = true)\n |-- Votes1829F: double (nullable = true)\n |-- Votes3044: double (nullable = true)\n |-- Votes3044M: double (nullable = true)\n |-- Votes3044F: double (nullable = true)\n |-- Votes45A: double (nullable = true)\n |-- Votes45AM: double (nullable = true)\n |-- Votes45AF: double (nullable = true)\n |-- Votes1000: double (nullable = true)\n |-- VotesUS: double (nullable = true)\n |-- VotesnUS: double (nullable = true)\n |-- content_rating: string (nullable = true)\n |-- Country: string (nullable = true)\n |-- profit: double (nullable = true)\n\n"
     ]
    }
   ],
   "source": [
    "# Check the column-wise info of the dataframe\n",
    "movies.printSchema()\n",
    "\n",
    "\n"
   ]
  },
  {
   "cell_type": "code",
   "execution_count": 0,
   "metadata": {
    "application/vnd.databricks.v1+cell": {
     "cellMetadata": {
      "byteLimit": 2048000,
      "rowLimit": 10000
     },
     "inputWidgets": {},
     "nuid": "85239b7a-1c8e-4bfe-8488-68b6b3bc8117",
     "showTitle": false,
     "tableResultSettingsMap": {},
     "title": ""
    }
   },
   "outputs": [
    {
     "output_type": "stream",
     "name": "stdout",
     "output_type": "stream",
     "text": [
      "+-------+----------------+------------------+-------------------+-------------------+------------+------------+------------+----------------------+----------------------+----------------------+-----------------+-------+-------+---------+-----------------+------------------+-----------------+-----------------+-----------------+----------------+------------------+-----------------+-----------------+------------------+------------------+----------------+------------------+-----------------+------------------+------------------+------------------+------------------+-----------------+------------------+-----------------+-----------------+------------------+------------------+------------------+------------------+----------------+------------------+------------------+-------------------+-------------------+-------------------+------------------+-------------------+------------------+------------------+-------------------+-------------------+-------------------+-------------------+-------------------+-------------------+------------------+-------------------+-------------------+-------------------+--------------+---------+\n|summary|           Title|        title_year|             budget|              Gross|actor_1_name|actor_2_name|actor_3_name|actor_1_facebook_likes|actor_2_facebook_likes|actor_3_facebook_likes|      IMDb_rating|genre_1|genre_2|  genre_3|       MetaCritic|           Runtime|         CVotes10|         CVotes09|         CVotes08|        CVotes07|          CVotes06|         CVotes05|         CVotes04|          CVotes03|          CVotes02|        CVotes01|        CVotesMale|     CVotesFemale|         CVotesU18|        CVotesU18M|        CVotesU18F|        CVotes1829|      CVotes1829M|       CVotes1829F|       CVotes3044|      CVotes3044M|       CVotes3044F|         CVotes45A|        CVotes45AM|        CVotes45AF|      CVotes1000|          CVotesUS|         CVotesnUS|             VotesM|             VotesF|           VotesU18|         VotesU18M|          VotesU18F|         Votes1829|        Votes1829M|         Votes1829F|          Votes3044|         Votes3044M|         Votes3044F|           Votes45A|          Votes45AM|         Votes45AF|          Votes1000|            VotesUS|           VotesnUS|content_rating|  Country|\n+-------+----------------+------------------+-------------------+-------------------+------------+------------+------------+----------------------+----------------------+----------------------+-----------------+-------+-------+---------+-----------------+------------------+-----------------+-----------------+-----------------+----------------+------------------+-----------------+-----------------+------------------+------------------+----------------+------------------+-----------------+------------------+------------------+------------------+------------------+-----------------+------------------+-----------------+-----------------+------------------+------------------+------------------+------------------+----------------+------------------+------------------+-------------------+-------------------+-------------------+------------------+-------------------+------------------+------------------+-------------------+-------------------+-------------------+-------------------+-------------------+-------------------+------------------+-------------------+-------------------+-------------------+--------------+---------+\n|  count|             100|               100|                100|                100|         100|         100|         100|                   100|                    99|                    98|              100|    100|     97|       74|               95|               100|              100|              100|              100|             100|               100|              100|              100|               100|               100|             100|               100|              100|               100|               100|               100|               100|              100|               100|              100|              100|               100|               100|               100|               100|             100|               100|               100|                100|                100|                100|               100|                100|               100|               100|                100|                100|                100|                100|                100|                100|               100|                100|                100|                100|           100|      100|\n|   mean|            null|           2012.82|           7.8384E7|     1.4686786724E8|        null|        null|         0.0|              13407.27|      7377.30303030303|    3002.1530612244896|7.883000000000005|   null|   null|     null|78.25263157894737|            126.42|         73212.16|         92404.17|        125762.23|        76715.28|          27841.45|         10171.75|          4330.11|           2477.07|           1711.57|         4084.35|         271446.18|         64468.86|           1769.05|           1318.95|            435.66|         165863.77|        128473.14|          35739.71|         124561.1|        103437.92|          19371.54|          24170.16|          19653.26|           4093.53|          624.37|          54096.74|         188245.68|  7.852000000000001|  7.910000000000002|  8.205000000000002| 8.174000000000003|  8.214999999999998| 8.005000000000003| 8.005000000000003|  7.982000000000003|  7.731999999999997|  7.722999999999997|  7.780000000000004|              7.651|  7.623999999999996|              7.77| 7.2740000000000045|  7.958000000000003|  7.793000000000003|          null|     null|\n| stddev|            null|1.9194906731850856|7.445294727259466E7|1.454003701299839E8|        null|        null|        null|    10649.037862220703|    13471.568215799898|     6940.301133358087|0.247433288631971|   null|   null|     null| 9.12206632649366|19.050798652364403|82669.59474649609|75666.91877451727|62162.75248118826|32586.3586238974|12883.912563226615|5480.914204092805|2713.608901556387|1768.1675057482078|1318.6311639596781|3489.77840277933|167658.01570575597|39117.95482792519|1324.5228176382782|1040.9593610771465|366.49999572808576|103522.93235555117|83188.72525721016|23092.041366466634|72089.24535860907|61116.37472683659|11324.680698261465|12841.696512831812|10669.041306338804|2187.9556550775565|133.244262294267|32115.288161707263|106902.25634661589|0.26303588878303064|0.29831174799175847|0.30595932917809704|0.3580587390443929|0.38148434178915297|0.2716857215849435|0.2819037015892069|0.32141731582024435|0.25181362355937187|0.26047935609083295|0.28212755908623965|0.21485019446257456|0.21325756230152285|0.3013437917198243|0.36198666195640855|0.23232683352500996|0.26409938441519476|          null|     null|\n|    min|12 Years a Slave|              2010|            3000000|             223838|Aidan Turner|  Adam Brown|           0|                    39|                    12|                     0|              7.5| Action| Action|Adventure|               62|                91|             6420|             7321|            11668|            8558|              3370|             1162|              456|               227|               158|             293|             22441|             9552|               121|                95|                20|             15959|            10150|              4370|            12174|             9280|              2682|              1899|              1496|               355|             198|              3678|             19009|                7.4|                7.3|                7.5|               7.4|                7.2|               7.6|               7.6|                7.3|                7.3|                7.2|                7.2|                7.1|                7.1|               7.0|                6.4|                7.5|                7.3|             G|Australia|\n|    max|        Zootopia|              2016|          260000000|          936662225|  Tom Hughes|Will Ferrell|ZoÃ« Kravitz|                 35000|                 96000|                 46000|              8.8|Mystery|Western|  Western|              100|               180|           584839|           485218|           304457|          162604|             67579|            27957|            12286|              7868|              5751|           15768|           1044318|           239796|              5735|              4596|              1910|            655187|           512411|            136770|           472680|           392845|             73555|             79634|             65508|             12795|             885|            212524|            707266|                8.8|                8.7|                9.1|               9.1|                9.0|               9.0|               9.0|                8.8|                8.7|                8.7|                8.5|                8.1|                8.1|               8.5|                8.2|                8.7|                8.8|             R|      USA|\n+-------+----------------+------------------+-------------------+-------------------+------------+------------+------------+----------------------+----------------------+----------------------+-----------------+-------+-------+---------+-----------------+------------------+-----------------+-----------------+-----------------+----------------+------------------+-----------------+-----------------+------------------+------------------+----------------+------------------+-----------------+------------------+------------------+------------------+------------------+-----------------+------------------+-----------------+-----------------+------------------+------------------+------------------+------------------+----------------+------------------+------------------+-------------------+-------------------+-------------------+------------------+-------------------+------------------+------------------+-------------------+-------------------+-------------------+-------------------+-------------------+-------------------+------------------+-------------------+-------------------+-------------------+--------------+---------+\n\n"
     ]
    }
   ],
   "source": [
    "# Check the summary for the numeric columns \n",
    "movies.describe().show()\n",
    "\n"
   ]
  },
  {
   "cell_type": "markdown",
   "metadata": {
    "application/vnd.databricks.v1+cell": {
     "cellMetadata": {},
     "inputWidgets": {},
     "nuid": "dad97ba9-9922-4d75-a63d-844a5bdb6f77",
     "showTitle": false,
     "tableResultSettingsMap": {},
     "title": ""
    }
   },
   "source": [
    "## Task 2: Data Analysis\n",
    "\n",
    "Now that we have loaded the dataset and inspected it, we see that most of the data is in place. As of now, no data cleaning is required, so let's start with some data manipulation, analysis, and visualisation to get various insights about the data. "
   ]
  },
  {
   "cell_type": "markdown",
   "metadata": {
    "application/vnd.databricks.v1+cell": {
     "cellMetadata": {},
     "inputWidgets": {},
     "nuid": "cb4909a5-d7e9-4665-883f-f917e1414af9",
     "showTitle": false,
     "tableResultSettingsMap": {},
     "title": ""
    }
   },
   "source": [
    "-  ###  Subtask 2.1: Reduce those Digits!\n",
    "\n",
    "These numbers in the `budget` and `gross` are too big, compromising its readability. Let's convert the unit of the `budget` and `gross` columns from `$` to `million $` first."
   ]
  },
  {
   "cell_type": "code",
   "execution_count": 0,
   "metadata": {
    "application/vnd.databricks.v1+cell": {
     "cellMetadata": {
      "byteLimit": 2048000,
      "rowLimit": 10000
     },
     "inputWidgets": {},
     "nuid": "3a2ceab2-24a7-482e-a55a-3e92b54d6925",
     "showTitle": false,
     "tableResultSettingsMap": {},
     "title": ""
    }
   },
   "outputs": [],
   "source": [
    "# Divide the 'gross' and 'budget' columns by 1000000 to convert '$' to 'million $'\n",
    "from pyspark.sql.functions import col, desc, year, to_date\n",
    "\n",
    "movies = movies.withColumn(\"gross\", col(\"gross\") / 1_000_000)\n",
    "movies = movies.withColumn(\"budget\", col(\"budget\") / 1_000_000)\n"
   ]
  },
  {
   "cell_type": "code",
   "execution_count": 0,
   "metadata": {
    "application/vnd.databricks.v1+cell": {
     "cellMetadata": {
      "byteLimit": 2048000,
      "rowLimit": 10000
     },
     "inputWidgets": {},
     "nuid": "07dfada7-2fff-4a4c-94b8-b19bd3a0f26a",
     "showTitle": false,
     "tableResultSettingsMap": {},
     "title": ""
    }
   },
   "outputs": [
    {
     "output_type": "stream",
     "name": "stdout",
     "output_type": "stream",
     "text": [
      "Out[42]: Row(Title='La La Land', title_year=2016, budget=30.0, gross=151.101803, actor_1_name='Ryan Gosling', actor_2_name='Emma Stone', actor_3_name='Amiée Conn', actor_1_facebook_likes=14000, actor_2_facebook_likes=19000, actor_3_facebook_likes=None, IMDb_rating=8.2, genre_1='Comedy', genre_2='Drama', genre_3='Music', MetaCritic=93, Runtime=128, CVotes10=74245, CVotes09=71191, CVotes08=64640, CVotes07=38831, CVotes06=17377, CVotes05=8044, CVotes04=3998, CVotes03=2839, CVotes02=2407, CVotes01=6802, CVotesMale=157693, CVotesFemale=56713, CVotesU18=2675, CVotesU18M=1784, CVotesU18F=868, CVotes1829=113008, CVotes1829M=78998, CVotes1829F=32730, CVotes3044=66058, CVotes3044M=50835, CVotes3044F=14165, CVotes45A=15765, CVotes45AM=12148, CVotes45AF=3302, CVotes1000=454, CVotesUS=33360, CVotesnUS=117987, VotesM=8.2, VotesF=8.1, VotesU18=8.9, VotesU18M=9.0, VotesU18F=8.7, Votes1829=8.4, Votes1829M=8.4, Votes1829F=8.2, Votes3044=7.9, Votes3044M=7.9, Votes3044F=7.8, Votes45A=7.6, Votes45AM=7.6, Votes45AF=7.5, Votes1000=7.1, VotesUS=8.3, VotesnUS=8.1, content_rating='PG-13', Country='USA')"
     ]
    }
   ],
   "source": [
    "movies.head()"
   ]
  },
  {
   "cell_type": "markdown",
   "metadata": {
    "application/vnd.databricks.v1+cell": {
     "cellMetadata": {},
     "inputWidgets": {},
     "nuid": "61614000-bf86-473f-9e1e-81cc9fe8228c",
     "showTitle": false,
     "tableResultSettingsMap": {},
     "title": ""
    }
   },
   "source": [
    "-  ###  Subtask 2.2: Let's Talk Profit!\n",
    "\n",
    "    1. Create a new column called `profit` which contains the difference of the two columns: `gross` and `budget`.\n",
    "    2. Sort the dataframe using the `profit` column as reference.\n",
    "    3. Extract the top ten profiting movies in descending order and store them in a new dataframe - `top10`.\n",
    "    4. Plot a scatter or a joint plot between the columns `budget` and `profit` and write a few words on what you observed.\n",
    "    5. Extract the movies with a negative profit and store them in a new dataframe - `neg_profit`"
   ]
  },
  {
   "cell_type": "code",
   "execution_count": 0,
   "metadata": {
    "application/vnd.databricks.v1+cell": {
     "cellMetadata": {
      "byteLimit": 2048000,
      "rowLimit": 10000
     },
     "inputWidgets": {},
     "nuid": "6f2b4c8a-9457-4b59-99ad-50473cf345aa",
     "showTitle": false,
     "tableResultSettingsMap": {},
     "title": ""
    }
   },
   "outputs": [],
   "source": [
    "# Create the new column named 'profit' by subtracting the 'budget' column from the 'gross' column\n",
    "\n",
    "movies = movies.withColumn(\"profit\", col(\"gross\") - col(\"budget\"))\n",
    "\n"
   ]
  },
  {
   "cell_type": "code",
   "execution_count": 0,
   "metadata": {
    "application/vnd.databricks.v1+cell": {
     "cellMetadata": {
      "byteLimit": 2048000,
      "rowLimit": 10000
     },
     "inputWidgets": {},
     "nuid": "602938d1-f4cc-49bc-a88f-f2cd47a34ce0",
     "showTitle": false,
     "tableResultSettingsMap": {},
     "title": ""
    }
   },
   "outputs": [],
   "source": [
    "# Sort the dataframe with the 'profit' column as reference using the 'sort_values' function. Make sure to set the argument\n",
    "\n",
    "movies = movies.orderBy(col(\"profit\").desc())\n",
    "\n",
    "\n"
   ]
  },
  {
   "cell_type": "code",
   "execution_count": 0,
   "metadata": {
    "application/vnd.databricks.v1+cell": {
     "cellMetadata": {
      "byteLimit": 2048000,
      "rowLimit": 10000
     },
     "inputWidgets": {},
     "nuid": "1d80ed35-efcd-4b7c-ac03-53b7ed816cc0",
     "showTitle": false,
     "tableResultSettingsMap": {},
     "title": ""
    }
   },
   "outputs": [
    {
     "output_type": "display_data",
     "data": {
      "text/html": [
       "<style scoped>\n",
       "  .table-result-container {\n",
       "    max-height: 300px;\n",
       "    overflow: auto;\n",
       "  }\n",
       "  table, th, td {\n",
       "    border: 1px solid black;\n",
       "    border-collapse: collapse;\n",
       "  }\n",
       "  th, td {\n",
       "    padding: 5px;\n",
       "  }\n",
       "  th {\n",
       "    text-align: left;\n",
       "  }\n",
       "</style><div class='table-result-container'><table class='table-result'><thead style='background-color: white'><tr><th>Title</th><th>title_year</th><th>gross</th><th>budget</th><th>profit</th></tr></thead><tbody><tr><td>Star Wars: Episode VII - The Force Awakens</td><td>2015</td><td>936.662225</td><td>245.0</td><td>691.662225</td></tr><tr><td>The Avengers</td><td>2012</td><td>623.279547</td><td>220.0</td><td>403.279547</td></tr><tr><td>Deadpool</td><td>2016</td><td>363.024263</td><td>58.0</td><td>305.024263</td></tr><tr><td>The Hunger Games: Catching Fire</td><td>2013</td><td>424.645577</td><td>130.0</td><td>294.645577</td></tr><tr><td>Toy Story 3</td><td>2010</td><td>414.984497</td><td>200.0</td><td>214.98449699999998</td></tr><tr><td>The Dark Knight Rises</td><td>2012</td><td>448.130642</td><td>250.0</td><td>198.13064200000002</td></tr><tr><td>The Lego Movie</td><td>2014</td><td>257.756197</td><td>60.0</td><td>197.756197</td></tr><tr><td>Zootopia</td><td>2016</td><td>341.268248</td><td>150.0</td><td>191.26824800000003</td></tr><tr><td>Despicable Me</td><td>2010</td><td>251.501645</td><td>69.0</td><td>182.501645</td></tr><tr><td>Inside Out</td><td>2015</td><td>356.454367</td><td>175.0</td><td>181.454367</td></tr></tbody></table></div>"
      ]
     },
     "metadata": {
      "application/vnd.databricks.v1+output": {
       "addedWidgets": {},
       "aggData": [],
       "aggError": "",
       "aggOverflow": false,
       "aggSchema": [],
       "aggSeriesLimitReached": false,
       "aggType": "",
       "arguments": {},
       "columnCustomDisplayInfos": {},
       "data": [
        [
         "Star Wars: Episode VII - The Force Awakens",
         2015,
         936.662225,
         245.0,
         691.662225
        ],
        [
         "The Avengers",
         2012,
         623.279547,
         220.0,
         403.279547
        ],
        [
         "Deadpool",
         2016,
         363.024263,
         58.0,
         305.024263
        ],
        [
         "The Hunger Games: Catching Fire",
         2013,
         424.645577,
         130.0,
         294.645577
        ],
        [
         "Toy Story 3",
         2010,
         414.984497,
         200.0,
         214.98449699999998
        ],
        [
         "The Dark Knight Rises",
         2012,
         448.130642,
         250.0,
         198.13064200000002
        ],
        [
         "The Lego Movie",
         2014,
         257.756197,
         60.0,
         197.756197
        ],
        [
         "Zootopia",
         2016,
         341.268248,
         150.0,
         191.26824800000003
        ],
        [
         "Despicable Me",
         2010,
         251.501645,
         69.0,
         182.501645
        ],
        [
         "Inside Out",
         2015,
         356.454367,
         175.0,
         181.454367
        ]
       ],
       "datasetInfos": [],
       "dbfsResultPath": null,
       "isJsonSchema": true,
       "metadata": {},
       "overflow": false,
       "plotOptions": {
        "customPlotOptions": {},
        "displayType": "table",
        "pivotAggregation": null,
        "pivotColumns": null,
        "xColumns": null,
        "yColumns": null
       },
       "removedWidgets": [],
       "schema": [
        {
         "metadata": "{}",
         "name": "Title",
         "type": "\"string\""
        },
        {
         "metadata": "{}",
         "name": "title_year",
         "type": "\"integer\""
        },
        {
         "metadata": "{}",
         "name": "gross",
         "type": "\"double\""
        },
        {
         "metadata": "{}",
         "name": "budget",
         "type": "\"double\""
        },
        {
         "metadata": "{}",
         "name": "profit",
         "type": "\"double\""
        }
       ],
       "type": "table"
      }
     },
     "output_type": "display_data"
    }
   ],
   "source": [
    "# Get the top 10 profitable movies by using position based indexing. Specify the rows till 10 (0-9)\n",
    "\n",
    "top_10_profitable = movies.limit(10)\n",
    "top_10_profitable.select(\"Title\", \"title_year\", \"gross\", \"budget\", \"profit\").display()\n",
    "\n",
    "\n"
   ]
  },
  {
   "cell_type": "code",
   "execution_count": 0,
   "metadata": {
    "application/vnd.databricks.v1+cell": {
     "cellMetadata": {
      "byteLimit": 2048000,
      "rowLimit": 10000
     },
     "inputWidgets": {},
     "nuid": "0c4f81b8-ead6-4959-ae72-abdfd007368e",
     "showTitle": false,
     "tableResultSettingsMap": {},
     "title": ""
    }
   },
   "outputs": [
    {
     "output_type": "display_data",
     "data": {
      "text/html": [
       "<style scoped>\n",
       "  .table-result-container {\n",
       "    max-height: 300px;\n",
       "    overflow: auto;\n",
       "  }\n",
       "  table, th, td {\n",
       "    border: 1px solid black;\n",
       "    border-collapse: collapse;\n",
       "  }\n",
       "  th, td {\n",
       "    padding: 5px;\n",
       "  }\n",
       "  th {\n",
       "    text-align: left;\n",
       "  }\n",
       "</style><div class='table-result-container'><table class='table-result'><thead style='background-color: white'><tr><th>budget</th><th>profit</th></tr></thead><tbody><tr><td>245.0</td><td>691.662225</td></tr><tr><td>220.0</td><td>403.279547</td></tr><tr><td>58.0</td><td>305.024263</td></tr><tr><td>130.0</td><td>294.645577</td></tr><tr><td>200.0</td><td>214.98449699999998</td></tr><tr><td>250.0</td><td>198.13064200000002</td></tr><tr><td>60.0</td><td>197.756197</td></tr><tr><td>150.0</td><td>191.26824800000003</td></tr><tr><td>69.0</td><td>182.501645</td></tr><tr><td>175.0</td><td>181.454367</td></tr><tr><td>100.0</td><td>174.084951</td></tr><tr><td>170.0</td><td>163.130696</td></tr><tr><td>250.0</td><td>157.19728199999997</td></tr><tr><td>150.0</td><td>146.34772099999998</td></tr><tr><td>25.0</td><td>144.705587</td></tr><tr><td>38.0</td><td>133.031347</td></tr><tr><td>28.0</td><td>133.02927</td></tr><tr><td>160.0</td><td>132.568851</td></tr><tr><td>15.0</td><td>123.795342</td></tr><tr><td>180.0</td><td>123.00122900000002</td></tr><tr><td>30.0</td><td>121.10180299999999</td></tr><tr><td>108.0</td><td>120.430993</td></tr><tr><td>12.0</td><td>112.868837</td></tr><tr><td>21.0</td><td>111.08891</td></tr><tr><td>61.0</td><td>106.73539600000001</td></tr><tr><td>200.0</td><td>104.360277</td></tr><tr><td>13.0</td><td>93.952327</td></tr><tr><td>44.5</td><td>91.51944800000001</td></tr><tr><td>170.0</td><td>89.746958</td></tr><tr><td>61.0</td><td>87.77546000000001</td></tr><tr><td>40.0</td><td>85.069696</td></tr><tr><td>93.0</td><td>83.74064999999999</td></tr><tr><td>14.0</td><td>77.121452</td></tr><tr><td>35.0</td><td>74.712885</td></tr><tr><td>25.0</td><td>68.571803</td></tr><tr><td>165.0</td><td>67.64192</td></tr><tr><td>100.0</td><td>62.804647999999986</td></tr><tr><td>165.0</td><td>57.48771099999999</td></tr><tr><td>40.0</td><td>56.917896999999996</td></tr><tr><td>37.0</td><td>55.173235000000005</td></tr><tr><td>47.0</td><td>53.546139</td></tr><tr><td>165.0</td><td>52.38799700000001</td></tr><tr><td>55.0</td><td>52.100854999999996</td></tr><tr><td>135.0</td><td>48.635921999999994</td></tr><tr><td>80.0</td><td>47.968405000000004</td></tr><tr><td>28.0</td><td>42.235322</td></tr><tr><td>17.0</td><td>39.816662</td></tr><tr><td>12.0</td><td>39.738905</td></tr><tr><td>190.0</td><td>38.75623200000001</td></tr><tr><td>9.0</td><td>38.695371</td></tr><tr><td>170.0</td><td>38.54379499999999</td></tr><tr><td>20.0</td><td>36.66787</td></tr><tr><td>25.0</td><td>34.073773</td></tr><tr><td>7.0</td><td>33.983001</td></tr><tr><td>200.0</td><td>33.914986</td></tr><tr><td>225.0</td><td>33.35535399999998</td></tr><tr><td>40.0</td><td>32.306065000000004</td></tr><tr><td>145.0</td><td>31.997107</td></tr><tr><td>15.0</td><td>29.667095000000003</td></tr><tr><td>16.0</td><td>29.507053</td></tr><tr><td>8.0</td><td>26.963966999999997</td></tr><tr><td>12.0</td><td>25.707718999999997</td></tr><tr><td>50.0</td><td>25.605491999999998</td></tr><tr><td>20.0</td><td>24.98818</td></tr><tr><td>165.0</td><td>24.412677000000002</td></tr><tr><td>18.0</td><td>24.335698</td></tr><tr><td>8.5</td><td>23.779955</td></tr><tr><td>165.0</td><td>22.991439000000014</td></tr><tr><td>5.0</td><td>22.296514</td></tr><tr><td>4.0</td><td>21.3592</td></tr><tr><td>15.0</td><td>20.887262999999997</td></tr><tr><td>15.0</td><td>20.054909000000002</td></tr><tr><td>30.0</td><td>18.043505000000003</td></tr><tr><td>68.0</td><td>17.707116</td></tr><tr><td>30.0</td><td>16.875467999999998</td></tr><tr><td>100.0</td><td>16.866726999999997</td></tr><tr><td>12.0</td><td>15.007843999999999</td></tr><tr><td>46.0</td><td>14.962878000000003</td></tr><tr><td>90.0</td><td>12.515793000000002</td></tr><tr><td>15.0</td><td>10.440971000000001</td></tr><tr><td>3.3</td><td>9.792000000000002</td></tr><tr><td>12.0</td><td>5.61346</td></tr><tr><td>3.0</td><td>5.114507</td></tr><tr><td>13.0</td><td>4.738569999999999</td></tr><tr><td>150.0</td><td>3.6294849999999883</td></tr><tr><td>12.0</td><td>3.2945530000000005</td></tr><tr><td>23.0</td><td>2.5560650000000003</td></tr><tr><td>19.0</td><td>2.483153999999999</td></tr><tr><td>18.0</td><td>0.32946600000000004</td></tr><tr><td>5.0</td><td>-4.776162</td></tr><tr><td>8.9</td><td>-8.674623</td></tr><tr><td>38.0</td><td>-11.096291</td></tr><tr><td>25.0</td><td>-11.348338</td></tr><tr><td>14.0</td><td>-12.247786</td></tr><tr><td>160.0</td><td>-13.594628999999998</td></tr><tr><td>60.0</td><td>-28.50573</td></tr><tr><td>260.0</td><td>-59.19273799999999</td></tr><tr><td>178.0</td><td>-77.810499</td></tr><tr><td>81.2</td><td>-79.860848</td></tr><tr><td>170.0</td><td>-96.179906</td></tr></tbody></table></div>"
      ]
     },
     "metadata": {
      "application/vnd.databricks.v1+output": {
       "addedWidgets": {},
       "aggData": [],
       "aggError": "",
       "aggOverflow": false,
       "aggSchema": [],
       "aggSeriesLimitReached": false,
       "aggType": "",
       "arguments": {},
       "columnCustomDisplayInfos": {},
       "data": [
        [
         245.0,
         691.662225
        ],
        [
         220.0,
         403.279547
        ],
        [
         58.0,
         305.024263
        ],
        [
         130.0,
         294.645577
        ],
        [
         200.0,
         214.98449699999998
        ],
        [
         250.0,
         198.13064200000002
        ],
        [
         60.0,
         197.756197
        ],
        [
         150.0,
         191.26824800000003
        ],
        [
         69.0,
         182.501645
        ],
        [
         175.0,
         181.454367
        ],
        [
         100.0,
         174.084951
        ],
        [
         170.0,
         163.130696
        ],
        [
         250.0,
         157.19728199999997
        ],
        [
         150.0,
         146.34772099999998
        ],
        [
         25.0,
         144.705587
        ],
        [
         38.0,
         133.031347
        ],
        [
         28.0,
         133.02927
        ],
        [
         160.0,
         132.568851
        ],
        [
         15.0,
         123.795342
        ],
        [
         180.0,
         123.00122900000002
        ],
        [
         30.0,
         121.10180299999999
        ],
        [
         108.0,
         120.430993
        ],
        [
         12.0,
         112.868837
        ],
        [
         21.0,
         111.08891
        ],
        [
         61.0,
         106.73539600000001
        ],
        [
         200.0,
         104.360277
        ],
        [
         13.0,
         93.952327
        ],
        [
         44.5,
         91.51944800000001
        ],
        [
         170.0,
         89.746958
        ],
        [
         61.0,
         87.77546000000001
        ],
        [
         40.0,
         85.069696
        ],
        [
         93.0,
         83.74064999999999
        ],
        [
         14.0,
         77.121452
        ],
        [
         35.0,
         74.712885
        ],
        [
         25.0,
         68.571803
        ],
        [
         165.0,
         67.64192
        ],
        [
         100.0,
         62.804647999999986
        ],
        [
         165.0,
         57.48771099999999
        ],
        [
         40.0,
         56.917896999999996
        ],
        [
         37.0,
         55.173235000000005
        ],
        [
         47.0,
         53.546139
        ],
        [
         165.0,
         52.38799700000001
        ],
        [
         55.0,
         52.100854999999996
        ],
        [
         135.0,
         48.635921999999994
        ],
        [
         80.0,
         47.968405000000004
        ],
        [
         28.0,
         42.235322
        ],
        [
         17.0,
         39.816662
        ],
        [
         12.0,
         39.738905
        ],
        [
         190.0,
         38.75623200000001
        ],
        [
         9.0,
         38.695371
        ],
        [
         170.0,
         38.54379499999999
        ],
        [
         20.0,
         36.66787
        ],
        [
         25.0,
         34.073773
        ],
        [
         7.0,
         33.983001
        ],
        [
         200.0,
         33.914986
        ],
        [
         225.0,
         33.35535399999998
        ],
        [
         40.0,
         32.306065000000004
        ],
        [
         145.0,
         31.997107
        ],
        [
         15.0,
         29.667095000000003
        ],
        [
         16.0,
         29.507053
        ],
        [
         8.0,
         26.963966999999997
        ],
        [
         12.0,
         25.707718999999997
        ],
        [
         50.0,
         25.605491999999998
        ],
        [
         20.0,
         24.98818
        ],
        [
         165.0,
         24.412677000000002
        ],
        [
         18.0,
         24.335698
        ],
        [
         8.5,
         23.779955
        ],
        [
         165.0,
         22.991439000000014
        ],
        [
         5.0,
         22.296514
        ],
        [
         4.0,
         21.3592
        ],
        [
         15.0,
         20.887262999999997
        ],
        [
         15.0,
         20.054909000000002
        ],
        [
         30.0,
         18.043505000000003
        ],
        [
         68.0,
         17.707116
        ],
        [
         30.0,
         16.875467999999998
        ],
        [
         100.0,
         16.866726999999997
        ],
        [
         12.0,
         15.007843999999999
        ],
        [
         46.0,
         14.962878000000003
        ],
        [
         90.0,
         12.515793000000002
        ],
        [
         15.0,
         10.440971000000001
        ],
        [
         3.3,
         9.792000000000002
        ],
        [
         12.0,
         5.61346
        ],
        [
         3.0,
         5.114507
        ],
        [
         13.0,
         4.738569999999999
        ],
        [
         150.0,
         3.6294849999999883
        ],
        [
         12.0,
         3.2945530000000005
        ],
        [
         23.0,
         2.5560650000000003
        ],
        [
         19.0,
         2.483153999999999
        ],
        [
         18.0,
         0.32946600000000004
        ],
        [
         5.0,
         -4.776162
        ],
        [
         8.9,
         -8.674623
        ],
        [
         38.0,
         -11.096291
        ],
        [
         25.0,
         -11.348338
        ],
        [
         14.0,
         -12.247786
        ],
        [
         160.0,
         -13.594628999999998
        ],
        [
         60.0,
         -28.50573
        ],
        [
         260.0,
         -59.19273799999999
        ],
        [
         178.0,
         -77.810499
        ],
        [
         81.2,
         -79.860848
        ],
        [
         170.0,
         -96.179906
        ]
       ],
       "datasetInfos": [],
       "dbfsResultPath": null,
       "isJsonSchema": true,
       "metadata": {},
       "overflow": false,
       "plotOptions": {
        "customPlotOptions": {},
        "displayType": "table",
        "pivotAggregation": null,
        "pivotColumns": null,
        "xColumns": null,
        "yColumns": null
       },
       "removedWidgets": [],
       "schema": [
        {
         "metadata": "{}",
         "name": "budget",
         "type": "\"double\""
        },
        {
         "metadata": "{}",
         "name": "profit",
         "type": "\"double\""
        }
       ],
       "type": "table"
      }
     },
     "output_type": "display_data"
    },
    {
     "output_type": "display_data",
     "data": {
      "text/plain": [
       "Databricks visualization. Run in Databricks to view."
      ]
     },
     "metadata": {
      "application/vnd.databricks.v1.subcommand+json": {
       "baseErrorDetails": null,
       "bindings": {},
       "collapsed": false,
       "command": "%python\n__backend_agg_display_orig = display\n__backend_agg_dfs = []\ndef __backend_agg_display_new(df):\n    __backend_agg_df_modules = [\"pandas.core.frame\", \"databricks.koalas.frame\", \"pyspark.sql.dataframe\", \"pyspark.pandas.frame\", \"pyspark.sql.connect.dataframe\"]\n    if (type(df).__module__ in __backend_agg_df_modules and type(df).__name__ == 'DataFrame') or isinstance(df, list):\n        __backend_agg_dfs.append(df)\n\ndisplay = __backend_agg_display_new\n\ndef __backend_agg_user_code_fn():\n    import base64\n    exec(base64.standard_b64decode(\"I1Bsb3QgcHJvZml0IHZzIGJ1ZGdldCB1c2luZyBzY2F0dGVycGxvdAoKZGlzcGxheShtb3ZpZXMuc2VsZWN0KCJidWRnZXQiLCAicHJvZml0IikpCgo=\").decode())\n\ntry:\n    # run user code\n    __backend_agg_user_code_fn()\n\n    #reset display function\n    display = __backend_agg_display_orig\n\n    if len(__backend_agg_dfs) > 0:\n        # create a temp view\n        if type(__backend_agg_dfs[0]).__module__ == \"databricks.koalas.frame\":\n            # koalas dataframe\n            __backend_agg_dfs[0].to_spark().createOrReplaceTempView(\"DatabricksViewce826a5\")\n        elif type(__backend_agg_dfs[0]).__module__ == \"pandas.core.frame\" or isinstance(__backend_agg_dfs[0], list):\n            # pandas dataframe\n            spark.createDataFrame(__backend_agg_dfs[0]).createOrReplaceTempView(\"DatabricksViewce826a5\")\n        else:\n            __backend_agg_dfs[0].createOrReplaceTempView(\"DatabricksViewce826a5\")\n        #run backend agg\n        display(spark.sql(\"\"\"WITH q AS (select * from DatabricksViewce826a5) SELECT `budget`,`profit` FROM q\"\"\"))\n    else:\n        displayHTML(\"dataframe no longer exists. If you're using dataframe.display(), use display(dataframe) instead.\")\n\n\nfinally:\n    spark.sql(\"drop view if exists DatabricksViewce826a5\")\n    display = __backend_agg_display_orig\n    del __backend_agg_display_new\n    del __backend_agg_display_orig\n    del __backend_agg_dfs\n    del __backend_agg_user_code_fn\n\n",
       "commandTitle": "Visualization 1",
       "commandType": "auto",
       "commandVersion": 0,
       "commentThread": [],
       "commentsVisible": false,
       "contentSha256Hex": null,
       "customPlotOptions": {
        "redashChart": [
         {
          "key": "type",
          "value": "CHART"
         },
         {
          "key": "options",
          "value": {
           "alignYAxesAtZero": true,
           "coefficient": 1,
           "columnConfigurationMap": {
            "x": {
             "column": "budget",
             "id": "column_b0cb5eb22206"
            },
            "y": [
             {
              "column": "profit",
              "id": "column_b0cb5eb22207"
             }
            ]
           },
           "dateTimeFormat": "DD/MM/YYYY HH:mm",
           "direction": {
            "type": "counterclockwise"
           },
           "error_y": {
            "type": "data",
            "visible": true
           },
           "globalSeriesType": "scatter",
           "legend": {
            "traceorder": "normal"
           },
           "missingValuesAsZero": true,
           "numberFormat": "0,0.[00000]",
           "percentFormat": "0[.]00%",
           "series": {
            "error_y": {
             "type": "data",
             "visible": true
            },
            "stacking": null
           },
           "seriesOptions": {
            "column_b0cb5eb22207": {
             "name": "profit",
             "yAxis": 0
            }
           },
           "showDataLabels": false,
           "sizemode": "diameter",
           "sortX": true,
           "sortY": true,
           "swappedAxes": false,
           "textFormat": "",
           "useAggregationsUi": true,
           "valuesOptions": {},
           "version": 2,
           "xAxis": {
            "labels": {
             "enabled": true
            },
            "type": "-"
           },
           "yAxis": [
            {
             "type": "-"
            },
            {
             "opposite": true,
             "type": "-"
            }
           ]
          }
         }
        ]
       },
       "datasetPreviewNameToCmdIdMap": {},
       "diffDeletes": [],
       "diffInserts": [],
       "displayType": "redashChart",
       "error": null,
       "errorDetails": null,
       "errorSummary": null,
       "errorTraceType": null,
       "finishTime": 0,
       "globalVars": {},
       "guid": "",
       "height": "auto",
       "hideCommandCode": false,
       "hideCommandResult": false,
       "iPythonMetadata": null,
       "inputWidgets": {},
       "isLockedInExamMode": false,
       "latestUser": "a user",
       "latestUserId": null,
       "listResultMetadata": null,
       "metadata": {},
       "nuid": "caaf9ce6-8d8f-48b1-9ba9-69da808308ac",
       "origId": 0,
       "parentHierarchy": [],
       "pivotAggregation": null,
       "pivotColumns": null,
       "position": 20.0,
       "resultDbfsErrorMessage": null,
       "resultDbfsStatus": "INLINED_IN_TREE",
       "results": null,
       "showCommandTitle": false,
       "startTime": 0,
       "state": "input",
       "streamStates": {},
       "subcommandOptions": {
        "queryPlan": {
         "selects": [
          {
           "column": "budget",
           "type": "column"
          },
          {
           "column": "profit",
           "type": "column"
          }
         ]
        }
       },
       "submitTime": 0,
       "subtype": "tableResultSubCmd.visualization",
       "tableResultIndex": 0,
       "tableResultSettingsMap": {},
       "useConsistentColors": false,
       "version": "CommandV1",
       "width": "auto",
       "workflows": [],
       "xColumns": null,
       "yColumns": null
      }
     },
     "output_type": "display_data"
    }
   ],
   "source": [
    "#Plot profit vs budget using scatterplot\n",
    "\n",
    "display(movies.select(\"budget\", \"profit\"))\n",
    "\n"
   ]
  },
  {
   "cell_type": "markdown",
   "metadata": {
    "application/vnd.databricks.v1+cell": {
     "cellMetadata": {},
     "inputWidgets": {},
     "nuid": "bdb5bfbc-1370-4bcd-9e22-e67b0843dff4",
     "showTitle": false,
     "tableResultSettingsMap": {},
     "title": ""
    }
   },
   "source": [
    "The dataset contains the 100 best performing movies from the year 2010 to 2016. However scatter plot tells a different story. You can notice that there are some movies with negative profit. Although good movies do incur losses, but there appear to be quite a few movie with losses. What can be the reason behind this? Lets have a closer look at this by finding the movies with negative profit."
   ]
  },
  {
   "cell_type": "code",
   "execution_count": 0,
   "metadata": {
    "application/vnd.databricks.v1+cell": {
     "cellMetadata": {
      "byteLimit": 2048000,
      "rowLimit": 10000
     },
     "inputWidgets": {},
     "nuid": "e62de634-6276-4cb3-9c07-4a8707b2e14d",
     "showTitle": false,
     "tableResultSettingsMap": {},
     "title": ""
    }
   },
   "outputs": [
    {
     "output_type": "stream",
     "name": "stdout",
     "output_type": "stream",
     "text": [
      "+---------------------------+-------------------+\n|Title                      |profit             |\n+---------------------------+-------------------+\n|Tucker and Dale vs Evil    |-4.776162          |\n|Amour                      |-8.674623          |\n|Rush                       |-11.096291         |\n|Warrior                    |-11.348338         |\n|Flipped                    |-12.247786         |\n|X-Men: First Class         |-13.594628999999998|\n|Scott Pilgrim vs. the World|-28.50573          |\n|Tangled                    |-59.19273799999999 |\n|Edge of Tomorrow           |-77.810499         |\n|The Little Prince          |-79.860848         |\n|Hugo                       |-96.179906         |\n+---------------------------+-------------------+\n\n"
     ]
    }
   ],
   "source": [
    "#Find the movies with negative profit\n",
    "\n",
    "negative_profit_movies = movies.filter(col(\"profit\") < 0)\n",
    "negative_profit_movies.select(\"Title\", \"profit\").show(truncate=False)\n",
    "\n",
    "\n"
   ]
  },
  {
   "cell_type": "markdown",
   "metadata": {
    "application/vnd.databricks.v1+cell": {
     "cellMetadata": {},
     "inputWidgets": {},
     "nuid": "95302c99-8846-4033-968b-f274946f7210",
     "showTitle": false,
     "tableResultSettingsMap": {},
     "title": ""
    }
   },
   "source": [
    "**`Checkpoint 1:`** Can you spot the movie `Tangled` in the dataset? You may be aware of the movie 'Tangled'. Although its one of the highest grossing movies of all time, it has negative profit as per this result. If you cross check the gross values of this movie (link: https://www.imdb.com/title/tt0398286/), you can see that the gross in the dataset accounts only for the domestic gross and not the worldwide gross. This is true for may other movies also in the list."
   ]
  },
  {
   "cell_type": "markdown",
   "metadata": {
    "application/vnd.databricks.v1+cell": {
     "cellMetadata": {},
     "inputWidgets": {},
     "nuid": "1dcadab9-217d-4dab-856b-f56e8154da36",
     "showTitle": false,
     "tableResultSettingsMap": {},
     "title": ""
    }
   },
   "source": [
    "- ### Subtask 2.3: The General Audience and the Critics\n",
    "\n",
    "You might have noticed the column `MetaCritic` in this dataset. This is a very popular website where an average score is determined through the scores given by the top-rated critics. Second, you also have another column `IMDb_rating` which tells you the IMDb rating of a movie. This rating is determined by taking the average of hundred-thousands of ratings from the general audience. \n",
    "\n",
    "As a part of this subtask, you are required to find out the highest rated movies which have been liked by critics and audiences alike.\n",
    "1. Firstly you will notice that the `MetaCritic` score is on a scale of `100` whereas the `IMDb_rating` is on a scale of 10. First convert the `MetaCritic` column to a scale of 10.\n",
    "2. Now, to find out the movies which have been liked by both critics and audiences alike and also have a high rating overall, you need to -\n",
    "    - Create a new column `Avg_rating` which will have the average of the `MetaCritic` and `Rating` columns\n",
    "    - Retain only the movies in which the absolute difference(using abs() function) between the `IMDb_rating` and `Metacritic` columns is less than 0.5. Refer to this link to know how abs() funtion works - https://www.geeksforgeeks.org/abs-in-python/ .\n",
    "    - Sort these values in a descending order of `Avg_rating` and retain only the movies with a rating equal to higher than `8` and store these movies in a new dataframe `UniversalAcclaim`.\n",
    "    "
   ]
  },
  {
   "cell_type": "code",
   "execution_count": 0,
   "metadata": {
    "application/vnd.databricks.v1+cell": {
     "cellMetadata": {
      "byteLimit": 2048000,
      "rowLimit": 10000
     },
     "inputWidgets": {},
     "nuid": "66eeafbf-5396-407b-834e-bce83a76398f",
     "showTitle": false,
     "tableResultSettingsMap": {},
     "title": ""
    }
   },
   "outputs": [],
   "source": [
    "# Change the scale of MetaCritic column from 100 to 10\n",
    "movies = movies.withColumn(\"MetaCritic\", (col(\"MetaCritic\") / 10))\n"
   ]
  },
  {
   "cell_type": "code",
   "execution_count": 0,
   "metadata": {
    "application/vnd.databricks.v1+cell": {
     "cellMetadata": {
      "byteLimit": 2048000,
      "rowLimit": 10000
     },
     "inputWidgets": {},
     "nuid": "e57ba7b5-464f-4b09-8d03-8ea7a7d7e452",
     "showTitle": false,
     "tableResultSettingsMap": {},
     "title": ""
    }
   },
   "outputs": [
    {
     "output_type": "stream",
     "name": "stdout",
     "output_type": "stream",
     "text": [
      "+--------------------+----------+-----------+----------+\n|               Title|MetaCritic|IMDb_rating|Avg_rating|\n+--------------------+----------+-----------+----------+\n|Star Wars: Episod...|       8.1|        8.1|       8.1|\n|        The Avengers|       6.9|        8.1|       7.5|\n|            Deadpool|       6.5|        8.0|      7.25|\n|The Hunger Games:...|       7.6|        7.6|       7.6|\n|         Toy Story 3|       9.2|        8.3|      8.75|\n+--------------------+----------+-----------+----------+\nonly showing top 5 rows\n\n"
     ]
    }
   ],
   "source": [
    "# Find the average ratings including MetaCritic and IMDb_rating\n",
    "from pyspark.sql import functions as F\n",
    "movies = movies.withColumn(\n",
    "    \"Avg_rating\",\n",
    "    (F.col(\"MetaCritic\") + F.col(\"IMDb_rating\")) / 2\n",
    ")\n",
    "movies.select(\"Title\", \"MetaCritic\", \"IMDb_rating\", \"Avg_rating\").show(5)\n",
    "\n",
    "\n"
   ]
  },
  {
   "cell_type": "code",
   "execution_count": 0,
   "metadata": {
    "application/vnd.databricks.v1+cell": {
     "cellMetadata": {
      "byteLimit": 2048000,
      "rowLimit": 10000
     },
     "inputWidgets": {},
     "nuid": "07116855-a1a8-42ed-b8cd-13842acf1c4c",
     "showTitle": false,
     "tableResultSettingsMap": {},
     "title": ""
    }
   },
   "outputs": [
    {
     "output_type": "stream",
     "name": "stdout",
     "output_type": "stream",
     "text": [
      "+---------------------+----------+\n|Title                |Avg_rating|\n+---------------------+----------+\n|Boyhood              |8.95      |\n|12 Years a Slave     |8.85      |\n|Inside Out           |8.8       |\n|La La Land           |8.75      |\n|Manchester by the Sea|8.75      |\n|Toy Story 3          |8.75      |\n|Gravity              |8.7       |\n|Spotlight            |8.7       |\n|Amour                |8.65      |\n|Whiplash             |8.65      |\n+---------------------+----------+\nonly showing top 10 rows\n\n"
     ]
    }
   ],
   "source": [
    "#Sort in descending order of average rating\n",
    "\n",
    "movies_sorted = movies.orderBy(col(\"Avg_rating\").desc())\n",
    "movies_sorted.select(\"Title\", \"Avg_rating\").show(10, truncate=False)\n",
    "\n"
   ]
  },
  {
   "cell_type": "code",
   "execution_count": 0,
   "metadata": {
    "application/vnd.databricks.v1+cell": {
     "cellMetadata": {
      "byteLimit": 2048000,
      "rowLimit": 10000
     },
     "inputWidgets": {},
     "nuid": "4f11c7c7-ee8c-4413-9561-e3b326517880",
     "showTitle": false,
     "tableResultSettingsMap": {},
     "title": ""
    }
   },
   "outputs": [
    {
     "output_type": "stream",
     "name": "stdout",
     "output_type": "stream",
     "text": [
      "+-----+----------+----------+\n|Title|MetaCritic|Avg_rating|\n+-----+----------+----------+\n+-----+----------+----------+\n\n"
     ]
    }
   ],
   "source": [
    "# Find the movies with metacritic-rating < 0.5 and also with the average rating of > 8\n",
    "\n",
    "filtered_movies = movies.filter(\n",
    "    (col(\"MetaCritic\") < 0.5) & (col(\"Avg_rating\") > 8)\n",
    ")\n",
    "\n",
    "filtered_movies.select(\"Title\", \"MetaCritic\", \"Avg_rating\").show(truncate=False)\n",
    "\n",
    "\n"
   ]
  },
  {
   "cell_type": "markdown",
   "metadata": {
    "application/vnd.databricks.v1+cell": {
     "cellMetadata": {},
     "inputWidgets": {},
     "nuid": "1e7f26b9-334c-4c72-9406-42365ae14596",
     "showTitle": false,
     "tableResultSettingsMap": {},
     "title": ""
    }
   },
   "source": [
    "**`Checkpoint 2:`** Can you spot a `Star Wars` movie in your final dataset?"
   ]
  },
  {
   "cell_type": "markdown",
   "metadata": {
    "application/vnd.databricks.v1+cell": {
     "cellMetadata": {},
     "inputWidgets": {},
     "nuid": "1eed842e-d09f-4e0a-8c1c-f15d29b08f76",
     "showTitle": false,
     "tableResultSettingsMap": {},
     "title": ""
    }
   },
   "source": [
    "- ### Subtask 2.4: Find the Most Popular Trios - I\n",
    "\n",
    "You're a producer looking to make a blockbuster movie. There will primarily be three lead roles in your movie and you wish to cast the most popular actors for it. Now, since you don't want to take a risk, you will cast a trio which has already acted in together in a movie before. The metric that you've chosen to check the popularity is the Facebook likes of each of these actors.\n",
    "\n",
    "The dataframe has three columns to help you out for the same, viz. `actor_1_facebook_likes`, `actor_2_facebook_likes`, and `actor_3_facebook_likes`. Your objective is to find the trios which has the most number of Facebook likes combined. That is, the sum of `actor_1_facebook_likes`, `actor_2_facebook_likes` and `actor_3_facebook_likes` should be maximum.\n",
    "Find out the top 5 popular trios, and output their names in a list.\n"
   ]
  },
  {
   "cell_type": "code",
   "execution_count": 0,
   "metadata": {
    "application/vnd.databricks.v1+cell": {
     "cellMetadata": {
      "byteLimit": 2048000,
      "rowLimit": 10000
     },
     "inputWidgets": {},
     "nuid": "885c4051-5fdc-4106-90a3-03c848693bd6",
     "showTitle": false,
     "tableResultSettingsMap": {},
     "title": ""
    }
   },
   "outputs": [
    {
     "output_type": "stream",
     "name": "stdout",
     "output_type": "stream",
     "text": [
      "Out[57]: Row(Title='Star Wars: Episode VII - The Force Awakens', title_year=2015, budget=245.0, gross=936.662225, actor_1_name='Doug Walker', actor_2_name='Rob Walker', actor_3_name='0', actor_1_facebook_likes=131, actor_2_facebook_likes=12, actor_3_facebook_likes=0, IMDb_rating=8.1, genre_1='Action', genre_2='Adventure', genre_3='Fantasy', MetaCritic=8.1, Runtime=136, CVotes10=155391, CVotes09=161810, CVotes08=166378, CVotes07=99402, CVotes06=40734, CVotes05=18060, CVotes04=8751, CVotes03=5970, CVotes02=4489, CVotes01=15768, CVotesMale=425971, CVotesFemale=68664, CVotesU18=4722, CVotesU18M=3919, CVotesU18F=768, CVotes1829=220467, CVotes1829M=183671, CVotes1829F=34366, CVotes3044=187138, CVotes3044M=162918, CVotes3044F=21362, CVotes45A=42942, CVotes45AM=36441, CVotes45AF=5729, CVotes1000=712, CVotesUS=85141, CVotesnUS=250769, VotesM=8.0, VotesF=8.3, VotesU18=8.5, VotesU18M=8.5, VotesU18F=8.6, Votes1829=8.2, Votes1829M=8.2, Votes1829F=8.3, Votes3044=8.0, Votes3044M=7.9, Votes3044F=8.2, Votes45A=7.9, Votes45AM=7.8, Votes45AF=8.2, Votes1000=7.7, VotesUS=8.2, VotesnUS=7.9, content_rating='PG-13', Country='USA', profit=691.662225, Avg_rating=8.1)"
     ]
    }
   ],
   "source": [
    "#checking head to see if any actor_x_facebook_likes rows have NaN values\n",
    "movies.head()"
   ]
  },
  {
   "cell_type": "code",
   "execution_count": 0,
   "metadata": {
    "application/vnd.databricks.v1+cell": {
     "cellMetadata": {
      "byteLimit": 2048000,
      "rowLimit": 10000
     },
     "inputWidgets": {},
     "nuid": "d6e72600-dbf7-4773-8924-582c5a7513ca",
     "showTitle": false,
     "tableResultSettingsMap": {},
     "title": ""
    }
   },
   "outputs": [],
   "source": [
    "# Write your code here\n",
    "#cleaning actor_x_facebook_likes rows coz they have NaN values\n",
    "movies = movies.na.fill({\n",
    "    \"actor_1_facebook_likes\": 0,\n",
    "    \"actor_2_facebook_likes\": 0,\n",
    "    \"actor_3_facebook_likes\": 0\n",
    "})\n"
   ]
  },
  {
   "cell_type": "code",
   "execution_count": 0,
   "metadata": {
    "application/vnd.databricks.v1+cell": {
     "cellMetadata": {
      "byteLimit": 2048000,
      "rowLimit": 10000
     },
     "inputWidgets": {},
     "nuid": "67abdd1e-7176-4403-8d0e-c2b31e3bb8ed",
     "showTitle": false,
     "tableResultSettingsMap": {},
     "title": ""
    }
   },
   "outputs": [
    {
     "output_type": "stream",
     "name": "stdout",
     "output_type": "stream",
     "text": [
      "Out[59]: Row(Title='Star Wars: Episode VII - The Force Awakens', title_year=2015, budget=245.0, gross=936.662225, actor_1_name='Doug Walker', actor_2_name='Rob Walker', actor_3_name='0', actor_1_facebook_likes=131, actor_2_facebook_likes=12, actor_3_facebook_likes=0, IMDb_rating=8.1, genre_1='Action', genre_2='Adventure', genre_3='Fantasy', MetaCritic=8.1, Runtime=136, CVotes10=155391, CVotes09=161810, CVotes08=166378, CVotes07=99402, CVotes06=40734, CVotes05=18060, CVotes04=8751, CVotes03=5970, CVotes02=4489, CVotes01=15768, CVotesMale=425971, CVotesFemale=68664, CVotesU18=4722, CVotesU18M=3919, CVotesU18F=768, CVotes1829=220467, CVotes1829M=183671, CVotes1829F=34366, CVotes3044=187138, CVotes3044M=162918, CVotes3044F=21362, CVotes45A=42942, CVotes45AM=36441, CVotes45AF=5729, CVotes1000=712, CVotesUS=85141, CVotesnUS=250769, VotesM=8.0, VotesF=8.3, VotesU18=8.5, VotesU18M=8.5, VotesU18F=8.6, Votes1829=8.2, Votes1829M=8.2, Votes1829F=8.3, Votes3044=8.0, Votes3044M=7.9, Votes3044F=8.2, Votes45A=7.9, Votes45AM=7.8, Votes45AF=8.2, Votes1000=7.7, VotesUS=8.2, VotesnUS=7.9, content_rating='PG-13', Country='USA', profit=691.662225, Avg_rating=8.1)"
     ]
    }
   ],
   "source": [
    "movies.head()"
   ]
  },
  {
   "cell_type": "code",
   "execution_count": 0,
   "metadata": {
    "application/vnd.databricks.v1+cell": {
     "cellMetadata": {
      "byteLimit": 2048000,
      "rowLimit": 10000
     },
     "inputWidgets": {},
     "nuid": "297cd789-4960-4cf4-8100-f7bfd91e37eb",
     "showTitle": false,
     "tableResultSettingsMap": {},
     "title": ""
    }
   },
   "outputs": [],
   "source": [
    "#adding a new row here to sum all the facebook likes of the trio of every movie\n",
    "\n",
    "from pyspark.sql.functions import coalesce, col, lit\n",
    "\n",
    "movies = movies.withColumn(\n",
    "    \"facebook_likes_combined\",\n",
    "    coalesce(col(\"actor_1_facebook_likes\"), lit(0)) +\n",
    "    coalesce(col(\"actor_2_facebook_likes\"), lit(0)) +\n",
    "    coalesce(col(\"actor_3_facebook_likes\"), lit(0))\n",
    ")\n"
   ]
  },
  {
   "cell_type": "code",
   "execution_count": 0,
   "metadata": {
    "application/vnd.databricks.v1+cell": {
     "cellMetadata": {
      "byteLimit": 2048000,
      "rowLimit": 10000
     },
     "inputWidgets": {},
     "nuid": "e1ea5fb0-a54d-4de1-859a-b0da712864c0",
     "showTitle": false,
     "tableResultSettingsMap": {},
     "title": ""
    }
   },
   "outputs": [
    {
     "output_type": "stream",
     "name": "stdout",
     "output_type": "stream",
     "text": [
      "+--------------------------+-----------------+------------------+--------------------+-----------------------+\n|Title                     |actor_1_name     |actor_2_name      |actor_3_name        |facebook_likes_combined|\n+--------------------------+-----------------+------------------+--------------------+-----------------------+\n|Lion                      |Dev Patel        |Nicole Kidman     |Rooney Mara         |138800                 |\n|Inception                 |Leonardo DiCaprio|Tom Hardy         |Joseph Gordon-Levitt|79000                  |\n|X-Men: Days of Future Past|Jennifer Lawrence|Peter Dinklage    |Hugh Jackman        |76000                  |\n|Manchester by the Sea     |Casey Affleck    |Michelle Williams |Kyle Chandler       |74818                  |\n|The Dark Knight Rises     |Tom Hardy        |Christian Bale    |Joseph Gordon-Levitt|73000                  |\n+--------------------------+-----------------+------------------+--------------------+-----------------------+\n\n"
     ]
    }
   ],
   "source": [
    "#sorting by facebook_likes_combined and getting top 5 trio\n",
    "top5_trios = movies.orderBy(col(\"facebook_likes_combined\").desc()).select(\n",
    "    \"Title\", \"actor_1_name\", \"actor_2_name\", \"actor_3_name\", \"facebook_likes_combined\"\n",
    ").limit(5)\n",
    "\n",
    "top5_trios.show(truncate=False)\n"
   ]
  },
  {
   "cell_type": "markdown",
   "metadata": {
    "application/vnd.databricks.v1+cell": {
     "cellMetadata": {},
     "inputWidgets": {},
     "nuid": "5a2e581d-6ffe-4df4-87bc-e5ca6d1ee468",
     "showTitle": false,
     "tableResultSettingsMap": {},
     "title": ""
    }
   },
   "source": [
    "- ### Subtask 2.5: Find the Most Popular Trios - II\n",
    "\n",
    "In the previous subtask you found the popular trio based on the total number of facebook likes. Let's add a small condition to it and make sure that all three actors are popular. The condition is **none of the three actors' Facebook likes should be less than half of the other two**. For example, the following is a valid combo:\n",
    "- actor_1_facebook_likes: 70000\n",
    "- actor_2_facebook_likes: 40000\n",
    "- actor_3_facebook_likes: 50000\n",
    "\n",
    "But the below one is not:\n",
    "- actor_1_facebook_likes: 70000\n",
    "- actor_2_facebook_likes: 40000\n",
    "- actor_3_facebook_likes: 30000\n",
    "\n",
    "since in this case, `actor_3_facebook_likes` is 30000, which is less than half of `actor_1_facebook_likes`.\n",
    "\n",
    "Having this condition ensures that you aren't getting any unpopular actor in your trio (since the total likes calculated in the previous question doesn't tell anything about the individual popularities of each actor in the trio.).\n",
    "\n",
    "You can do a manual inspection of the top 5 popular trios you have found in the previous subtask and check how many of those trios satisfy this condition. Also, which is the most popular trio after applying the condition above?"
   ]
  },
  {
   "cell_type": "markdown",
   "metadata": {
    "application/vnd.databricks.v1+cell": {
     "cellMetadata": {},
     "inputWidgets": {},
     "nuid": "dffe1d5a-8e33-4fdf-904e-8890ff52c102",
     "showTitle": false,
     "tableResultSettingsMap": {},
     "title": ""
    }
   },
   "source": [
    "**Write your answers below.**\n",
    "\n",
    "- **`No. of trios that satisfy the above condition:`** **2**\n",
    "\n",
    "- **`Most popular trio after applying the condition:`** **Leonardo DiCaprio\tTom Hardy\tJoseph Gordon-Levitt**"
   ]
  },
  {
   "cell_type": "markdown",
   "metadata": {
    "application/vnd.databricks.v1+cell": {
     "cellMetadata": {},
     "inputWidgets": {},
     "nuid": "82518beb-8a5f-4e22-89a9-e15e6318a400",
     "showTitle": false,
     "tableResultSettingsMap": {},
     "title": ""
    }
   },
   "source": [
    "Even though you are finding this out by a natural inspection of the dataframe, can you also achieve this through some *if-else* statements to incorporate this. You can try this out on your own time after you are done with the assignment."
   ]
  },
  {
   "cell_type": "code",
   "execution_count": 0,
   "metadata": {
    "application/vnd.databricks.v1+cell": {
     "cellMetadata": {
      "byteLimit": 2048000,
      "rowLimit": 10000
     },
     "inputWidgets": {},
     "nuid": "368cb34a-ab2b-4647-b672-191953c0c2b3",
     "showTitle": false,
     "tableResultSettingsMap": {},
     "title": ""
    }
   },
   "outputs": [
    {
     "output_type": "stream",
     "name": "stdout",
     "output_type": "stream",
     "text": [
      "Number of unique trios: 99\nMost popular trio:\nDev Patel, Nicole Kidman, Rooney Mara with 138800 combined likes.\n"
     ]
    }
   ],
   "source": [
    "# No. of trios that satisfy the above condition. Display Most popular trio after applying the condition\n",
    "num_trios = movies.select(\"actor_1_name\", \"actor_2_name\", \"actor_3_name\").distinct().count()\n",
    "print(f\"Number of unique trios: {num_trios}\")\n",
    "\n",
    "\n",
    "most_popular_trio = movies.orderBy(col(\"facebook_likes_combined\").desc()) \\\n",
    "    .select(\"actor_1_name\", \"actor_2_name\", \"actor_3_name\", \"facebook_likes_combined\") \\\n",
    "    .first()\n",
    "\n",
    "print(\"Most popular trio:\")\n",
    "print(f\"{most_popular_trio['actor_1_name']}, {most_popular_trio['actor_2_name']}, {most_popular_trio['actor_3_name']} with {most_popular_trio['facebook_likes_combined']} combined likes.\")\n",
    "\n",
    "\n"
   ]
  },
  {
   "cell_type": "markdown",
   "metadata": {
    "application/vnd.databricks.v1+cell": {
     "cellMetadata": {},
     "inputWidgets": {},
     "nuid": "85fba268-b642-46da-aa4a-ec357cb34ad4",
     "showTitle": false,
     "tableResultSettingsMap": {},
     "title": ""
    }
   },
   "source": [
    "- ### Subtask 2.6: Runtime Analysis\n",
    "\n",
    "There is a column named `Runtime` in the dataframe which primarily shows the length of the movie. It might be intersting to see how this variable this distributed. Plot a `histogram` or `distplot` of seaborn to find the `Runtime` range most of the movies fall into."
   ]
  },
  {
   "cell_type": "code",
   "execution_count": 0,
   "metadata": {
    "application/vnd.databricks.v1+cell": {
     "cellMetadata": {
      "byteLimit": 2048000,
      "rowLimit": 10000
     },
     "inputWidgets": {},
     "nuid": "f100b38b-55d3-4f63-b546-36c5d228598f",
     "showTitle": false,
     "tableResultSettingsMap": {},
     "title": ""
    }
   },
   "outputs": [
    {
     "output_type": "display_data",
     "data": {
      "text/html": [
       "<style scoped>\n",
       "  .table-result-container {\n",
       "    max-height: 300px;\n",
       "    overflow: auto;\n",
       "  }\n",
       "  table, th, td {\n",
       "    border: 1px solid black;\n",
       "    border-collapse: collapse;\n",
       "  }\n",
       "  th, td {\n",
       "    padding: 5px;\n",
       "  }\n",
       "  th {\n",
       "    text-align: left;\n",
       "  }\n",
       "</style><div class='table-result-container'><table class='table-result'><thead style='background-color: white'><tr><th>Runtime</th></tr></thead><tbody><tr><td>136</td></tr><tr><td>143</td></tr><tr><td>108</td></tr><tr><td>146</td></tr><tr><td>103</td></tr><tr><td>164</td></tr><tr><td>100</td></tr><tr><td>108</td></tr><tr><td>124</td></tr><tr><td>95</td></tr><tr><td>91</td></tr><tr><td>121</td></tr><tr><td>147</td></tr><tr><td>146</td></tr><tr><td>146</td></tr><tr><td>110</td></tr><tr><td>147</td></tr><tr><td>148</td></tr><tr><td>118</td></tr><tr><td>169</td></tr><tr><td>128</td></tr><tr><td>144</td></tr><tr><td>126</td></tr><tr><td>122</td></tr><tr><td>149</td></tr><tr><td>143</td></tr><tr><td>108</td></tr><tr><td>120</td></tr><tr><td>136</td></tr><tr><td>158</td></tr><tr><td>121</td></tr><tr><td>124</td></tr><tr><td>114</td></tr><tr><td>133</td></tr><tr><td>116</td></tr><tr><td>115</td></tr><tr><td>165</td></tr><tr><td>124</td></tr><tr><td>120</td></tr><tr><td>125</td></tr><tr><td>116</td></tr><tr><td>124</td></tr><tr><td>134</td></tr><tr><td>156</td></tr><tr><td>138</td></tr><tr><td>130</td></tr><tr><td>124</td></tr><tr><td>118</td></tr><tr><td>132</td></tr><tr><td>137</td></tr><tr><td>130</td></tr><tr><td>134</td></tr><tr><td>99</td></tr><tr><td>109</td></tr><tr><td>132</td></tr><tr><td>161</td></tr><tr><td>142</td></tr><tr><td>124</td></tr><tr><td>100</td></tr><tr><td>94</td></tr><tr><td>100</td></tr><tr><td>98</td></tr><tr><td>133</td></tr><tr><td>128</td></tr><tr><td>124</td></tr><tr><td>119</td></tr><tr><td>118</td></tr><tr><td>169</td></tr><tr><td>117</td></tr><tr><td>165</td></tr><tr><td>123</td></tr><tr><td>100</td></tr><tr><td>117</td></tr><tr><td>134</td></tr><tr><td>121</td></tr><tr><td>180</td></tr><tr><td>102</td></tr><tr><td>153</td></tr><tr><td>158</td></tr><tr><td>108</td></tr><tr><td>107</td></tr><tr><td>115</td></tr><tr><td>109</td></tr><tr><td>102</td></tr><tr><td>120</td></tr><tr><td>123</td></tr><tr><td>126</td></tr><tr><td>131</td></tr><tr><td>94</td></tr><tr><td>124</td></tr><tr><td>127</td></tr><tr><td>123</td></tr><tr><td>140</td></tr><tr><td>124</td></tr><tr><td>132</td></tr><tr><td>112</td></tr><tr><td>124</td></tr><tr><td>113</td></tr><tr><td>108</td></tr><tr><td>126</td></tr></tbody></table></div>"
      ]
     },
     "metadata": {
      "application/vnd.databricks.v1+output": {
       "addedWidgets": {},
       "aggData": [],
       "aggError": "",
       "aggOverflow": false,
       "aggSchema": [],
       "aggSeriesLimitReached": false,
       "aggType": "",
       "arguments": {},
       "columnCustomDisplayInfos": {},
       "data": [
        [
         136
        ],
        [
         143
        ],
        [
         108
        ],
        [
         146
        ],
        [
         103
        ],
        [
         164
        ],
        [
         100
        ],
        [
         108
        ],
        [
         124
        ],
        [
         95
        ],
        [
         91
        ],
        [
         121
        ],
        [
         147
        ],
        [
         146
        ],
        [
         146
        ],
        [
         110
        ],
        [
         147
        ],
        [
         148
        ],
        [
         118
        ],
        [
         169
        ],
        [
         128
        ],
        [
         144
        ],
        [
         126
        ],
        [
         122
        ],
        [
         149
        ],
        [
         143
        ],
        [
         108
        ],
        [
         120
        ],
        [
         136
        ],
        [
         158
        ],
        [
         121
        ],
        [
         124
        ],
        [
         114
        ],
        [
         133
        ],
        [
         116
        ],
        [
         115
        ],
        [
         165
        ],
        [
         124
        ],
        [
         120
        ],
        [
         125
        ],
        [
         116
        ],
        [
         124
        ],
        [
         134
        ],
        [
         156
        ],
        [
         138
        ],
        [
         130
        ],
        [
         124
        ],
        [
         118
        ],
        [
         132
        ],
        [
         137
        ],
        [
         130
        ],
        [
         134
        ],
        [
         99
        ],
        [
         109
        ],
        [
         132
        ],
        [
         161
        ],
        [
         142
        ],
        [
         124
        ],
        [
         100
        ],
        [
         94
        ],
        [
         100
        ],
        [
         98
        ],
        [
         133
        ],
        [
         128
        ],
        [
         124
        ],
        [
         119
        ],
        [
         118
        ],
        [
         169
        ],
        [
         117
        ],
        [
         165
        ],
        [
         123
        ],
        [
         100
        ],
        [
         117
        ],
        [
         134
        ],
        [
         121
        ],
        [
         180
        ],
        [
         102
        ],
        [
         153
        ],
        [
         158
        ],
        [
         108
        ],
        [
         107
        ],
        [
         115
        ],
        [
         109
        ],
        [
         102
        ],
        [
         120
        ],
        [
         123
        ],
        [
         126
        ],
        [
         131
        ],
        [
         94
        ],
        [
         124
        ],
        [
         127
        ],
        [
         123
        ],
        [
         140
        ],
        [
         124
        ],
        [
         132
        ],
        [
         112
        ],
        [
         124
        ],
        [
         113
        ],
        [
         108
        ],
        [
         126
        ]
       ],
       "datasetInfos": [],
       "dbfsResultPath": null,
       "isJsonSchema": true,
       "metadata": {},
       "overflow": false,
       "plotOptions": {
        "customPlotOptions": {},
        "displayType": "table",
        "pivotAggregation": null,
        "pivotColumns": null,
        "xColumns": null,
        "yColumns": null
       },
       "removedWidgets": [],
       "schema": [
        {
         "metadata": "{}",
         "name": "Runtime",
         "type": "\"integer\""
        }
       ],
       "type": "table"
      }
     },
     "output_type": "display_data"
    },
    {
     "output_type": "display_data",
     "data": {
      "text/plain": [
       "Databricks visualization. Run in Databricks to view."
      ]
     },
     "metadata": {
      "application/vnd.databricks.v1.subcommand+json": {
       "baseErrorDetails": null,
       "bindings": {},
       "collapsed": false,
       "command": "%python\n__backend_agg_display_orig = display\n__backend_agg_dfs = []\ndef __backend_agg_display_new(df):\n    __backend_agg_df_modules = [\"pandas.core.frame\", \"databricks.koalas.frame\", \"pyspark.sql.dataframe\", \"pyspark.pandas.frame\", \"pyspark.sql.connect.dataframe\"]\n    if (type(df).__module__ in __backend_agg_df_modules and type(df).__name__ == 'DataFrame') or isinstance(df, list):\n        __backend_agg_dfs.append(df)\n\ndisplay = __backend_agg_display_new\n\ndef __backend_agg_user_code_fn():\n    import base64\n    exec(base64.standard_b64decode(\"IyBSdW50aW1lIGhpc3RvZ3JhbS9kZW5zaXR5IHBsb3QKZGlzcGxheShtb3ZpZXMuc2VsZWN0KCJSdW50aW1lIikpCg==\").decode())\n\ntry:\n    # run user code\n    __backend_agg_user_code_fn()\n\n    #reset display function\n    display = __backend_agg_display_orig\n\n    if len(__backend_agg_dfs) > 0:\n        # create a temp view\n        if type(__backend_agg_dfs[0]).__module__ == \"databricks.koalas.frame\":\n            # koalas dataframe\n            __backend_agg_dfs[0].to_spark().createOrReplaceTempView(\"DatabricksView6dfdb03\")\n        elif type(__backend_agg_dfs[0]).__module__ == \"pandas.core.frame\" or isinstance(__backend_agg_dfs[0], list):\n            # pandas dataframe\n            spark.createDataFrame(__backend_agg_dfs[0]).createOrReplaceTempView(\"DatabricksView6dfdb03\")\n        else:\n            __backend_agg_dfs[0].createOrReplaceTempView(\"DatabricksView6dfdb03\")\n        #run backend agg\n        display(spark.sql(\"\"\"WITH q AS (select * from DatabricksView6dfdb03) ,min_max AS (SELECT `Runtime`,(SELECT MAX(`Runtime`) FROM q) `target_column_max`,(SELECT MIN(`Runtime`) FROM q) `target_column_min` FROM q) ,histogram_meta AS (SELECT `Runtime`,`target_column_min` `min_value`,IF(`target_column_max` = `target_column_min`,`target_column_max` + 1,`target_column_max`) `max_value`,(`target_column_max` - `target_column_min`) / 10 `step` FROM min_max) SELECT IF(ISNULL(`Runtime`),NULL,LEAST(WIDTH_BUCKET(`Runtime`,`min_value`,`max_value`,10),10)) `Runtime_BIN`,FIRST(`min_value` + ((IF(ISNULL(`Runtime`),NULL,LEAST(WIDTH_BUCKET(`Runtime`,`min_value`,`max_value`,10),10)) - 1) * `step`)) `Runtime_BIN_LOWER_BOUND`,FIRST(`step`) `Runtime_BIN_STEP`,COUNT(`Runtime`) `COUNT` FROM histogram_meta GROUP BY `Runtime_BIN`\"\"\"))\n    else:\n        displayHTML(\"dataframe no longer exists. If you're using dataframe.display(), use display(dataframe) instead.\")\n\n\nfinally:\n    spark.sql(\"drop view if exists DatabricksView6dfdb03\")\n    display = __backend_agg_display_orig\n    del __backend_agg_display_new\n    del __backend_agg_display_orig\n    del __backend_agg_dfs\n    del __backend_agg_user_code_fn\n\n",
       "commandTitle": "Visualization 1",
       "commandType": "auto",
       "commandVersion": 0,
       "commentThread": [],
       "commentsVisible": false,
       "contentSha256Hex": null,
       "customPlotOptions": {
        "redashChart": [
         {
          "key": "type",
          "value": "CHART"
         },
         {
          "key": "options",
          "value": {
           "alignYAxesAtZero": true,
           "coefficient": 1,
           "columnConfigurationMap": {
            "x": {
             "column": "Runtime",
             "id": "column_b0cb5eb22214"
            }
           },
           "dateTimeFormat": "DD/MM/YYYY HH:mm",
           "direction": {
            "type": "counterclockwise"
           },
           "error_y": {
            "type": "data",
            "visible": true
           },
           "globalSeriesType": "histogram",
           "legend": {
            "traceorder": "normal"
           },
           "missingValuesAsZero": true,
           "numBins": 10,
           "numberFormat": "0,0.[00000]",
           "percentFormat": "0[.]00%",
           "series": {
            "error_y": {
             "type": "data",
             "visible": true
            },
            "stacking": null
           },
           "seriesOptions": {},
           "showDataLabels": false,
           "sizemode": "diameter",
           "sortX": true,
           "sortY": true,
           "swappedAxes": false,
           "textFormat": "",
           "useAggregationsUi": true,
           "valuesOptions": {},
           "version": 2,
           "xAxis": {
            "labels": {
             "enabled": true
            },
            "type": "-"
           },
           "yAxis": [
            {
             "type": "-"
            },
            {
             "opposite": true,
             "type": "-"
            }
           ]
          }
         }
        ]
       },
       "datasetPreviewNameToCmdIdMap": {},
       "diffDeletes": [],
       "diffInserts": [],
       "displayType": "redashChart",
       "error": null,
       "errorDetails": null,
       "errorSummary": null,
       "errorTraceType": null,
       "finishTime": 0,
       "globalVars": {},
       "guid": "",
       "height": "auto",
       "hideCommandCode": false,
       "hideCommandResult": false,
       "iPythonMetadata": null,
       "inputWidgets": {},
       "isLockedInExamMode": false,
       "latestUser": "a user",
       "latestUserId": null,
       "listResultMetadata": null,
       "metadata": {},
       "nuid": "443fcd4e-6053-4f40-86f3-d004aad14608",
       "origId": 0,
       "parentHierarchy": [],
       "pivotAggregation": null,
       "pivotColumns": null,
       "position": 41.0,
       "resultDbfsErrorMessage": null,
       "resultDbfsStatus": "INLINED_IN_TREE",
       "results": null,
       "showCommandTitle": false,
       "startTime": 0,
       "state": "input",
       "streamStates": {},
       "subcommandOptions": {
        "queryPlan": {
         "groups": [
          {
           "column": "Runtime_BIN",
           "type": "column"
          }
         ],
         "selects": [
          {
           "alias": "Runtime_BIN",
           "args": [
            {
             "column": "Runtime",
             "type": "column"
            },
            {
             "number": 10,
             "type": "number"
            }
           ],
           "function": "BIN",
           "type": "function"
          },
          {
           "alias": "Runtime_BIN_LOWER_BOUND",
           "args": [
            {
             "column": "Runtime",
             "type": "column"
            },
            {
             "number": 10,
             "type": "number"
            }
           ],
           "function": "BIN_LOWER_BOUND",
           "type": "function"
          },
          {
           "alias": "Runtime_BIN_STEP",
           "args": [
            {
             "column": "Runtime",
             "type": "column"
            },
            {
             "number": 10,
             "type": "number"
            }
           ],
           "function": "BIN_STEP",
           "type": "function"
          },
          {
           "alias": "COUNT",
           "args": [
            {
             "column": "Runtime",
             "type": "column"
            }
           ],
           "function": "COUNT",
           "type": "function"
          }
         ]
        }
       },
       "submitTime": 0,
       "subtype": "tableResultSubCmd.visualization",
       "tableResultIndex": 0,
       "tableResultSettingsMap": {},
       "useConsistentColors": false,
       "version": "CommandV1",
       "width": "auto",
       "workflows": [],
       "xColumns": null,
       "yColumns": null
      }
     },
     "output_type": "display_data"
    }
   ],
   "source": [
    "# Runtime histogram/density plot\n",
    "display(movies.select(\"Runtime\"))\n"
   ]
  },
  {
   "cell_type": "markdown",
   "metadata": {
    "application/vnd.databricks.v1+cell": {
     "cellMetadata": {},
     "inputWidgets": {},
     "nuid": "eef06219-96bf-4556-8bf4-59e0f0ea11ea",
     "showTitle": false,
     "tableResultSettingsMap": {},
     "title": ""
    }
   },
   "source": [
    "**`Checkpoint 3:`** Most of the movies appear to be sharply 2 hour-long."
   ]
  },
  {
   "cell_type": "markdown",
   "metadata": {
    "application/vnd.databricks.v1+cell": {
     "cellMetadata": {},
     "inputWidgets": {},
     "nuid": "6b48da2d-81f2-47fa-8679-e6095108450d",
     "showTitle": false,
     "tableResultSettingsMap": {},
     "title": ""
    }
   },
   "source": [
    "- ### Subtask 2.7: R-Rated Movies\n",
    "\n",
    "Although R rated movies are restricted movies for the under 18 age group, still there are vote counts from that age group. Among all the R rated movies that have been voted by the under-18 age group, find the top 10 movies that have the highest number of votes i.e.`CVotesU18` from the `movies` dataframe. Store these in a dataframe named `PopularR`."
   ]
  },
  {
   "cell_type": "code",
   "execution_count": 0,
   "metadata": {
    "application/vnd.databricks.v1+cell": {
     "cellMetadata": {
      "byteLimit": 2048000,
      "rowLimit": 10000
     },
     "inputWidgets": {},
     "nuid": "3aa1c06e-0065-4bac-b91c-6774feaf5357",
     "showTitle": false,
     "tableResultSettingsMap": {},
     "title": ""
    }
   },
   "outputs": [
    {
     "output_type": "stream",
     "name": "stdout",
     "output_type": "stream",
     "text": [
      "+------------------------------------------+---------+\n|Title                                     |CVotesU18|\n+------------------------------------------+---------+\n|Interstellar                              |5735     |\n|Inception                                 |5678     |\n|Guardians of the Galaxy                   |5154     |\n|The Avengers                              |4953     |\n|The Dark Knight Rises                     |4726     |\n|Star Wars: Episode VII - The Force Awakens|4722     |\n|Deadpool                                  |4598     |\n|Captain America: The Winter Soldier       |3765     |\n|The Hunger Games: Catching Fire           |3650     |\n|The Wolf of Wall Street                   |3622     |\n+------------------------------------------+---------+\n\n"
     ]
    }
   ],
   "source": [
    "# find the top 10 movies that have the highest number of votes i.e.CVotesU18\n",
    "top10_u18 = movies.orderBy(col(\"CVotesU18\").desc()).select(\"Title\", \"CVotesU18\").limit(10)\n",
    "\n",
    "top10_u18.show(truncate=False)\n",
    "\n",
    "\n",
    "\n"
   ]
  },
  {
   "cell_type": "markdown",
   "metadata": {
    "application/vnd.databricks.v1+cell": {
     "cellMetadata": {},
     "inputWidgets": {},
     "nuid": "2cf39b76-7263-4db0-9145-0041d9a7196a",
     "showTitle": false,
     "tableResultSettingsMap": {},
     "title": ""
    }
   },
   "source": [
    "**`Checkpoint 4:`** Are these kids watching `Deadpool` a lot?  **Yes**"
   ]
  },
  {
   "cell_type": "markdown",
   "metadata": {
    "application/vnd.databricks.v1+cell": {
     "cellMetadata": {},
     "inputWidgets": {},
     "nuid": "fc9a3ab1-a2fd-4da9-9b1a-633ee47994ed",
     "showTitle": false,
     "tableResultSettingsMap": {},
     "title": ""
    }
   },
   "source": [
    "## Task 3 : Demographic analysis\n",
    "\n",
    "If you take a look at the last columns in the dataframe, most of these are related to demographics of the voters (in the last subtask, i.e., 2.8, you made use one of these columns - CVotesU18). We also have three genre columns indicating the genres of a particular movie. We will extensively use these columns for the third and the final stage of our assignment wherein we will analyse the voters across all demographics and also see how these vary across various genres. So without further ado, let's get started with `demographic analysis`."
   ]
  },
  {
   "cell_type": "markdown",
   "metadata": {
    "application/vnd.databricks.v1+cell": {
     "cellMetadata": {},
     "inputWidgets": {},
     "nuid": "b1415562-baf9-408b-914e-0f14042133ba",
     "showTitle": false,
     "tableResultSettingsMap": {},
     "title": ""
    }
   },
   "source": [
    "-  ###  Subtask 3.1 Combine the Dataframe by Genres\n",
    "\n",
    "There are 3 columns in the dataframe - `genre_1`, `genre_2`, and `genre_3`. As a part of this subtask, you need to aggregate a few values over these 3 columns. \n",
    "1. First create a new dataframe `df_by_genre` that contains `genre_1`, `genre_2`, and `genre_3` and all the columns related to **CVotes/Votes** from the `movies` data frame. There are 47 columns to be extracted in total.\n",
    "2. Now, Add a column called `cnt` to the dataframe `df_by_genre` and initialize it to one. You will realise the use of this column by the end of this subtask.\n",
    "3. First group the dataframe `df_by_genre` by `genre_1` and find the sum of all the numeric columns such as `cnt`, columns related to CVotes and Votes columns and store it in a dataframe `df_by_g1`.\n",
    "4. Perform the same operation for `genre_2` and `genre_3` and store it dataframes `df_by_g2` and `df_by_g3` respectively. \n",
    "5. Now that you have 3 dataframes performed by grouping over `genre_1`, `genre_2`, and `genre_3` separately, it's time to combine them. For this, add the three dataframes and store it in a new dataframe `df_add`, so that the corresponding values of Votes/CVotes get added for each genre.There is a function called `add()` in pandas which lets you do this. You can refer to this link to see how this function works. https://pandas.pydata.org/pandas-docs/version/0.23.4/generated/pandas.DataFrame.add.html\n",
    "6. The column `cnt` on aggregation has basically kept the track of the number of occurences of each genre.Subset the genres that have atleast 10 movies into a new dataframe `genre_top10` based on the `cnt` column value.\n",
    "7. Now, take the mean of all the numeric columns by dividing them with the column value `cnt` and store it back to the same dataframe. We will be using this dataframe for further analysis in this task unless it is explicitly mentioned to use the dataframe `movies`.\n",
    "8. Since the number of votes can't be a fraction, type cast all the CVotes related columns to integers. Also, round off all the Votes related columns upto two digits after the decimal point.\n"
   ]
  },
  {
   "cell_type": "code",
   "execution_count": 0,
   "metadata": {
    "application/vnd.databricks.v1+cell": {
     "cellMetadata": {
      "byteLimit": 2048000,
      "rowLimit": 10000
     },
     "inputWidgets": {},
     "nuid": "2b58077c-82d3-4e45-aa59-1e1492a7b0b9",
     "showTitle": false,
     "tableResultSettingsMap": {},
     "title": ""
    }
   },
   "outputs": [
    {
     "output_type": "stream",
     "name": "stdout",
     "output_type": "stream",
     "text": [
      "+---------+------------------+-----------+\n|genre    |avg_IMDb_rating   |movie_count|\n+---------+------------------+-----------+\n|Drama    |7.8584615384615395|65         |\n|Adventure|7.907894736842105 |38         |\n|Action   |7.880645161290321 |31         |\n|Comedy   |7.86086956521739  |23         |\n|Biography|7.849999999999999 |18         |\n|Sci-Fi   |8.0               |17         |\n|Romance  |7.7846153846153845|13         |\n|Thriller |7.884615384615385 |13         |\n|Crime    |7.872727272727272 |11         |\n|Animation|7.927272727272726 |11         |\n|Fantasy  |7.814285714285715 |7          |\n|Mystery  |7.914285714285714 |7          |\n|History  |7.925000000000001 |4          |\n|Sport    |7.8               |3          |\n|War      |7.6               |2          |\n|Family   |7.6               |2          |\n|Music    |8.35              |2          |\n|Western  |8.0               |2          |\n|Musical  |7.6               |1          |\n|Horror   |7.6               |1          |\n+---------+------------------+-----------+\n\n"
     ]
    }
   ],
   "source": [
    "# Create the dataframe df_by_genre\n",
    "from pyspark.sql import functions as F\n",
    "movies_with_genres = movies.withColumn(\n",
    "    \"GenreArray\", \n",
    "    F.array(F.col(\"genre_1\"), F.col(\"genre_2\"), F.col(\"genre_3\"))\n",
    ")\n",
    "\n",
    "exploded_movies = movies_with_genres.withColumn(\"genre\", F.explode(\"GenreArray\"))\n",
    "\n",
    "df_by_genre = exploded_movies.filter(F.col(\"genre\").isNotNull() & (F.col(\"genre\") != \"\")) \\\n",
    "    .groupBy(\"genre\") \\\n",
    "    .agg(\n",
    "        F.avg(\"IMDb_rating\").alias(\"avg_IMDb_rating\"),\n",
    "        F.count(\"Title\").alias(\"movie_count\")\n",
    "    )\n",
    "df_by_genre.orderBy(F.col(\"movie_count\").desc()).show(truncate=False)\n",
    "\n"
   ]
  },
  {
   "cell_type": "code",
   "execution_count": 0,
   "metadata": {
    "application/vnd.databricks.v1+cell": {
     "cellMetadata": {
      "byteLimit": 2048000,
      "rowLimit": 10000
     },
     "inputWidgets": {},
     "nuid": "dad78ed7-386a-472b-b7d4-84123bddd625",
     "showTitle": false,
     "tableResultSettingsMap": {},
     "title": ""
    }
   },
   "outputs": [],
   "source": [
    "# Create a column cnt and initialize it to 1\n",
    "\n",
    "movies = movies.withColumn(\"cnt\", lit(1))\n",
    "\n"
   ]
  },
  {
   "cell_type": "code",
   "execution_count": 0,
   "metadata": {
    "application/vnd.databricks.v1+cell": {
     "cellMetadata": {
      "byteLimit": 2048000,
      "rowLimit": 10000
     },
     "inputWidgets": {},
     "nuid": "e76d5b89-1fa3-462e-a8d2-39cd65dcfafb",
     "showTitle": false,
     "tableResultSettingsMap": {},
     "title": ""
    }
   },
   "outputs": [
    {
     "output_type": "stream",
     "name": "stdout",
     "output_type": "stream",
     "text": [
      "+---------+---------+-----------------+-----------+\n|  genre_1|total_cnt|  avg_IMDb_rating|movie_count|\n+---------+---------+-----------------+-----------+\n|    Crime|        9|7.866666666666666|          9|\n|Adventure|       12|7.866666666666666|         12|\n|    Drama|       18|7.905555555555556|         18|\n|  Mystery|        1|              8.1|          1|\n|Animation|       11|7.927272727272726|         11|\n+---------+---------+-----------------+-----------+\nonly showing top 5 rows\n\n+---------+---------+-----------------+-----------+\n|  genre_2|total_cnt|  avg_IMDb_rating|movie_count|\n+---------+---------+-----------------+-----------+\n|    Crime|        1|              7.6|          1|\n|  Romance|        5|             7.92|          5|\n| Thriller|        3|8.166666666666666|          3|\n|Adventure|       22|7.931818181818182|         22|\n|     null|        3|7.966666666666666|          3|\n+---------+---------+-----------------+-----------+\nonly showing top 5 rows\n\n+---------+---------+-----------------+-----------+\n|  genre_3|total_cnt|  avg_IMDb_rating|movie_count|\n+---------+---------+-----------------+-----------+\n|    Crime|        1|              8.2|          1|\n|  Romance|        8|7.700000000000001|          8|\n| Thriller|       10|              7.8|         10|\n|Adventure|        4|              7.9|          4|\n|     null|       26|7.934615384615384|         26|\n+---------+---------+-----------------+-----------+\nonly showing top 5 rows\n\n"
     ]
    }
   ],
   "source": [
    "# Group the movies by individual genres\n",
    "from pyspark.sql.functions import sum, avg, count\n",
    "\n",
    "# Group by genre_1 and sum/count/avg all numeric columns as needed\n",
    "df_by_g1 = movies.groupBy(\"genre_1\").agg(\n",
    "    sum(\"cnt\").alias(\"total_cnt\"),\n",
    "    avg(\"IMDb_rating\").alias(\"avg_IMDb_rating\"),\n",
    "    count(\"*\").alias(\"movie_count\")\n",
    ")\n",
    "\n",
    "# Group by genre_2\n",
    "df_by_g2 = movies.groupBy(\"genre_2\").agg(\n",
    "    sum(\"cnt\").alias(\"total_cnt\"),\n",
    "    avg(\"IMDb_rating\").alias(\"avg_IMDb_rating\"),\n",
    "    count(\"*\").alias(\"movie_count\")\n",
    ")\n",
    "\n",
    "# Group by genre_3\n",
    "df_by_g3 = movies.groupBy(\"genre_3\").agg(\n",
    "    sum(\"cnt\").alias(\"total_cnt\"),\n",
    "    avg(\"IMDb_rating\").alias(\"avg_IMDb_rating\"),\n",
    "    count(\"*\").alias(\"movie_count\")\n",
    ")\n",
    "\n",
    "# Show the results for verification\n",
    "df_by_g1.show(5)\n",
    "df_by_g2.show(5)\n",
    "df_by_g3.show(5)\n"
   ]
  },
  {
   "cell_type": "code",
   "execution_count": 0,
   "metadata": {
    "application/vnd.databricks.v1+cell": {
     "cellMetadata": {
      "byteLimit": 2048000,
      "rowLimit": 10000
     },
     "inputWidgets": {},
     "nuid": "2d897125-f904-4c3d-b023-45a14624b163",
     "showTitle": false,
     "tableResultSettingsMap": {},
     "title": ""
    }
   },
   "outputs": [
    {
     "output_type": "stream",
     "name": "stdout",
     "output_type": "stream",
     "text": [
      "+---------+---------+------------------+-----------+\n|genre    |total_cnt|avg_IMDb_rating   |movie_count|\n+---------+---------+------------------+-----------+\n|Drama    |65       |7.844153439153438 |65         |\n|Adventure|38       |7.899494949494948 |38         |\n|Action   |31       |7.888888888888888 |31         |\n|null     |29       |7.9506410256410245|29         |\n|Comedy   |23       |7.866666666666667 |23         |\n|Biography|18       |7.816153846153846 |18         |\n|Sci-Fi   |17       |7.978333333333333 |17         |\n|Romance  |13       |7.8100000000000005|13         |\n|Thriller |13       |7.9833333333333325|13         |\n|Crime    |11       |7.888888888888888 |11         |\n|Animation|11       |7.927272727272726 |11         |\n|Mystery  |7        |7.949999999999999 |7          |\n|Fantasy  |7        |7.816666666666666 |7          |\n|History  |4        |7.816666666666666 |4          |\n|Sport    |3        |7.75              |3          |\n|War      |2        |7.6               |2          |\n|Family   |2        |7.6               |2          |\n|Music    |2        |8.35              |2          |\n|Western  |2        |8.0               |2          |\n|Musical  |1        |7.6               |1          |\n+---------+---------+------------------+-----------+\nonly showing top 20 rows\n\n"
     ]
    }
   ],
   "source": [
    "# Add the grouped data frames and store it in a new data frame\n",
    "\n",
    "from pyspark.sql.functions import col, sum as Fsum, avg as Favg\n",
    "\n",
    "# Step 1: Rename genre columns to 'genre' and select relevant columns\n",
    "df_by_g1_renamed = df_by_g1.withColumnRenamed(\"genre_1\", \"genre\").select(\"genre\", \"total_cnt\", \"avg_IMDb_rating\", \"movie_count\")\n",
    "df_by_g2_renamed = df_by_g2.withColumnRenamed(\"genre_2\", \"genre\").select(\"genre\", \"total_cnt\", \"avg_IMDb_rating\", \"movie_count\")\n",
    "df_by_g3_renamed = df_by_g3.withColumnRenamed(\"genre_3\", \"genre\").select(\"genre\", \"total_cnt\", \"avg_IMDb_rating\", \"movie_count\")\n",
    "\n",
    "# Step 2: Union all three DataFrames\n",
    "df_union = df_by_g1_renamed.unionByName(df_by_g2_renamed).unionByName(df_by_g3_renamed)\n",
    "\n",
    "# Step 3: Group by 'genre' and aggregate (sum of counts, mean of avg ratings, sum of movie counts)\n",
    "df_add = df_union.groupBy(\"genre\").agg(\n",
    "    Fsum(\"total_cnt\").alias(\"total_cnt\"),\n",
    "    Favg(\"avg_IMDb_rating\").alias(\"avg_IMDb_rating\"),\n",
    "    Fsum(\"movie_count\").alias(\"movie_count\")\n",
    ")\n",
    "\n",
    "# Step 4: Show the final combined DataFrame\n",
    "df_add.orderBy(col(\"total_cnt\").desc()).show(truncate=False)\n"
   ]
  },
  {
   "cell_type": "code",
   "execution_count": 0,
   "metadata": {
    "application/vnd.databricks.v1+cell": {
     "cellMetadata": {
      "byteLimit": 2048000,
      "rowLimit": 10000
     },
     "inputWidgets": {},
     "nuid": "4f972689-d6a0-4dba-9629-7ed4b075dda5",
     "showTitle": false,
     "tableResultSettingsMap": {},
     "title": ""
    }
   },
   "outputs": [
    {
     "output_type": "stream",
     "name": "stdout",
     "output_type": "stream",
     "text": [
      "+---------+---------+------------------+-----------+\n|genre    |total_cnt|avg_IMDb_rating   |movie_count|\n+---------+---------+------------------+-----------+\n|Drama    |65       |7.844153439153438 |65         |\n|Adventure|38       |7.899494949494948 |38         |\n|Action   |31       |7.888888888888888 |31         |\n|null     |29       |7.9506410256410245|29         |\n|Comedy   |23       |7.866666666666667 |23         |\n|Biography|18       |7.816153846153846 |18         |\n|Sci-Fi   |17       |7.978333333333333 |17         |\n|Romance  |13       |7.8100000000000005|13         |\n|Thriller |13       |7.9833333333333325|13         |\n|Crime    |11       |7.888888888888888 |11         |\n|Animation|11       |7.927272727272726 |11         |\n+---------+---------+------------------+-----------+\n\n"
     ]
    }
   ],
   "source": [
    "# Get and display genres with atleast 10 occurences\n",
    "\n",
    "from pyspark.sql.functions import col\n",
    "\n",
    "# Filter genres with at least 10 occurrences\n",
    "genres_10plus = df_add.filter(col(\"movie_count\") >= 10)\n",
    "\n",
    "# Display the result\n",
    "genres_10plus.orderBy(col(\"movie_count\").desc()).show(truncate=False)\n",
    "\n",
    "\n"
   ]
  },
  {
   "cell_type": "code",
   "execution_count": 0,
   "metadata": {
    "application/vnd.databricks.v1+cell": {
     "cellMetadata": {
      "byteLimit": 2048000,
      "rowLimit": 10000
     },
     "inputWidgets": {},
     "nuid": "dbf03dce-507a-4b38-bc47-afa449708404",
     "showTitle": false,
     "tableResultSettingsMap": {},
     "title": ""
    }
   },
   "outputs": [
    {
     "output_type": "display_data",
     "data": {
      "text/plain": [
       ""
      ]
     },
     "metadata": {
      "application/vnd.databricks.v1+output": {
       "arguments": {},
       "data": "",
       "errorSummary": "Command skipped",
       "errorTraceType": "ansi",
       "metadata": {},
       "type": "ipynbError"
      }
     },
     "output_type": "display_data"
    }
   ],
   "source": [
    "genre_top10"
   ]
  },
  {
   "cell_type": "code",
   "execution_count": 0,
   "metadata": {
    "application/vnd.databricks.v1+cell": {
     "cellMetadata": {
      "byteLimit": 2048000,
      "rowLimit": 10000
     },
     "inputWidgets": {},
     "nuid": "bfacbb01-c612-41c4-ae2b-5f5da6d3b429",
     "showTitle": false,
     "tableResultSettingsMap": {},
     "title": ""
    }
   },
   "outputs": [],
   "source": [
    "# Take the mean for every column by dividing with count (cnt)\n",
    "\n",
    "from pyspark.sql.functions import col\n",
    "\n",
    "# Suppose you want to divide all vote columns by 'movie_count'\n",
    "vote_cols = [\n",
    "    \"CVotes10\", \"CVotes09\", \"CVotes08\", \"CVotes07\", \"CVotes06\", \"CVotes05\",\n",
    "    \"CVotes04\", \"CVotes03\", \"CVotes02\", \"CVotes01\",\n",
    "    \"CVotesMale\", \"CVotesFemale\", \"CVotesU18\", \"CVotesU18M\", \"CVotesU18F\",\n",
    "    \"CVotes1829\", \"CVotes1829M\", \"CVotes1829F\", \"CVotes3044\", \"CVotes3044M\",\n",
    "    \"CVotes3044F\", \"CVotes45A\", \"CVotes45AM\", \"CVotes45AF\", \"CVotes1000\",\n",
    "    \"CVotesUS\", \"CVotesnUS\", \"VotesM\", \"VotesF\", \"VotesU18\", \"VotesU18M\",\n",
    "    \"VotesU18F\", \"Votes1829\", \"Votes1829M\", \"Votes1829F\", \"Votes3044\",\n",
    "    \"Votes3044M\", \"Votes3044F\", \"Votes45A\", \"Votes45AM\", \"Votes45AF\",\n",
    "    \"Votes1000\", \"VotesUS\", \"VotesnUS\"\n",
    "]\n",
    "\n",
    "# Now divide each column by 'movie_count' (or 'total_cnt' if that's your count column)\n",
    "for c in vote_cols:\n",
    "    if c in df_add.columns:\n",
    "        df_add = df_add.withColumn(c, col(c) / col(\"movie_count\"))\n"
   ]
  },
  {
   "cell_type": "code",
   "execution_count": 0,
   "metadata": {
    "application/vnd.databricks.v1+cell": {
     "cellMetadata": {
      "byteLimit": 2048000,
      "rowLimit": 10000
     },
     "inputWidgets": {},
     "nuid": "d7acd7a8-3ce1-427f-9247-9d74e6b3b482",
     "showTitle": false,
     "tableResultSettingsMap": {},
     "title": ""
    }
   },
   "outputs": [
    {
     "output_type": "display_data",
     "data": {
      "text/plain": [
       ""
      ]
     },
     "metadata": {
      "application/vnd.databricks.v1+output": {
       "arguments": {},
       "data": "",
       "errorSummary": "Command skipped",
       "errorTraceType": "ansi",
       "metadata": {},
       "type": "ipynbError"
      }
     },
     "output_type": "display_data"
    }
   ],
   "source": [
    "genre_top10"
   ]
  },
  {
   "cell_type": "code",
   "execution_count": 0,
   "metadata": {
    "application/vnd.databricks.v1+cell": {
     "cellMetadata": {
      "byteLimit": 2048000,
      "rowLimit": 10000
     },
     "inputWidgets": {},
     "nuid": "4f334858-b276-40d4-8249-8ea573f0226e",
     "showTitle": false,
     "tableResultSettingsMap": {},
     "title": ""
    }
   },
   "outputs": [
    {
     "output_type": "stream",
     "name": "stdout",
     "output_type": "stream",
     "text": [
      "+---------+---------+------------------+-----------+\n|    genre|total_cnt|   avg_IMDb_rating|movie_count|\n+---------+---------+------------------+-----------+\n|    Drama|       65| 7.844153439153438|         65|\n|Adventure|       38| 7.899494949494948|         38|\n|   Action|       31| 7.888888888888888|         31|\n|     null|       29|7.9506410256410245|         29|\n|   Comedy|       23| 7.866666666666667|         23|\n|Biography|       18| 7.816153846153846|         18|\n|   Sci-Fi|       17| 7.978333333333333|         17|\n|  Romance|       13|7.8100000000000005|         13|\n| Thriller|       13|7.9833333333333325|         13|\n|    Crime|       11| 7.888888888888888|         11|\n+---------+---------+------------------+-----------+\n\n"
     ]
    }
   ],
   "source": [
    "# Rounding off the columns of Votes to two decimals\n",
    "\n",
    "from pyspark.sql.functions import col\n",
    "\n",
    "# Assuming df_add has columns 'genre' and 'movie_count'\n",
    "genre_top10 = df_add.orderBy(col(\"movie_count\").desc()).limit(10)\n",
    "\n",
    "# Show the result to verify\n",
    "genre_top10.show()\n",
    "\n"
   ]
  },
  {
   "cell_type": "code",
   "execution_count": 0,
   "metadata": {
    "application/vnd.databricks.v1+cell": {
     "cellMetadata": {
      "byteLimit": 2048000,
      "rowLimit": 10000
     },
     "inputWidgets": {},
     "nuid": "60c1c61a-b711-4389-abc4-ccaed13eb98a",
     "showTitle": false,
     "tableResultSettingsMap": {},
     "title": ""
    }
   },
   "outputs": [
    {
     "output_type": "stream",
     "name": "stdout",
     "output_type": "stream",
     "text": [
      "root\n |-- genre: integer (nullable = true)\n |-- total_cnt: integer (nullable = true)\n |-- avg_IMDb_rating: integer (nullable = true)\n |-- movie_count: integer (nullable = true)\n\n+-----+---------+---------------+-----------+\n|genre|total_cnt|avg_IMDb_rating|movie_count|\n+-----+---------+---------------+-----------+\n| null|       65|              7|         65|\n| null|       38|              7|         38|\n| null|       31|              7|         31|\n| null|       29|              7|         29|\n| null|       23|              7|         23|\n+-----+---------+---------------+-----------+\nonly showing top 5 rows\n\n"
     ]
    }
   ],
   "source": [
    "# Converting CVotes to int type\n",
    "\n",
    "from pyspark.sql.functions import col\n",
    "from pyspark.sql.types import IntegerType\n",
    "\n",
    "# Get the first 27 column names\n",
    "cols_to_convert = genre_top10.columns[0:27]\n",
    "\n",
    "# Cast each column to IntegerType\n",
    "for c in cols_to_convert:\n",
    "    genre_top10 = genre_top10.withColumn(c, col(c).cast(IntegerType()))\n",
    "\n",
    "# (Optional) Show the schema and a few rows to verify\n",
    "genre_top10.printSchema()\n",
    "genre_top10.show(5)\n"
   ]
  },
  {
   "cell_type": "markdown",
   "metadata": {
    "application/vnd.databricks.v1+cell": {
     "cellMetadata": {},
     "inputWidgets": {},
     "nuid": "b6f30525-3493-491b-a47e-cd6cc3631747",
     "showTitle": false,
     "tableResultSettingsMap": {},
     "title": ""
    }
   },
   "source": [
    "If you take a look at the final dataframe that you have gotten, you will see that you now have the complete information about all the demographic (Votes- and CVotes-related) columns across the top 10 genres. We can use this dataset to extract exciting insights about the voters!"
   ]
  },
  {
   "cell_type": "markdown",
   "metadata": {
    "application/vnd.databricks.v1+cell": {
     "cellMetadata": {},
     "inputWidgets": {},
     "nuid": "756f4f61-251f-4eba-9ab5-deb365578da9",
     "showTitle": false,
     "tableResultSettingsMap": {},
     "title": ""
    }
   },
   "source": [
    "-  ###  Subtask 3.2: Genre Counts!\n",
    "\n",
    "Now let's derive some insights from this data frame. Make a bar chart plotting different genres vs cnt using seaborn."
   ]
  },
  {
   "cell_type": "code",
   "execution_count": 0,
   "metadata": {
    "application/vnd.databricks.v1+cell": {
     "cellMetadata": {
      "byteLimit": 2048000,
      "rowLimit": 10000
     },
     "inputWidgets": {},
     "nuid": "e8617c8e-1021-4aba-a436-8a9396eca563",
     "showTitle": false,
     "tableResultSettingsMap": {},
     "title": ""
    }
   },
   "outputs": [],
   "source": [
    "# Countplot for genres\n",
    "\n",
    "from pyspark.sql.functions import col\n",
    "\n",
    "# Example for normalizing vote columns by movie_count\n",
    "vote_cols = [\n",
    "    \"CVotes10\", \"CVotes09\", \"CVotes08\", \"CVotes07\", \"CVotes06\", \"CVotes05\",\n",
    "    \"CVotes04\", \"CVotes03\", \"CVotes02\", \"CVotes01\",\n",
    "    \"CVotesMale\", \"CVotesFemale\", \"CVotesU18\", \"CVotesU18M\", \"CVotesU18F\",\n",
    "    \"CVotes1829\", \"CVotes1829M\", \"CVotes1829F\", \"CVotes3044\", \"CVotes3044M\",\n",
    "    \"CVotes3044F\", \"CVotes45A\", \"CVotes45AM\", \"CVotes45AF\", \"CVotes1000\",\n",
    "    \"CVotesUS\", \"CVotesnUS\"\n",
    "]\n",
    "\n",
    "for c in vote_cols:\n",
    "    if c in genre_top10.columns:\n",
    "        genre_top10 = genre_top10.withColumn(c, col(c) / col(\"movie_count\"))\n",
    "\n"
   ]
  },
  {
   "cell_type": "markdown",
   "metadata": {
    "application/vnd.databricks.v1+cell": {
     "cellMetadata": {},
     "inputWidgets": {},
     "nuid": "9f7e14a5-50aa-4f17-9979-516df475ddcf",
     "showTitle": false,
     "tableResultSettingsMap": {},
     "title": ""
    }
   },
   "source": [
    "**`Checkpoint 5:`** Is the bar for `Drama` the tallest? **Yes**"
   ]
  },
  {
   "cell_type": "code",
   "execution_count": 0,
   "metadata": {
    "application/vnd.databricks.v1+cell": {
     "cellMetadata": {
      "byteLimit": 2048000,
      "rowLimit": 10000
     },
     "inputWidgets": {},
     "nuid": "c4b16e2b-8a72-4ba9-a0ea-d2b1cd7bb66e",
     "showTitle": false,
     "tableResultSettingsMap": {},
     "title": ""
    }
   },
   "outputs": [
    {
     "output_type": "stream",
     "name": "stdout",
     "output_type": "stream",
     "text": [
      "['genre', 'total_cnt', 'avg_IMDb_rating', 'movie_count']\n"
     ]
    }
   ],
   "source": [
    "# find the most popular genre\n",
    "from pyspark.sql.functions import col\n",
    "\n",
    "# Example: dividing columns by movie_count\n",
    "for c in vote_cols:  # vote_cols = list of columns to normalize\n",
    "    if c in df_add.columns:\n",
    "        df_add = df_add.withColumn(c, col(c) / col(\"movie_count\"))\n",
    "print(df_add.columns)\n",
    "\n"
   ]
  },
  {
   "cell_type": "markdown",
   "metadata": {
    "application/vnd.databricks.v1+cell": {
     "cellMetadata": {},
     "inputWidgets": {},
     "nuid": "cc62df84-f008-484c-9ab6-cd8016494acf",
     "showTitle": false,
     "tableResultSettingsMap": {},
     "title": ""
    }
   },
   "source": [
    "-  ###  Subtask 3.3: Gender and Genre\n",
    "\n",
    "If you have closely looked at the Votes- and CVotes-related columns, you might have noticed the suffixes `F` and `M` indicating Female and Male. Since we have the vote counts for both males and females, across various age groups, let's now see how the popularity of genres vary between the two genders in the dataframe. \n",
    "\n",
    "1. Make the first heatmap to see how the average number of votes of males is varying across the genres. Use seaborn heatmap for this analysis. The X-axis should contain the four age-groups for males, i.e., `CVotesU18M`,`CVotes1829M`, `CVotes3044M`, and `CVotes45AM`. The Y-axis will have the genres and the annotation in the heatmap tell the average number of votes for that age-male group. \n",
    "\n",
    "2. Make the second heatmap to see how the average number of votes of females is varying across the genres. Use seaborn heatmap for this analysis. The X-axis should contain the four age-groups for females, i.e., `CVotesU18F`,`CVotes1829F`, `CVotes3044F`, and `CVotes45AF`. The Y-axis will have the genres and the annotation in the heatmap tell the average number of votes for that age-female group. \n",
    "\n",
    "3. Make sure that you plot these heatmaps side by side using `subplots` so that you can easily compare the two genders and derive insights.\n",
    "\n",
    "4. Write your any three inferences from this plot. You can make use of the previous bar plot also here for better insights.\n",
    "Refer to this link- https://seaborn.pydata.org/generated/seaborn.heatmap.html. You might have to plot something similar to the fifth chart in this page (You have to plot two such heatmaps side by side).\n",
    "\n",
    "5. Repeat subtasks 1 to 4, but now instead of taking the CVotes-related columns, you need to do the same process for the Votes-related columns. These heatmaps will show you how the two genders have rated movies across various genres.\n",
    "\n",
    "You might need the below link for formatting your heatmap.\n",
    "https://stackoverflow.com/questions/56942670/matplotlib-seaborn-first-and-last-row-cut-in-half-of-heatmap-plot\n",
    "\n",
    "-  Note : Use `genre_top10` dataframe for this subtask"
   ]
  },
  {
   "cell_type": "code",
   "execution_count": 0,
   "metadata": {
    "application/vnd.databricks.v1+cell": {
     "cellMetadata": {
      "byteLimit": 2048000,
      "rowLimit": 10000
     },
     "inputWidgets": {},
     "nuid": "64ce479b-e353-4824-9964-29258e944d9b",
     "showTitle": false,
     "tableResultSettingsMap": {},
     "title": ""
    }
   },
   "outputs": [
    {
     "output_type": "stream",
     "name": "stdout",
     "output_type": "stream",
     "text": [
      "Most popular genre: Drama (65 movies)\n"
     ]
    }
   ],
   "source": [
    "# 1st set of heat maps for CVotes-related columns\n",
    "\n",
    "from pyspark.sql.functions import col\n",
    "\n",
    "# Get the genre with the highest movie_count\n",
    "most_popular_genre = df_add.orderBy(col(\"movie_count\").desc()).select(\"genre\", \"movie_count\").first()\n",
    "\n",
    "print(f\"Most popular genre: {most_popular_genre['genre']} ({most_popular_genre['movie_count']} movies)\")\n",
    "\n"
   ]
  },
  {
   "cell_type": "markdown",
   "metadata": {
    "application/vnd.databricks.v1+cell": {
     "cellMetadata": {},
     "inputWidgets": {},
     "nuid": "139dbeaf-7f94-4b34-8b49-0e850d9273b7",
     "showTitle": false,
     "tableResultSettingsMap": {},
     "title": ""
    }
   },
   "source": [
    "**`Inferences:`** A few inferences that can be seen from the heatmap above is that males have voted more than females, and Sci-Fi appears to be most popular among the 18-29 age group irrespective of their gender. What more can you infer from the two heatmaps that you have plotted? Write your three inferences/observations below:\n",
    "- **Inference 1**: Sci-Fi also appears to be the most popular category among males and females of age 30-44 and above 45 as well (also applies for males and females of age under 18)\n",
    "\n",
    "- **Inference 2**: Thriller and action seem to the second and adventure seems to be the third favourtie category among males of age 18-29 (animation seems to be the least favourite) whereas adventure seems to be the second and animation seems to be the thrid favourite category among females of age 18-29 (crime seems to be the least favourite). This implies that males of age 18-29 would rather watch any other genre of movie than animation whereas the females of age 18-29 would rather watch any other genre of movie than crime \n",
    "\n",
    "- **Inference 3**: Males of age under 18 like romantic movies the least whereas thats not the case with females under 18, who like crime movies the least.\n",
    "\n",
    "- **Inference 4**: Crime movies are generally the least favourite among females of all ages except when they turn above 45. They somehow like crime movies more than animated movies which used to be their favourite in their younger days. "
   ]
  },
  {
   "cell_type": "markdown",
   "metadata": {
    "application/vnd.databricks.v1+cell": {
     "cellMetadata": {},
     "inputWidgets": {},
     "nuid": "cf53fbaf-c91d-41d9-b19b-e80d9b991b00",
     "showTitle": false,
     "tableResultSettingsMap": {},
     "title": ""
    }
   },
   "source": [
    "**`Inferences:`** Sci-Fi appears to be the highest rated genre in the age group of U18 for both males and females. Also, females in this age group have rated it a bit higher than the males in the same age group. What more can you infer from the two heatmaps that you have plotted? Write your three inferences/observations below:\n",
    "- **Inference 1**:Sci-Fi appears to be the highest rated genre in males of all age groups whereas for females, after being 18+, the highest rated genre becomes animation for all other age groups.\n",
    "\n",
    "- **Inference 2**: For males, animated movies are the least rated for age group under 18 whereas romantic movies become the least rated for all other age groups. For females, crime movies remain the least rated for all age groups except 45+ where that place is shockingly taken by romantic movies\n",
    "\n",
    "- **Inference 3**:In general, people, irrespective of age and gender like movies more when they are younger and that liking and the tendency to give higher rating decreases over time, thereby decreasing the average rating of age groups if we go from under 18 to 45+"
   ]
  },
  {
   "cell_type": "markdown",
   "metadata": {
    "application/vnd.databricks.v1+cell": {
     "cellMetadata": {},
     "inputWidgets": {},
     "nuid": "1f0b0f8f-73b0-462e-8931-c7ae82cfd424",
     "showTitle": false,
     "tableResultSettingsMap": {},
     "title": ""
    }
   },
   "source": [
    "-  ###  Subtask 3.4: US vs non-US Cross Analysis\n",
    "\n",
    "The dataset contains both the US and non-US movies. Let's analyse how both the US and the non-US voters have responded to the US and the non-US movies.\n",
    "\n",
    "1. Create a column `IFUS` in the dataframe `movies`. The column `IFUS` should contain the value \"USA\" if the `Country` of the movie is \"USA\". For all other countries other than the USA, `IFUS` should contain the value `non-USA`.\n",
    "\n",
    "\n",
    "2. Now make a boxplot that shows how the number of votes from the US people i.e. `CVotesUS` is varying for the US and non-US movies. Make use of the column `IFUS` to make this plot. Similarly, make another subplot that shows how non US voters have voted for the US and non-US movies by plotting `CVotesnUS` for both the US and non-US movies. Write any of your two inferences/observations from these plots.\n",
    "\n",
    "\n",
    "3. Again do a similar analysis but with the ratings. Make a boxplot that shows how the ratings from the US people i.e. `VotesUS` is varying for the US and non-US movies. Similarly, make another subplot that shows how `VotesnUS` is varying for the US and non-US movies. Write any of your two inferences/observations from these plots.\n",
    "\n",
    "Note : Use `movies` dataframe for this subtask. Make use of this documention to format your boxplot - https://seaborn.pydata.org/generated/seaborn.boxplot.html"
   ]
  },
  {
   "cell_type": "code",
   "execution_count": 0,
   "metadata": {
    "application/vnd.databricks.v1+cell": {
     "cellMetadata": {
      "byteLimit": 2048000,
      "rowLimit": 10000
     },
     "inputWidgets": {},
     "nuid": "2c43f1a2-c14a-4486-bc28-986659e9dd29",
     "showTitle": false,
     "tableResultSettingsMap": {},
     "title": ""
    }
   },
   "outputs": [],
   "source": [
    "# Creating IFUS column\n",
    "#initializing all columns with USA\n",
    "\n",
    "from pyspark.sql.functions import lit\n",
    "\n",
    "# Add IFUS column with all values as 'USA'\n",
    "movies = movies.withColumn(\"IFUS\", lit(\"USA\"))\n"
   ]
  },
  {
   "cell_type": "markdown",
   "metadata": {
    "application/vnd.databricks.v1+cell": {
     "cellMetadata": {},
     "inputWidgets": {},
     "nuid": "252969e9-63ff-4e38-9486-b25a4858da61",
     "showTitle": false,
     "tableResultSettingsMap": {},
     "title": ""
    }
   },
   "source": [
    "**`Inferences:`** Write your two inferences/observations below:\n",
    "- Inference 1: From both plots, we can see that non-USA plot's IQR is slightly larger thant USA people plot\n",
    "- Inference 2: From both plots, there seem to be some outliers in USA plot, suggesting that some USA movies got exceptionally high votes from USA and non-USA people"
   ]
  },
  {
   "cell_type": "markdown",
   "metadata": {
    "application/vnd.databricks.v1+cell": {
     "cellMetadata": {},
     "inputWidgets": {},
     "nuid": "c6001a30-80bb-41b1-8a9a-2214ced198ea",
     "showTitle": false,
     "tableResultSettingsMap": {},
     "title": ""
    }
   },
   "source": [
    "**`Inferences:`** Write your two inferences/observations below:\n",
    "- Inference 1: From both plots, we can see that there are some USA movies that have got exceptionally high rating from USA and non-USA people (outliers in USA plot)\n",
    "- Inference 2: From both plots, USA people have roughly given ratings to non-USA movies in range (7.8-8) and USA movies in range (7.8-8.1) whereas non-USA people have roughly given ratings to non-USA movies in range(7.6-8) and USA movies in range(7.6-7.9). There seems to be trend here that states that USA people will rate USA movies higher and non-USA people will rate non-USA movies higher"
   ]
  },
  {
   "cell_type": "markdown",
   "metadata": {
    "application/vnd.databricks.v1+cell": {
     "cellMetadata": {},
     "inputWidgets": {},
     "nuid": "3a43b905-06a3-47e3-b214-77fd8a3e3935",
     "showTitle": false,
     "tableResultSettingsMap": {},
     "title": ""
    }
   },
   "source": [
    "-  ###  Subtask 3.5:  Top 1000 Voters Vs Genres\n",
    "\n",
    "You might have also observed the column `CVotes1000`. This column represents the top 1000 voters on IMDb and gives the count for the number of these voters who have voted for a particular movie. Let's see how these top 1000 voters have voted across the genres. \n",
    "\n",
    "1. Sort the dataframe genre_top10 based on the value of `CVotes1000`in a descending order.\n",
    "\n",
    "2. Make a seaborn barplot for `genre` vs `CVotes1000`.\n",
    "\n",
    "3. Write your inferences. You can also try to relate it with the heatmaps you did in the previous subtasks.\n",
    "\n",
    "\n"
   ]
  },
  {
   "cell_type": "code",
   "execution_count": 0,
   "metadata": {
    "application/vnd.databricks.v1+cell": {
     "cellMetadata": {
      "byteLimit": 2048000,
      "rowLimit": 10000
     },
     "inputWidgets": {},
     "nuid": "6e508626-5669-409b-831e-11e731923ec7",
     "showTitle": false,
     "tableResultSettingsMap": {},
     "title": ""
    }
   },
   "outputs": [
    {
     "output_type": "display_data",
     "data": {
      "text/plain": [
       ""
      ]
     },
     "metadata": {
      "application/vnd.databricks.v1+output": {
       "arguments": {},
       "data": "",
       "errorSummary": "Command skipped",
       "errorTraceType": "ansi",
       "metadata": {},
       "type": "ipynbError"
      }
     },
     "output_type": "display_data"
    }
   ],
   "source": [
    "genre_top10"
   ]
  },
  {
   "cell_type": "code",
   "execution_count": 0,
   "metadata": {
    "application/vnd.databricks.v1+cell": {
     "cellMetadata": {
      "byteLimit": 2048000,
      "rowLimit": 10000
     },
     "inputWidgets": {},
     "nuid": "88a9849d-baae-45cf-8459-d35e4c9edf4b",
     "showTitle": false,
     "tableResultSettingsMap": {},
     "title": ""
    }
   },
   "outputs": [
    {
     "output_type": "stream",
     "name": "stdout",
     "output_type": "stream",
     "text": [
      "+---------------------------------+----------+\n|Title                            |CVotes1000|\n+---------------------------------+----------+\n|Inception                        |885       |\n|The Avengers                     |842       |\n|The Dark Knight Rises            |840       |\n|Shutter Island                   |840       |\n|Django Unchained                 |816       |\n|Skyfall                          |802       |\n|Black Swan                       |802       |\n|Kick-Ass                         |794       |\n|The Hobbit: An Unexpected Journey|785       |\n|X-Men: First Class               |780       |\n+---------------------------------+----------+\nonly showing top 10 rows\n\n"
     ]
    }
   ],
   "source": [
    "# Sorting by CVotes1000\n",
    "from pyspark.sql.functions import col\n",
    "\n",
    "# Sort by CVotes1000 in descending order (highest first)\n",
    "movies_sorted = movies.orderBy(col(\"CVotes1000\").desc())\n",
    "\n",
    "# Show the top 10 rows\n",
    "movies_sorted.select(\"Title\", \"CVotes1000\").show(10, truncate=False)\n"
   ]
  },
  {
   "cell_type": "markdown",
   "metadata": {
    "application/vnd.databricks.v1+cell": {
     "cellMetadata": {},
     "inputWidgets": {},
     "nuid": "cf2751a3-f92d-49ce-b181-b5a844f9a7dd",
     "showTitle": false,
     "tableResultSettingsMap": {},
     "title": ""
    }
   },
   "source": [
    "**`Inferences:`** Write your inferences/observations here.\n",
    "- 1 Sci-Fi still seems to be the highest voted category here as well, as was the case in case of heatmaps\n",
    "- 2 Same trends seen in the heatmaps are seen here with regards to adventure, action and thriller as them being the next voted genres"
   ]
  },
  {
   "cell_type": "markdown",
   "metadata": {
    "application/vnd.databricks.v1+cell": {
     "cellMetadata": {},
     "inputWidgets": {},
     "nuid": "9cb5794c-5fd2-4b5b-8114-3936be2748a1",
     "showTitle": false,
     "tableResultSettingsMap": {},
     "title": ""
    }
   },
   "source": [
    "**`Checkpoint 6:`** The genre `Romance` seems to be most unpopular among the top 1000 voters."
   ]
  },
  {
   "cell_type": "markdown",
   "metadata": {
    "application/vnd.databricks.v1+cell": {
     "cellMetadata": {},
     "inputWidgets": {},
     "nuid": "f1cbe2e9-de43-4f11-8716-adc3018fda07",
     "showTitle": false,
     "tableResultSettingsMap": {},
     "title": ""
    }
   },
   "source": [
    "With the above subtask, your assignment is over. In your free time, do explore the dataset further on your own and see what kind of other insights you can get across various other columns."
   ]
  },
  {
   "cell_type": "markdown",
   "metadata": {
    "application/vnd.databricks.v1+cell": {
     "cellMetadata": {},
     "inputWidgets": {},
     "nuid": "00c4f8c3-17c6-4ff4-9744-d82e7a3de523",
     "showTitle": false,
     "tableResultSettingsMap": {},
     "title": ""
    }
   },
   "source": [
    "## Now complete following scenarios"
   ]
  },
  {
   "cell_type": "code",
   "execution_count": 0,
   "metadata": {
    "application/vnd.databricks.v1+cell": {
     "cellMetadata": {
      "byteLimit": 2048000,
      "rowLimit": 10000
     },
     "inputWidgets": {},
     "nuid": "98308e49-8392-4cde-b50c-aba3ee4ba16e",
     "showTitle": false,
     "tableResultSettingsMap": {},
     "title": ""
    }
   },
   "outputs": [
    {
     "output_type": "stream",
     "name": "stdout",
     "output_type": "stream",
     "text": [
      "+-----------------------+-----------+\n|Title                  |IMDb_rating|\n+-----------------------+-----------+\n|Inception              |8.8        |\n|Interstellar           |8.6        |\n|Whiplash               |8.5        |\n|The Dark Knight Rises  |8.4        |\n|Django Unchained       |8.4        |\n|Toy Story 3            |8.3        |\n|La La Land             |8.2        |\n|Inside Out             |8.2        |\n|The Wolf of Wall Street|8.2        |\n|Warrior                |8.2        |\n+-----------------------+-----------+\n\n"
     ]
    }
   ],
   "source": [
    "# Scenario 1: Top 10 movies by IMDb rating\n",
    "\n",
    "from pyspark.sql.functions import col\n",
    "\n",
    "# Sort by IMDb_rating in descending order and select top 10\n",
    "top10_imdb = movies.orderBy(col(\"IMDb_rating\").desc()).select(\"Title\", \"IMDb_rating\").limit(10)\n",
    "\n",
    "top10_imdb.show(truncate=False)\n",
    "\n"
   ]
  },
  {
   "cell_type": "code",
   "execution_count": 0,
   "metadata": {
    "application/vnd.databricks.v1+cell": {
     "cellMetadata": {
      "byteLimit": 2048000,
      "rowLimit": 10000
     },
     "inputWidgets": {},
     "nuid": "96865f21-557d-40c9-a1eb-3cdc2b4dd818",
     "showTitle": false,
     "tableResultSettingsMap": {},
     "title": ""
    }
   },
   "outputs": [
    {
     "output_type": "stream",
     "name": "stdout",
     "output_type": "stream",
     "text": [
      "+------------------------------------------+----------+-----------+\n|Title                                     |title_year|IMDb_rating|\n+------------------------------------------+----------+-----------+\n|Star Wars: Episode VII - The Force Awakens|2015      |8.1        |\n|The Avengers                              |2012      |8.1        |\n|The Dark Knight Rises                     |2012      |8.4        |\n|Zootopia                                  |2016      |8.1        |\n|Inside Out                                |2015      |8.2        |\n|Guardians of the Galaxy                   |2014      |8.1        |\n|The Help                                  |2011      |8.1        |\n|La La Land                                |2016      |8.2        |\n|Gone Girl                                 |2014      |8.1        |\n|The Imitation Game                        |2014      |8.1        |\n|Django Unchained                          |2012      |8.4        |\n|Lion                                      |2016      |8.1        |\n|12 Years a Slave                          |2013      |8.1        |\n|The Grand Budapest Hotel                  |2014      |8.1        |\n|Spotlight                                 |2015      |8.1        |\n|Interstellar                              |2014      |8.6        |\n|The Wolf of Wall Street                   |2013      |8.2        |\n|Prisoners                                 |2013      |8.1        |\n|Whiplash                                  |2014      |8.5        |\n|Mad Max: Fury Road                        |2015      |8.1        |\n+------------------------------------------+----------+-----------+\nonly showing top 20 rows\n\n"
     ]
    }
   ],
   "source": [
    "# Scenario 2: Movies released after 2010 with rating above 8\n",
    "\n",
    "from pyspark.sql.functions import col\n",
    "\n",
    "# Filter movies released after 2010 with IMDb_rating > 8\n",
    "movies_2010plus_rating8 = movies.filter(\n",
    "    (col(\"title_year\") > 2010) & (col(\"IMDb_rating\") > 8)\n",
    ").select(\"Title\", \"title_year\", \"IMDb_rating\")\n",
    "\n",
    "movies_2010plus_rating8.show(truncate=False)\n",
    "\n"
   ]
  },
  {
   "cell_type": "code",
   "execution_count": 0,
   "metadata": {
    "application/vnd.databricks.v1+cell": {
     "cellMetadata": {
      "byteLimit": 2048000,
      "rowLimit": 10000
     },
     "inputWidgets": {},
     "nuid": "0d525754-8458-4020-8096-d5aec5b6afdb",
     "showTitle": false,
     "tableResultSettingsMap": {},
     "title": ""
    }
   },
   "outputs": [
    {
     "output_type": "stream",
     "name": "stdout",
     "output_type": "stream",
     "text": [
      "+---------+-----------------+\n|genre    |avg_IMDb_rating  |\n+---------+-----------------+\n|Music    |8.35             |\n|Western  |8.0              |\n|Sci-Fi   |8.0              |\n|Animation|7.927272727272726|\n|History  |7.925000000000001|\n|Mystery  |7.914285714285714|\n|Adventure|7.907894736842105|\n|Thriller |7.884615384615385|\n|Action   |7.880645161290321|\n|Crime    |7.872727272727272|\n+---------+-----------------+\nonly showing top 10 rows\n\n"
     ]
    }
   ],
   "source": [
    "# Scenario 3: Average rating by genre (splitting genres into individual entries)\n",
    "\n",
    "from pyspark.sql.functions import array, explode, col, avg\n",
    "\n",
    "# Step 1: Combine genre_1, genre_2, genre_3 into an array column\n",
    "movies_with_genres = movies.withColumn(\n",
    "    \"GenreArray\", \n",
    "    array(col(\"genre_1\"), col(\"genre_2\"), col(\"genre_3\"))\n",
    ")\n",
    "\n",
    "# Step 2: Explode the array to get one row per genre\n",
    "exploded_movies = movies_with_genres.withColumn(\"genre\", explode(col(\"GenreArray\")))\n",
    "\n",
    "# Step 3: Filter out null or empty genres\n",
    "exploded_movies_filtered = exploded_movies.filter(\n",
    "    (col(\"genre\").isNotNull()) & (col(\"genre\") != \"\")\n",
    ")\n",
    "\n",
    "# Step 4: Calculate average IMDb rating by genre\n",
    "avg_rating_by_genre = exploded_movies_filtered.groupBy(\"genre\").agg(\n",
    "    avg(\"IMDb_rating\").alias(\"avg_IMDb_rating\")\n",
    ")\n",
    "\n",
    "# Step 5: Show the result, sorted by average rating descending\n",
    "avg_rating_by_genre.orderBy(col(\"avg_IMDb_rating\").desc()).show(10, truncate=False)\n",
    "\n"
   ]
  },
  {
   "cell_type": "code",
   "execution_count": 0,
   "metadata": {
    "application/vnd.databricks.v1+cell": {
     "cellMetadata": {
      "byteLimit": 2048000,
      "rowLimit": 10000
     },
     "inputWidgets": {},
     "nuid": "6689acf9-c564-40b3-96b3-ba5f0161031c",
     "showTitle": false,
     "tableResultSettingsMap": {},
     "title": ""
    }
   },
   "outputs": [
    {
     "output_type": "stream",
     "name": "stdout",
     "output_type": "stream",
     "text": [
      "+----------+----------+\n|title_year|num_movies|\n+----------+----------+\n|2010      |18        |\n|2011      |11        |\n|2012      |13        |\n|2013      |17        |\n|2014      |20        |\n|2015      |12        |\n|2016      |9         |\n+----------+----------+\n\n"
     ]
    }
   ],
   "source": [
    "# Scenario 4: Number of movies released each year\n",
    "\n",
    "from pyspark.sql.functions import col, count\n",
    "\n",
    "# Group by title_year and count the number of movies per year\n",
    "movies_per_year = movies.groupBy(col(\"title_year\")).agg(\n",
    "    count(\"*\").alias(\"num_movies\")\n",
    ").orderBy(col(\"title_year\"))\n",
    "\n",
    "movies_per_year.show(truncate=False)\n",
    "\n"
   ]
  },
  {
   "cell_type": "code",
   "execution_count": 0,
   "metadata": {
    "application/vnd.databricks.v1+cell": {
     "cellMetadata": {
      "byteLimit": 2048000,
      "rowLimit": 10000
     },
     "inputWidgets": {},
     "nuid": "2c1473bd-1061-4e82-ac22-87d2ab7a4e07",
     "showTitle": false,
     "tableResultSettingsMap": {},
     "title": ""
    }
   },
   "outputs": [
    {
     "output_type": "stream",
     "name": "stdout",
     "output_type": "stream",
     "text": [
      "+--------------+------------------+\n|content_rating|avg_runtime       |\n+--------------+------------------+\n|PG-13         |130.46666666666667|\n|R             |125.30952380952381|\n|PG            |117.08333333333333|\n|G             |103.0             |\n+--------------+------------------+\n\n"
     ]
    }
   ],
   "source": [
    "# Scenario 6: Movies grouped by content rating and their average durations\n",
    "\n",
    "from pyspark.sql.functions import col, avg\n",
    "\n",
    "# Group by content_rating and calculate the average Runtime\n",
    "avg_runtime_by_rating = movies.groupBy(\"content_rating\").agg(\n",
    "    avg(\"Runtime\").alias(\"avg_runtime\")\n",
    ").orderBy(col(\"avg_runtime\").desc())\n",
    "\n",
    "avg_runtime_by_rating.show(truncate=False)\n",
    "\n"
   ]
  },
  {
   "cell_type": "code",
   "execution_count": 0,
   "metadata": {
    "application/vnd.databricks.v1+cell": {
     "cellMetadata": {
      "byteLimit": 2048000,
      "rowLimit": 10000
     },
     "inputWidgets": {},
     "nuid": "257826fa-e68d-4a18-875e-590c5b3441ca",
     "showTitle": false,
     "tableResultSettingsMap": {},
     "title": ""
    }
   },
   "outputs": [
    {
     "output_type": "stream",
     "name": "stdout",
     "output_type": "stream",
     "text": [
      "+----------+----------+\n|title_year|num_movies|\n+----------+----------+\n|2014      |20        |\n+----------+----------+\nonly showing top 1 row\n\n"
     ]
    }
   ],
   "source": [
    "# Scenario 7: Year with the most movie releases\n",
    "from pyspark.sql.functions import col, count\n",
    "\n",
    "movies_per_year = movies.groupBy(col(\"title_year\")).agg(\n",
    "    count(\"Title\").alias(\"num_movies\")\n",
    ").orderBy(col(\"num_movies\").desc())\n",
    "\n",
    "movies_per_year.show(1, truncate=False)\n",
    "\n"
   ]
  },
  {
   "cell_type": "code",
   "execution_count": 0,
   "metadata": {
    "application/vnd.databricks.v1+cell": {
     "cellMetadata": {
      "byteLimit": 2048000,
      "rowLimit": 10000
     },
     "inputWidgets": {},
     "nuid": "8eafdf88-9fa6-469f-bd89-6f6a906619ac",
     "showTitle": false,
     "tableResultSettingsMap": {},
     "title": ""
    }
   },
   "outputs": [
    {
     "output_type": "stream",
     "name": "stdout",
     "output_type": "stream",
     "text": [
      "+---------------------------+----------+------+----------+-------------------+\n|Title                      |title_year|budget|Gross     |profit             |\n+---------------------------+----------+------+----------+-------------------+\n|Tucker and Dale vs Evil    |2010      |5.0   |0.223838  |-4.776162          |\n|Amour                      |2012      |8.9   |0.225377  |-8.674623          |\n|Rush                       |2013      |38.0  |26.903709 |-11.096291         |\n|Warrior                    |2011      |25.0  |13.651662 |-11.348338         |\n|Flipped                    |2010      |14.0  |1.752214  |-12.247786         |\n|X-Men: First Class         |2011      |160.0 |146.405371|-13.594628999999998|\n|Scott Pilgrim vs. the World|2010      |60.0  |31.49427  |-28.50573          |\n|Tangled                    |2010      |260.0 |200.807262|-59.19273799999999 |\n|Edge of Tomorrow           |2014      |178.0 |100.189501|-77.810499         |\n|The Little Prince          |2015      |81.2  |1.339152  |-79.860848         |\n|Hugo                       |2011      |170.0 |73.820094 |-96.179906         |\n+---------------------------+----------+------+----------+-------------------+\n\n"
     ]
    }
   ],
   "source": [
    "# Scenario 9: Movies with budget greater than revenue (loss-making)\n",
    "\n",
    "from pyspark.sql.functions import col\n",
    "\n",
    "# Filter movies where profit < 0 (i.e., budget > Gross)\n",
    "loss_making_movies = movies.filter(col(\"profit\") < 0)\n",
    "\n",
    "# Display relevant columns\n",
    "loss_making_movies.select(\"Title\", \"title_year\", \"budget\", \"Gross\", \"profit\").show(truncate=False)\n",
    "\n"
   ]
  },
  {
   "cell_type": "code",
   "execution_count": 0,
   "metadata": {
    "application/vnd.databricks.v1+cell": {
     "cellMetadata": {
      "byteLimit": 2048000,
      "rowLimit": 10000
     },
     "inputWidgets": {},
     "nuid": "0eb58ec1-3270-41e2-ae31-db6598416749",
     "showTitle": false,
     "tableResultSettingsMap": {},
     "title": ""
    }
   },
   "outputs": [
    {
     "output_type": "stream",
     "name": "stdout",
     "output_type": "stream",
     "text": [
      "Most common actor/actress: Leonardo DiCaprio (appeared in 5 movies)\n"
     ]
    }
   ],
   "source": [
    "# Scenario 10: Most common actor/actress (based on appearances in actor_1_name, actor_2_name, actor_3_name)\n",
    "\n",
    "from pyspark.sql.functions import col\n",
    "\n",
    "# Select each actor column, renaming them to a common name\n",
    "actors_1 = movies.select(col(\"actor_1_name\").alias(\"actor\"))\n",
    "actors_2 = movies.select(col(\"actor_2_name\").alias(\"actor\"))\n",
    "actors_3 = movies.select(col(\"actor_3_name\").alias(\"actor\"))\n",
    "\n",
    "# Union all actors into one DataFrame\n",
    "all_actors = actors_1.union(actors_2).union(actors_3)\n",
    "\n",
    "# Group by actor and count appearances\n",
    "actor_counts = all_actors.groupBy(\"actor\").count().orderBy(col(\"count\").desc())\n",
    "\n",
    "# Get the most common actor/actress\n",
    "most_common_actor = actor_counts.first()\n",
    "\n",
    "print(f\"Most common actor/actress: {most_common_actor['actor']} (appeared in {most_common_actor['count']} movies)\")\n",
    "\n"
   ]
  }
 ],
 "metadata": {
  "application/vnd.databricks.v1+notebook": {
   "computePreferences": null,
   "dashboards": [],
   "environmentMetadata": null,
   "inputWidgetPreferences": null,
   "language": "python",
   "notebookMetadata": {
    "pythonIndentUnit": 4
   },
   "notebookName": "IMDB_Movie_EDA 2025-04-26 11_13_00t",
   "widgets": {}
  },
  "kernelspec": {
   "display_name": "Python 3",
   "language": "python",
   "name": "python3"
  },
  "language_info": {
   "codemirror_mode": {
    "name": "ipython",
    "version": 3
   },
   "file_extension": ".py",
   "mimetype": "text/x-python",
   "name": "python",
   "nbconvert_exporter": "python",
   "pygments_lexer": "ipython3",
   "version": "3.8.3"
  }
 },
 "nbformat": 4,
 "nbformat_minor": 0
}