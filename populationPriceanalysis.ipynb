{
 "cells": [
  {
   "cell_type": "code",
   "execution_count": 0,
   "metadata": {
    "application/vnd.databricks.v1+cell": {
     "cellMetadata": {
      "byteLimit": 2048000,
      "rowLimit": 10000
     },
     "inputWidgets": {},
     "nuid": "085bf424-799a-4c3c-a710-d187b1584bb2",
     "showTitle": false,
     "tableResultSettingsMap": {},
     "title": ""
    }
   },
   "outputs": [
    {
     "output_type": "stream",
     "name": "stdout",
     "output_type": "stream",
     "text": [
      "root\n |-- 2014 rank: integer (nullable = true)\n |-- City: string (nullable = true)\n |-- State: string (nullable = true)\n |-- State Code: string (nullable = true)\n |-- 2014 Population estimate: integer (nullable = true)\n |-- 2015 median sales price: double (nullable = true)\n\n+---------+-------------+-------+----------+------------------------+-----------------------+\n|2014 rank|         City|  State|State Code|2014 Population estimate|2015 median sales price|\n+---------+-------------+-------+----------+------------------------+-----------------------+\n|      101|   Birmingham|Alabama|        AL|                  212247|                  162.9|\n|      125|   Huntsville|Alabama|        AL|                  188226|                  157.7|\n|      122|       Mobile|Alabama|        AL|                  194675|                  122.5|\n|      114|   Montgomery|Alabama|        AL|                  200481|                  129.0|\n|       64|Anchorage[19]| Alaska|        AK|                  301010|                   null|\n+---------+-------------+-------+----------+------------------------+-----------------------+\nonly showing top 5 rows\n\n"
     ]
    }
   ],
   "source": [
    "file_path = \"/databricks-datasets/samples/population-vs-price/data_geo.csv\"\n",
    "df = spark.read.csv(file_path, header=True, inferSchema=True)\n",
    "df.printSchema()\n",
    "df.show(5)"
   ]
  },
  {
   "cell_type": "code",
   "execution_count": 0,
   "metadata": {
    "application/vnd.databricks.v1+cell": {
     "cellMetadata": {
      "byteLimit": 2048000,
      "rowLimit": 10000
     },
     "inputWidgets": {},
     "nuid": "7eb79bde-0ecb-4a8c-a114-61b47bc337f1",
     "showTitle": false,
     "tableResultSettingsMap": {},
     "title": ""
    }
   },
   "outputs": [
    {
     "output_type": "stream",
     "name": "stdout",
     "output_type": "stream",
     "text": [
      "+-------------+-------+----------+------------------------+-----------------------+\n|         City|  State|State Code|2014 Population estimate|2015 median sales price|\n+-------------+-------+----------+------------------------+-----------------------+\n|   Birmingham|Alabama|        AL|                  212247|                  162.9|\n|   Huntsville|Alabama|        AL|                  188226|                  157.7|\n|       Mobile|Alabama|        AL|                  194675|                  122.5|\n|   Montgomery|Alabama|        AL|                  200481|                  129.0|\n|Anchorage[19]| Alaska|        AK|                  301010|                   null|\n+-------------+-------+----------+------------------------+-----------------------+\nonly showing top 5 rows\n\n"
     ]
    }
   ],
   "source": [
    "df_selected = df.select(\n",
    "    \"City\", \"State\", \"State Code\", \n",
    "    \"2014 Population estimate\", \"2015 median sales price\"\n",
    ")\n",
    "df_selected.show(5)"
   ]
  },
  {
   "cell_type": "markdown",
   "metadata": {
    "application/vnd.databricks.v1+cell": {
     "cellMetadata": {},
     "inputWidgets": {},
     "nuid": "cb9e4db6-2301-4338-84e6-8dd3008a8388",
     "showTitle": false,
     "tableResultSettingsMap": {},
     "title": ""
    }
   },
   "source": [
    "to see top 10 most populated cities"
   ]
  },
  {
   "cell_type": "code",
   "execution_count": 0,
   "metadata": {
    "application/vnd.databricks.v1+cell": {
     "cellMetadata": {
      "byteLimit": 2048000,
      "rowLimit": 10000
     },
     "inputWidgets": {},
     "nuid": "09d49a85-e32c-4781-b23c-14720d3751dc",
     "showTitle": false,
     "tableResultSettingsMap": {},
     "title": ""
    }
   },
   "outputs": [
    {
     "output_type": "display_data",
     "data": {
      "text/html": [
       "<style scoped>\n",
       "  .table-result-container {\n",
       "    max-height: 300px;\n",
       "    overflow: auto;\n",
       "  }\n",
       "  table, th, td {\n",
       "    border: 1px solid black;\n",
       "    border-collapse: collapse;\n",
       "  }\n",
       "  th, td {\n",
       "    padding: 5px;\n",
       "  }\n",
       "  th {\n",
       "    text-align: left;\n",
       "  }\n",
       "</style><div class='table-result-container'><table class='table-result'><thead style='background-color: white'><tr><th>City</th><th>State</th><th>State Code</th><th>2014 Population estimate</th><th>2015 median sales price</th></tr></thead><tbody><tr><td>New York[6]</td><td>New York</td><td>NY</td><td>8491079</td><td>388.6</td></tr><tr><td>Los Angeles</td><td>California</td><td>CA</td><td>3928864</td><td>434.7</td></tr><tr><td>Chicago</td><td>Illinois</td><td>IL</td><td>2722389</td><td>192.5</td></tr><tr><td>Houston[7]</td><td>Texas</td><td>TX</td><td>2239558</td><td>200.3</td></tr><tr><td>Philadelphia[8]</td><td>Pennsylvania</td><td>PA</td><td>1560297</td><td>204.9</td></tr><tr><td>Phoenix</td><td>Arizona</td><td>AZ</td><td>1537058</td><td>206.1</td></tr><tr><td>San Antonio</td><td>Texas</td><td>TX</td><td>1436697</td><td>184.7</td></tr><tr><td>San Diego</td><td>California</td><td>CA</td><td>1381069</td><td>510.3</td></tr><tr><td>Dallas</td><td>Texas</td><td>TX</td><td>1281047</td><td>192.5</td></tr><tr><td>San Jose</td><td>California</td><td>CA</td><td>1015785</td><td>900.0</td></tr></tbody></table></div>"
      ]
     },
     "metadata": {
      "application/vnd.databricks.v1+output": {
       "addedWidgets": {},
       "aggData": [],
       "aggError": "",
       "aggOverflow": false,
       "aggSchema": [],
       "aggSeriesLimitReached": false,
       "aggType": "",
       "arguments": {},
       "columnCustomDisplayInfos": {},
       "data": [
        [
         "New York[6]",
         "New York",
         "NY",
         8491079,
         388.6
        ],
        [
         "Los Angeles",
         "California",
         "CA",
         3928864,
         434.7
        ],
        [
         "Chicago",
         "Illinois",
         "IL",
         2722389,
         192.5
        ],
        [
         "Houston[7]",
         "Texas",
         "TX",
         2239558,
         200.3
        ],
        [
         "Philadelphia[8]",
         "Pennsylvania",
         "PA",
         1560297,
         204.9
        ],
        [
         "Phoenix",
         "Arizona",
         "AZ",
         1537058,
         206.1
        ],
        [
         "San Antonio",
         "Texas",
         "TX",
         1436697,
         184.7
        ],
        [
         "San Diego",
         "California",
         "CA",
         1381069,
         510.3
        ],
        [
         "Dallas",
         "Texas",
         "TX",
         1281047,
         192.5
        ],
        [
         "San Jose",
         "California",
         "CA",
         1015785,
         900.0
        ]
       ],
       "datasetInfos": [],
       "dbfsResultPath": null,
       "isJsonSchema": true,
       "metadata": {},
       "overflow": false,
       "plotOptions": {
        "customPlotOptions": {},
        "displayType": "table",
        "pivotAggregation": null,
        "pivotColumns": null,
        "xColumns": null,
        "yColumns": null
       },
       "removedWidgets": [],
       "schema": [
        {
         "metadata": "{}",
         "name": "City",
         "type": "\"string\""
        },
        {
         "metadata": "{}",
         "name": "State",
         "type": "\"string\""
        },
        {
         "metadata": "{}",
         "name": "State Code",
         "type": "\"string\""
        },
        {
         "metadata": "{}",
         "name": "2014 Population estimate",
         "type": "\"integer\""
        },
        {
         "metadata": "{}",
         "name": "2015 median sales price",
         "type": "\"double\""
        }
       ],
       "type": "table"
      }
     },
     "output_type": "display_data"
    },
    {
     "output_type": "display_data",
     "data": {
      "text/plain": [
       "Databricks visualization. Run in Databricks to view."
      ]
     },
     "metadata": {
      "application/vnd.databricks.v1.subcommand+json": {
       "baseErrorDetails": null,
       "bindings": {},
       "collapsed": false,
       "command": "%python\n__backend_agg_display_orig = display\n__backend_agg_dfs = []\ndef __backend_agg_display_new(df):\n    __backend_agg_df_modules = [\"pandas.core.frame\", \"databricks.koalas.frame\", \"pyspark.sql.dataframe\", \"pyspark.pandas.frame\", \"pyspark.sql.connect.dataframe\"]\n    if (type(df).__module__ in __backend_agg_df_modules and type(df).__name__ == 'DataFrame') or isinstance(df, list):\n        __backend_agg_dfs.append(df)\n\ndisplay = __backend_agg_display_new\n\ndef __backend_agg_user_code_fn():\n    import base64\n    exec(base64.standard_b64decode(\"CgpkaXNwbGF5KGRmX3NlbGVjdGVkLm9yZGVyQnkoIjIwMTQgUG9wdWxhdGlvbiBlc3RpbWF0ZSIsIGFzY2VuZGluZz1GYWxzZSkubGltaXQoMTApKQoKCgo=\").decode())\n\ntry:\n    # run user code\n    __backend_agg_user_code_fn()\n\n    #reset display function\n    display = __backend_agg_display_orig\n\n    if len(__backend_agg_dfs) > 0:\n        # create a temp view\n        if type(__backend_agg_dfs[0]).__module__ == \"databricks.koalas.frame\":\n            # koalas dataframe\n            __backend_agg_dfs[0].to_spark().createOrReplaceTempView(\"DatabricksView81decf3\")\n        elif type(__backend_agg_dfs[0]).__module__ == \"pandas.core.frame\" or isinstance(__backend_agg_dfs[0], list):\n            # pandas dataframe\n            spark.createDataFrame(__backend_agg_dfs[0]).createOrReplaceTempView(\"DatabricksView81decf3\")\n        else:\n            __backend_agg_dfs[0].createOrReplaceTempView(\"DatabricksView81decf3\")\n        #run backend agg\n        display(spark.sql(\"\"\"WITH q AS (select * from DatabricksView81decf3) SELECT `City`,SUM(`2014 Population estimate`) `column_14caf4cd64` FROM q GROUP BY `City`\"\"\"))\n    else:\n        displayHTML(\"dataframe no longer exists. If you're using dataframe.display(), use display(dataframe) instead.\")\n\n\nfinally:\n    spark.sql(\"drop view if exists DatabricksView81decf3\")\n    display = __backend_agg_display_orig\n    del __backend_agg_display_new\n    del __backend_agg_display_orig\n    del __backend_agg_dfs\n    del __backend_agg_user_code_fn\n\n",
       "commandTitle": "Visualization 1",
       "commandType": "auto",
       "commandVersion": 0,
       "commentThread": [],
       "commentsVisible": false,
       "contentSha256Hex": null,
       "customPlotOptions": {
        "redashChart": [
         {
          "key": "type",
          "value": "CHART"
         },
         {
          "key": "options",
          "value": {
           "alignYAxesAtZero": true,
           "coefficient": 1,
           "columnConfigurationMap": {
            "x": {
             "column": "City",
             "id": "column_14caf4cd61"
            },
            "y": [
             {
              "column": "2014 Population estimate",
              "id": "column_14caf4cd64",
              "transform": "SUM"
             }
            ]
           },
           "dateTimeFormat": "DD/MM/YYYY HH:mm",
           "direction": {
            "type": "counterclockwise"
           },
           "error_y": {
            "type": "data",
            "visible": true
           },
           "globalSeriesType": "pie",
           "isAggregationOn": true,
           "legend": {
            "traceorder": "normal"
           },
           "missingValuesAsZero": true,
           "numberFormat": "0,0.[00000]",
           "percentFormat": "0[.]00%",
           "series": {
            "error_y": {
             "type": "data",
             "visible": true
            },
            "stacking": null
           },
           "seriesOptions": {
            "column_14caf4cd64": {
             "type": "pie",
             "yAxis": 0
            }
           },
           "showDataLabels": true,
           "sizemode": "diameter",
           "sortX": true,
           "sortY": true,
           "swappedAxes": false,
           "textFormat": "",
           "useAggregationsUi": true,
           "valuesOptions": {},
           "version": 2,
           "xAxis": {
            "labels": {
             "enabled": true
            },
            "type": "-"
           },
           "yAxis": [
            {
             "type": "-"
            },
            {
             "opposite": true,
             "type": "-"
            }
           ]
          }
         }
        ]
       },
       "datasetPreviewNameToCmdIdMap": {},
       "diffDeletes": [],
       "diffInserts": [],
       "displayType": "redashChart",
       "error": null,
       "errorDetails": null,
       "errorSummary": null,
       "errorTraceType": null,
       "finishTime": 0,
       "globalVars": {},
       "guid": "",
       "height": "auto",
       "hideCommandCode": false,
       "hideCommandResult": false,
       "iPythonMetadata": null,
       "inputWidgets": {},
       "isLockedInExamMode": false,
       "latestUser": "a user",
       "latestUserId": null,
       "listResultMetadata": null,
       "metadata": {},
       "nuid": "2fa4fc4e-8cd5-4a5b-90c4-297e1e7d0734",
       "origId": 0,
       "parentHierarchy": [],
       "pivotAggregation": null,
       "pivotColumns": null,
       "position": 4.0,
       "resultDbfsErrorMessage": null,
       "resultDbfsStatus": "INLINED_IN_TREE",
       "results": null,
       "showCommandTitle": false,
       "startTime": 0,
       "state": "input",
       "streamStates": {},
       "subcommandOptions": {
        "queryPlan": {
         "groups": [
          {
           "column": "City",
           "type": "column"
          }
         ],
         "selects": [
          {
           "column": "City",
           "type": "column"
          },
          {
           "alias": "column_14caf4cd64",
           "args": [
            {
             "column": "2014 Population estimate",
             "type": "column"
            }
           ],
           "function": "SUM",
           "type": "function"
          }
         ]
        }
       },
       "submitTime": 0,
       "subtype": "tableResultSubCmd.visualization",
       "tableResultIndex": 0,
       "tableResultSettingsMap": {},
       "useConsistentColors": false,
       "version": "CommandV1",
       "width": "auto",
       "workflows": [],
       "xColumns": null,
       "yColumns": null
      }
     },
     "output_type": "display_data"
    }
   ],
   "source": [
    "\n",
    "\n",
    "display(df_selected.orderBy(\"2014 Population estimate\", ascending=False).limit(10))\n",
    "\n",
    "\n",
    "\n"
   ]
  },
  {
   "cell_type": "code",
   "execution_count": 0,
   "metadata": {
    "application/vnd.databricks.v1+cell": {
     "cellMetadata": {
      "byteLimit": 2048000,
      "rowLimit": 10000
     },
     "inputWidgets": {},
     "nuid": "ceafcc5e-fcc7-4e68-8959-ced561be92ee",
     "showTitle": false,
     "tableResultSettingsMap": {},
     "title": ""
    }
   },
   "outputs": [
    {
     "output_type": "stream",
     "name": "stdout",
     "output_type": "stream",
     "text": [
      "+--------------------+----------------------+\n|               State|avg_median_sales_price|\n+--------------------+----------------------+\n|             Hawai'i|                 699.3|\n|          California|     547.9714285714286|\n|District of Columbia|                 367.8|\n|          New Jersey|                 350.8|\n|            Colorado|    333.46666666666664|\n|          Washington|    266.29999999999995|\n|       Massachusetts|                 261.8|\n|         Connecticut|    250.13333333333333|\n|                Utah|                 243.3|\n|       New Hampshire|                 237.4|\n+--------------------+----------------------+\nonly showing top 10 rows\n\n"
     ]
    }
   ],
   "source": [
    "from pyspark.sql.functions import avg, count, col\n",
    "\n",
    "df_selected.groupBy(\"State\") \\\n",
    "    .agg(\n",
    "        (avg(\"2015 median sales price\").alias(\"avg_median_sales_price\"))\n",
    "        ).orderBy(\"avg_median_sales_price\", ascending = False).show(10)\n",
    "    \n"
   ]
  },
  {
   "cell_type": "code",
   "execution_count": 0,
   "metadata": {
    "application/vnd.databricks.v1+cell": {
     "cellMetadata": {
      "byteLimit": 2048000,
      "rowLimit": 10000
     },
     "inputWidgets": {},
     "nuid": "b2f12eca-9a24-4aa3-8e19-a425c102ae2e",
     "showTitle": false,
     "tableResultSettingsMap": {},
     "title": ""
    }
   },
   "outputs": [
    {
     "output_type": "display_data",
     "data": {
      "text/html": [
       "<style scoped>\n",
       "  .table-result-container {\n",
       "    max-height: 300px;\n",
       "    overflow: auto;\n",
       "  }\n",
       "  table, th, td {\n",
       "    border: 1px solid black;\n",
       "    border-collapse: collapse;\n",
       "  }\n",
       "  th, td {\n",
       "    padding: 5px;\n",
       "  }\n",
       "  th {\n",
       "    text-align: left;\n",
       "  }\n",
       "</style><div class='table-result-container'><table class='table-result'><thead style='background-color: white'><tr><th>City</th><th>2014 Population estimate</th></tr></thead><tbody><tr><td>Phoenix</td><td>1537058</td></tr><tr><td>Los Angeles</td><td>3928864</td></tr><tr><td>San Diego</td><td>1381069</td></tr><tr><td>San Jose</td><td>1015785</td></tr><tr><td>Chicago</td><td>2722389</td></tr><tr><td>New York[6]</td><td>8491079</td></tr><tr><td>Philadelphia[8]</td><td>1560297</td></tr><tr><td>Dallas</td><td>1281047</td></tr><tr><td>Houston[7]</td><td>2239558</td></tr><tr><td>San Antonio</td><td>1436697</td></tr></tbody></table></div>"
      ]
     },
     "metadata": {
      "application/vnd.databricks.v1+output": {
       "addedWidgets": {},
       "aggData": [],
       "aggError": "",
       "aggOverflow": false,
       "aggSchema": [],
       "aggSeriesLimitReached": false,
       "aggType": "",
       "arguments": {},
       "columnCustomDisplayInfos": {},
       "data": [
        [
         "Phoenix",
         1537058
        ],
        [
         "Los Angeles",
         3928864
        ],
        [
         "San Diego",
         1381069
        ],
        [
         "San Jose",
         1015785
        ],
        [
         "Chicago",
         2722389
        ],
        [
         "New York[6]",
         8491079
        ],
        [
         "Philadelphia[8]",
         1560297
        ],
        [
         "Dallas",
         1281047
        ],
        [
         "Houston[7]",
         2239558
        ],
        [
         "San Antonio",
         1436697
        ]
       ],
       "datasetInfos": [],
       "dbfsResultPath": null,
       "isJsonSchema": true,
       "metadata": {},
       "overflow": false,
       "plotOptions": {
        "customPlotOptions": {},
        "displayType": "table",
        "pivotAggregation": null,
        "pivotColumns": null,
        "xColumns": null,
        "yColumns": null
       },
       "removedWidgets": [],
       "schema": [
        {
         "metadata": "{}",
         "name": "City",
         "type": "\"string\""
        },
        {
         "metadata": "{}",
         "name": "2014 Population estimate",
         "type": "\"integer\""
        }
       ],
       "type": "table"
      }
     },
     "output_type": "display_data"
    },
    {
     "output_type": "display_data",
     "data": {
      "text/plain": [
       "Databricks visualization. Run in Databricks to view."
      ]
     },
     "metadata": {
      "application/vnd.databricks.v1.subcommand+json": {
       "baseErrorDetails": null,
       "bindings": {},
       "collapsed": false,
       "command": "%python\n__backend_agg_display_orig = display\n__backend_agg_dfs = []\ndef __backend_agg_display_new(df):\n    __backend_agg_df_modules = [\"pandas.core.frame\", \"databricks.koalas.frame\", \"pyspark.sql.dataframe\", \"pyspark.pandas.frame\", \"pyspark.sql.connect.dataframe\"]\n    if (type(df).__module__ in __backend_agg_df_modules and type(df).__name__ == 'DataFrame') or isinstance(df, list):\n        __backend_agg_dfs.append(df)\n\ndisplay = __backend_agg_display_new\n\ndef __backend_agg_user_code_fn():\n    import base64\n    exec(base64.standard_b64decode(\"ZGlzcGxheSgKICAgIGRmX3NlbGVjdGVkLmZpbHRlcihkZl9zZWxlY3RlZFsiMjAxNCBQb3B1bGF0aW9uIGVzdGltYXRlIl0gPiAxXzAwMF8wMDApLnNlbGVjdCgiQ2l0eSIsICIyMDE0IFBvcHVsYXRpb24gZXN0aW1hdGUiKQopCg==\").decode())\n\ntry:\n    # run user code\n    __backend_agg_user_code_fn()\n\n    #reset display function\n    display = __backend_agg_display_orig\n\n    if len(__backend_agg_dfs) > 0:\n        # create a temp view\n        if type(__backend_agg_dfs[0]).__module__ == \"databricks.koalas.frame\":\n            # koalas dataframe\n            __backend_agg_dfs[0].to_spark().createOrReplaceTempView(\"DatabricksViewd9800ae\")\n        elif type(__backend_agg_dfs[0]).__module__ == \"pandas.core.frame\" or isinstance(__backend_agg_dfs[0], list):\n            # pandas dataframe\n            spark.createDataFrame(__backend_agg_dfs[0]).createOrReplaceTempView(\"DatabricksViewd9800ae\")\n        else:\n            __backend_agg_dfs[0].createOrReplaceTempView(\"DatabricksViewd9800ae\")\n        #run backend agg\n        display(spark.sql(\"\"\"WITH q AS (select * from DatabricksViewd9800ae) SELECT `City`,SUM(`2014 Population estimate`) `column_14caf4cd69` FROM q GROUP BY `City`\"\"\"))\n    else:\n        displayHTML(\"dataframe no longer exists. If you're using dataframe.display(), use display(dataframe) instead.\")\n\n\nfinally:\n    spark.sql(\"drop view if exists DatabricksViewd9800ae\")\n    display = __backend_agg_display_orig\n    del __backend_agg_display_new\n    del __backend_agg_display_orig\n    del __backend_agg_dfs\n    del __backend_agg_user_code_fn\n\n",
       "commandTitle": "Visualization 1",
       "commandType": "auto",
       "commandVersion": 0,
       "commentThread": [],
       "commentsVisible": false,
       "contentSha256Hex": null,
       "customPlotOptions": {
        "redashChart": [
         {
          "key": "type",
          "value": "CHART"
         },
         {
          "key": "options",
          "value": {
           "alignYAxesAtZero": true,
           "coefficient": 1,
           "columnConfigurationMap": {
            "x": {
             "column": "City",
             "id": "column_14caf4cd68"
            },
            "y": [
             {
              "column": "2014 Population estimate",
              "id": "column_14caf4cd69",
              "transform": "SUM"
             }
            ]
           },
           "dateTimeFormat": "DD/MM/YYYY HH:mm",
           "direction": {
            "type": "counterclockwise"
           },
           "error_y": {
            "type": "data",
            "visible": true
           },
           "globalSeriesType": "pie",
           "legend": {
            "traceorder": "normal"
           },
           "missingValuesAsZero": true,
           "numberFormat": "0,0.[00000]",
           "percentFormat": "0[.]00%",
           "series": {
            "error_y": {
             "type": "data",
             "visible": true
            },
            "stacking": null
           },
           "seriesOptions": {
            "column_14caf4cd69": {
             "name": "2014 Population estimate",
             "type": "pie",
             "yAxis": 0
            }
           },
           "showDataLabels": true,
           "sizemode": "diameter",
           "sortX": true,
           "sortY": true,
           "swappedAxes": false,
           "textFormat": "",
           "useAggregationsUi": true,
           "valuesOptions": {},
           "version": 2,
           "xAxis": {
            "labels": {
             "enabled": true
            },
            "type": "-"
           },
           "yAxis": [
            {
             "type": "-"
            },
            {
             "opposite": true,
             "type": "-"
            }
           ]
          }
         }
        ]
       },
       "datasetPreviewNameToCmdIdMap": {},
       "diffDeletes": [],
       "diffInserts": [],
       "displayType": "redashChart",
       "error": null,
       "errorDetails": null,
       "errorSummary": null,
       "errorTraceType": null,
       "finishTime": 0,
       "globalVars": {},
       "guid": "",
       "height": "auto",
       "hideCommandCode": false,
       "hideCommandResult": false,
       "iPythonMetadata": null,
       "inputWidgets": {},
       "isLockedInExamMode": false,
       "latestUser": "a user",
       "latestUserId": null,
       "listResultMetadata": null,
       "metadata": {},
       "nuid": "fe07359b-a426-4bfe-a502-933ad4c305e1",
       "origId": 0,
       "parentHierarchy": [],
       "pivotAggregation": null,
       "pivotColumns": null,
       "position": 6.0,
       "resultDbfsErrorMessage": null,
       "resultDbfsStatus": "INLINED_IN_TREE",
       "results": null,
       "showCommandTitle": false,
       "startTime": 0,
       "state": "input",
       "streamStates": {},
       "subcommandOptions": {
        "queryPlan": {
         "groups": [
          {
           "column": "City",
           "type": "column"
          }
         ],
         "selects": [
          {
           "column": "City",
           "type": "column"
          },
          {
           "alias": "column_14caf4cd69",
           "args": [
            {
             "column": "2014 Population estimate",
             "type": "column"
            }
           ],
           "function": "SUM",
           "type": "function"
          }
         ]
        }
       },
       "submitTime": 0,
       "subtype": "tableResultSubCmd.visualization",
       "tableResultIndex": 0,
       "tableResultSettingsMap": {},
       "useConsistentColors": false,
       "version": "CommandV1",
       "width": "auto",
       "workflows": [],
       "xColumns": null,
       "yColumns": null
      }
     },
     "output_type": "display_data"
    },
    {
     "output_type": "stream",
     "name": "stdout",
     "output_type": "stream",
     "text": [
      "+---------+-------------+----------+----------+------------------------+-----------------------+\n|2014 rank|         City|     State|State Code|2014 Population estimate|2015 median sales price|\n+---------+-------------+----------+----------+------------------------+-----------------------+\n|      101|   Birmingham|   Alabama|        AL|                  212247|                  162.9|\n|      125|   Huntsville|   Alabama|        AL|                  188226|                  157.7|\n|      122|       Mobile|   Alabama|        AL|                  194675|                  122.5|\n|      114|   Montgomery|   Alabama|        AL|                  200481|                  129.0|\n|       64|Anchorage[19]|    Alaska|        AK|                  301010|                   null|\n|       78|     Chandler|   Arizona|        AZ|                  254276|                   null|\n|       86|  Gilbert[20]|   Arizona|        AZ|                  239277|                   null|\n|       88|     Glendale|   Arizona|        AZ|                  237517|                   null|\n|       38|         Mesa|   Arizona|        AZ|                  464704|                   null|\n|      148|       Peoria|   Arizona|        AZ|                  166934|                   null|\n|        6|      Phoenix|   Arizona|        AZ|                 1537058|                  206.1|\n|       95|   Scottsdale|   Arizona|        AZ|                  230512|                   null|\n|      215|     Surprise|   Arizona|        AZ|                  126275|                   null|\n|      142|        Tempe|   Arizona|        AZ|                  172816|                   null|\n|       33|       Tucson|   Arizona|        AZ|                  527972|                  178.1|\n|      119|  Little Rock|  Arkansas|        AR|                  197706|                  131.8|\n|       56|      Anaheim|California|        CA|                  346997|                  685.7|\n|      261|      Antioch|California|        CA|                  108930|                   null|\n|       52|  Bakersfield|California|        CA|                  368759|                   null|\n|      227|     Berkeley|California|        CA|                  118853|                   null|\n+---------+-------------+----------+----------+------------------------+-----------------------+\nonly showing top 20 rows\n\n"
     ]
    }
   ],
   "source": [
    "display(\n",
    "    df_selected.filter(df_selected[\"2014 Population estimate\"] > 1000000).select(\"City\", \"2014 Population estimate\")\n",
    ")\n",
    "df.show()\n"
   ]
  },
  {
   "cell_type": "code",
   "execution_count": 0,
   "metadata": {
    "application/vnd.databricks.v1+cell": {
     "cellMetadata": {
      "byteLimit": 2048000,
      "rowLimit": 10000
     },
     "inputWidgets": {},
     "nuid": "aaf79c51-c956-456f-8865-3ebbe3a67c2c",
     "showTitle": false,
     "tableResultSettingsMap": {},
     "title": ""
    }
   },
   "outputs": [
    {
     "output_type": "display_data",
     "data": {
      "text/html": [
       "<style scoped>\n",
       "  .table-result-container {\n",
       "    max-height: 300px;\n",
       "    overflow: auto;\n",
       "  }\n",
       "  table, th, td {\n",
       "    border: 1px solid black;\n",
       "    border-collapse: collapse;\n",
       "  }\n",
       "  th, td {\n",
       "    padding: 5px;\n",
       "  }\n",
       "  th {\n",
       "    text-align: left;\n",
       "  }\n",
       "</style><div class='table-result-container'><table class='table-result'><thead style='background-color: white'><tr><th>City</th><th>State</th><th>State Code</th><th>2014 Population estimate</th><th>2015 median sales price</th></tr></thead><tbody><tr><td>Anchorage[19]</td><td>Alaska</td><td>AK</td><td>301010</td><td>null</td></tr><tr><td>Chandler</td><td>Arizona</td><td>AZ</td><td>254276</td><td>null</td></tr><tr><td>Gilbert[20]</td><td>Arizona</td><td>AZ</td><td>239277</td><td>null</td></tr><tr><td>Glendale</td><td>Arizona</td><td>AZ</td><td>237517</td><td>null</td></tr><tr><td>Mesa</td><td>Arizona</td><td>AZ</td><td>464704</td><td>null</td></tr><tr><td>Peoria</td><td>Arizona</td><td>AZ</td><td>166934</td><td>null</td></tr><tr><td>Scottsdale</td><td>Arizona</td><td>AZ</td><td>230512</td><td>null</td></tr><tr><td>Surprise</td><td>Arizona</td><td>AZ</td><td>126275</td><td>null</td></tr><tr><td>Tempe</td><td>Arizona</td><td>AZ</td><td>172816</td><td>null</td></tr><tr><td>Antioch</td><td>California</td><td>CA</td><td>108930</td><td>null</td></tr><tr><td>Bakersfield</td><td>California</td><td>CA</td><td>368759</td><td>null</td></tr><tr><td>Berkeley</td><td>California</td><td>CA</td><td>118853</td><td>null</td></tr><tr><td>Burbank</td><td>California</td><td>CA</td><td>105368</td><td>null</td></tr><tr><td>Carlsbad</td><td>California</td><td>CA</td><td>112299</td><td>null</td></tr><tr><td>Chula Vista</td><td>California</td><td>CA</td><td>260988</td><td>null</td></tr><tr><td>Clovis</td><td>California</td><td>CA</td><td>102189</td><td>null</td></tr><tr><td>Concord</td><td>California</td><td>CA</td><td>127522</td><td>null</td></tr><tr><td>Corona</td><td>California</td><td>CA</td><td>161486</td><td>null</td></tr><tr><td>Costa Mesa</td><td>California</td><td>CA</td><td>112784</td><td>null</td></tr><tr><td>Daly City</td><td>California</td><td>CA</td><td>106094</td><td>null</td></tr><tr><td>Downey</td><td>California</td><td>CA</td><td>114172</td><td>null</td></tr><tr><td>El Cajon</td><td>California</td><td>CA</td><td>103091</td><td>null</td></tr><tr><td>El Monte</td><td>California</td><td>CA</td><td>116631</td><td>null</td></tr><tr><td>Elk Grove</td><td>California</td><td>CA</td><td>163553</td><td>null</td></tr><tr><td>Escondido</td><td>California</td><td>CA</td><td>150243</td><td>null</td></tr><tr><td>Fairfield</td><td>California</td><td>CA</td><td>111125</td><td>null</td></tr><tr><td>Fontana</td><td>California</td><td>CA</td><td>204950</td><td>null</td></tr><tr><td>Fremont</td><td>California</td><td>CA</td><td>228758</td><td>null</td></tr><tr><td>Fresno</td><td>California</td><td>CA</td><td>515986</td><td>null</td></tr><tr><td>Fullerton</td><td>California</td><td>CA</td><td>139677</td><td>null</td></tr><tr><td>Garden Grove</td><td>California</td><td>CA</td><td>175078</td><td>null</td></tr><tr><td>Glendale</td><td>California</td><td>CA</td><td>200167</td><td>null</td></tr><tr><td>Hayward</td><td>California</td><td>CA</td><td>154612</td><td>null</td></tr><tr><td>Huntington Beach</td><td>California</td><td>CA</td><td>200809</td><td>null</td></tr><tr><td>Inglewood</td><td>California</td><td>CA</td><td>111905</td><td>null</td></tr><tr><td>Irvine</td><td>California</td><td>CA</td><td>248531</td><td>null</td></tr><tr><td>Lancaster</td><td>California</td><td>CA</td><td>161043</td><td>null</td></tr><tr><td>Long Beach</td><td>California</td><td>CA</td><td>473577</td><td>null</td></tr><tr><td>Modesto</td><td>California</td><td>CA</td><td>209286</td><td>null</td></tr><tr><td>Moreno Valley</td><td>California</td><td>CA</td><td>202976</td><td>null</td></tr><tr><td>Murrieta</td><td>California</td><td>CA</td><td>108368</td><td>null</td></tr><tr><td>Norwalk</td><td>California</td><td>CA</td><td>107096</td><td>null</td></tr><tr><td>Oakland</td><td>California</td><td>CA</td><td>413775</td><td>null</td></tr><tr><td>Oceanside</td><td>California</td><td>CA</td><td>174558</td><td>null</td></tr><tr><td>Ontario</td><td>California</td><td>CA</td><td>169089</td><td>null</td></tr><tr><td>Orange</td><td>California</td><td>CA</td><td>139812</td><td>null</td></tr><tr><td>Oxnard</td><td>California</td><td>CA</td><td>205437</td><td>null</td></tr><tr><td>Palmdale</td><td>California</td><td>CA</td><td>158279</td><td>null</td></tr><tr><td>Pasadena</td><td>California</td><td>CA</td><td>140881</td><td>null</td></tr><tr><td>Pomona</td><td>California</td><td>CA</td><td>153350</td><td>null</td></tr><tr><td>Rancho Cucamonga</td><td>California</td><td>CA</td><td>174305</td><td>null</td></tr><tr><td>Rialto</td><td>California</td><td>CA</td><td>102741</td><td>null</td></tr><tr><td>Richmond</td><td>California</td><td>CA</td><td>108565</td><td>null</td></tr><tr><td>Roseville</td><td>California</td><td>CA</td><td>128615</td><td>null</td></tr><tr><td>Salinas</td><td>California</td><td>CA</td><td>156677</td><td>null</td></tr><tr><td>San Bernardino</td><td>California</td><td>CA</td><td>215213</td><td>null</td></tr><tr><td>San Mateo</td><td>California</td><td>CA</td><td>102893</td><td>null</td></tr><tr><td>Santa Ana</td><td>California</td><td>CA</td><td>334909</td><td>null</td></tr><tr><td>Santa Clara</td><td>California</td><td>CA</td><td>122192</td><td>null</td></tr><tr><td>Santa Clarita</td><td>California</td><td>CA</td><td>181557</td><td>null</td></tr><tr><td>Santa Maria</td><td>California</td><td>CA</td><td>103410</td><td>null</td></tr><tr><td>Santa Rosa</td><td>California</td><td>CA</td><td>174170</td><td>null</td></tr><tr><td>Simi Valley</td><td>California</td><td>CA</td><td>126871</td><td>null</td></tr><tr><td>Stockton</td><td>California</td><td>CA</td><td>302389</td><td>null</td></tr><tr><td>Sunnyvale</td><td>California</td><td>CA</td><td>149980</td><td>null</td></tr><tr><td>Temecula</td><td>California</td><td>CA</td><td>109428</td><td>null</td></tr><tr><td>Thousand Oaks</td><td>California</td><td>CA</td><td>129342</td><td>null</td></tr><tr><td>Torrance</td><td>California</td><td>CA</td><td>148495</td><td>null</td></tr><tr><td>Vallejo</td><td>California</td><td>CA</td><td>120228</td><td>null</td></tr><tr><td>Ventura[29]</td><td>California</td><td>CA</td><td>109484</td><td>null</td></tr><tr><td>Victorville</td><td>California</td><td>CA</td><td>121901</td><td>null</td></tr><tr><td>Visalia</td><td>California</td><td>CA</td><td>129281</td><td>null</td></tr><tr><td>West Covina</td><td>California</td><td>CA</td><td>108455</td><td>null</td></tr><tr><td>Arvada</td><td>Colorado</td><td>CO</td><td>113574</td><td>null</td></tr><tr><td>Aurora</td><td>Colorado</td><td>CO</td><td>353108</td><td>null</td></tr><tr><td>Centennial</td><td>Colorado</td><td>CO</td><td>107201</td><td>null</td></tr><tr><td>Fort Collins</td><td>Colorado</td><td>CO</td><td>156480</td><td>null</td></tr><tr><td>Lakewood</td><td>Colorado</td><td>CO</td><td>149643</td><td>null</td></tr><tr><td>Pueblo</td><td>Colorado</td><td>CO</td><td>108423</td><td>null</td></tr><tr><td>Thornton</td><td>Colorado</td><td>CO</td><td>130307</td><td>null</td></tr><tr><td>Westminster</td><td>Colorado</td><td>CO</td><td>112090</td><td>null</td></tr><tr><td>Stamford</td><td>Connecticut</td><td>CT</td><td>128278</td><td>null</td></tr><tr><td>Waterbury</td><td>Connecticut</td><td>CT</td><td>109307</td><td>null</td></tr><tr><td>Clearwater</td><td>Florida</td><td>FL</td><td>110703</td><td>null</td></tr><tr><td>Coral Springs</td><td>Florida</td><td>FL</td><td>127952</td><td>null</td></tr><tr><td>Fort Lauderdale</td><td>Florida</td><td>FL</td><td>176013</td><td>null</td></tr><tr><td>Hialeah</td><td>Florida</td><td>FL</td><td>235563</td><td>null</td></tr><tr><td>Hollywood</td><td>Florida</td><td>FL</td><td>148047</td><td>null</td></tr><tr><td>Miami Gardens</td><td>Florida</td><td>FL</td><td>112265</td><td>null</td></tr><tr><td>Miramar</td><td>Florida</td><td>FL</td><td>134989</td><td>null</td></tr><tr><td>Orlando</td><td>Florida</td><td>FL</td><td>262372</td><td>null</td></tr><tr><td>Pembroke Pines</td><td>Florida</td><td>FL</td><td>164626</td><td>null</td></tr><tr><td>Pompano Beach</td><td>Florida</td><td>FL</td><td>106105</td><td>null</td></tr><tr><td>St. Petersburg</td><td>Florida</td><td>FL</td><td>253693</td><td>null</td></tr><tr><td>West Palm Beach</td><td>Florida</td><td>FL</td><td>104031</td><td>null</td></tr><tr><td>Athens[28]</td><td>Georgia</td><td>GA</td><td>119648</td><td>null</td></tr><tr><td>Augusta[24]</td><td>Georgia</td><td>GA</td><td>196741</td><td>null</td></tr><tr><td>Columbus[23]</td><td>Georgia</td><td>GA</td><td>200887</td><td>null</td></tr><tr><td>Macon</td><td>Georgia</td><td>GA</td><td>null</td><td>null</td></tr><tr><td>Sandy Springs</td><td>Georgia</td><td>GA</td><td>101908</td><td>null</td></tr><tr><td>Savannah</td><td>Georgia</td><td>GA</td><td>144352</td><td>null</td></tr><tr><td>Aurora</td><td>Illinois</td><td>IL</td><td>200456</td><td>null</td></tr><tr><td>Elgin</td><td>Illinois</td><td>IL</td><td>111117</td><td>null</td></tr><tr><td>Joliet</td><td>Illinois</td><td>IL</td><td>147928</td><td>null</td></tr><tr><td>Naperville</td><td>Illinois</td><td>IL</td><td>146128</td><td>null</td></tr><tr><td>Evansville</td><td>Indiana</td><td>IN</td><td>120346</td><td>null</td></tr><tr><td>Des Moines</td><td>Iowa</td><td>IA</td><td>209220</td><td>null</td></tr><tr><td>Kansas City[26]</td><td>Kansas</td><td>KS</td><td>149636</td><td>null</td></tr><tr><td>Olathe</td><td>Kansas</td><td>KS</td><td>133062</td><td>null</td></tr><tr><td>Overland Park</td><td>Kansas</td><td>KS</td><td>184525</td><td>null</td></tr><tr><td>Lafayette[27]</td><td>Louisiana</td><td>LA</td><td>126066</td><td>null</td></tr><tr><td>New Orleans[17]</td><td>Louisiana</td><td>LA</td><td>384320</td><td>null</td></tr><tr><td>Cambridge</td><td>Massachusetts</td><td>MA</td><td>109694</td><td>null</td></tr><tr><td>Lowell</td><td>Massachusetts</td><td>MA</td><td>109945</td><td>null</td></tr><tr><td>Ann Arbor</td><td>Michigan</td><td>MI</td><td>117770</td><td>null</td></tr><tr><td>Detroit</td><td>Michigan</td><td>MI</td><td>680250</td><td>null</td></tr><tr><td>Grand Rapids</td><td>Michigan</td><td>MI</td><td>193792</td><td>null</td></tr><tr><td>Sterling Heights</td><td>Michigan</td><td>MI</td><td>131741</td><td>null</td></tr><tr><td>Warren</td><td>Michigan</td><td>MI</td><td>135099</td><td>null</td></tr><tr><td>Rochester</td><td>Minnesota</td><td>MN</td><td>111402</td><td>null</td></tr><tr><td>Saint Paul</td><td>Minnesota</td><td>MN</td><td>297640</td><td>null</td></tr><tr><td>Columbia</td><td>Missouri</td><td>MO</td><td>116906</td><td>null</td></tr><tr><td>Independence</td><td>Missouri</td><td>MO</td><td>117494</td><td>null</td></tr><tr><td>St. Louis[15]</td><td>Missouri</td><td>MO</td><td>317419</td><td>null</td></tr><tr><td>Billings</td><td>Montana</td><td>MT</td><td>108869</td><td>null</td></tr><tr><td>Henderson</td><td>Nevada</td><td>NV</td><td>277440</td><td>null</td></tr><tr><td>North Las Vegas</td><td>Nevada</td><td>NV</td><td>230788</td><td>null</td></tr><tr><td>Elizabeth</td><td>New Jersey</td><td>NJ</td><td>128705</td><td>null</td></tr><tr><td>Jersey City</td><td>New Jersey</td><td>NJ</td><td>262146</td><td>null</td></tr><tr><td>Paterson</td><td>New Jersey</td><td>NJ</td><td>146753</td><td>null</td></tr><tr><td>Las Cruces</td><td>New Mexico</td><td>NM</td><td>101408</td><td>null</td></tr><tr><td>Yonkers</td><td>New York</td><td>NY</td><td>200667</td><td>null</td></tr><tr><td>Cary[25]</td><td>North Carolina</td><td>NC</td><td>155227</td><td>null</td></tr><tr><td>High Point</td><td>North Carolina</td><td>NC</td><td>108629</td><td>null</td></tr><tr><td>Broken Arrow</td><td>Oklahoma</td><td>OK</td><td>104726</td><td>null</td></tr><tr><td>Norman</td><td>Oklahoma</td><td>OK</td><td>118040</td><td>null</td></tr><tr><td>Oklahoma City</td><td>Oklahoma</td><td>OK</td><td>620602</td><td>null</td></tr><tr><td>Gresham</td><td>Oregon</td><td>OR</td><td>109892</td><td>null</td></tr><tr><td>Pittsburgh</td><td>Pennsylvania</td><td>PA</td><td>305412</td><td>null</td></tr><tr><td>Charleston</td><td>South Carolina</td><td>SC</td><td>130113</td><td>null</td></tr><tr><td>Columbia</td><td>South Carolina</td><td>SC</td><td>132067</td><td>null</td></tr><tr><td>North Charleston</td><td>South Carolina</td><td>SC</td><td>106749</td><td>null</td></tr><tr><td>Clarksville</td><td>Tennessee</td><td>TN</td><td>146806</td><td>null</td></tr><tr><td>Murfreesboro</td><td>Tennessee</td><td>TN</td><td>120954</td><td>null</td></tr><tr><td>Arlington</td><td>Texas</td><td>TX</td><td>383204</td><td>null</td></tr><tr><td>Brownsville</td><td>Texas</td><td>TX</td><td>183046</td><td>null</td></tr><tr><td>Carrollton</td><td>Texas</td><td>TX</td><td>128353</td><td>null</td></tr><tr><td>College Station</td><td>Texas</td><td>TX</td><td>103483</td><td>null</td></tr><tr><td>Denton</td><td>Texas</td><td>TX</td><td>128205</td><td>null</td></tr><tr><td>Fort Worth</td><td>Texas</td><td>TX</td><td>812238</td><td>null</td></tr><tr><td>Frisco</td><td>Texas</td><td>TX</td><td>145035</td><td>null</td></tr><tr><td>Garland</td><td>Texas</td><td>TX</td><td>235501</td><td>null</td></tr><tr><td>Grand Prairie</td><td>Texas</td><td>TX</td><td>185453</td><td>null</td></tr><tr><td>Irving</td><td>Texas</td><td>TX</td><td>232406</td><td>null</td></tr><tr><td>Killeen</td><td>Texas</td><td>TX</td><td>138154</td><td>null</td></tr><tr><td>Laredo</td><td>Texas</td><td>TX</td><td>252309</td><td>null</td></tr><tr><td>Lewisville</td><td>Texas</td><td>TX</td><td>102889</td><td>null</td></tr><tr><td>Lubbock</td><td>Texas</td><td>TX</td><td>243839</td><td>null</td></tr><tr><td>McAllen</td><td>Texas</td><td>TX</td><td>138596</td><td>null</td></tr><tr><td>McKinney</td><td>Texas</td><td>TX</td><td>156767</td><td>null</td></tr><tr><td>Mesquite</td><td>Texas</td><td>TX</td><td>144416</td><td>null</td></tr><tr><td>Midland</td><td>Texas</td><td>TX</td><td>128037</td><td>null</td></tr><tr><td>Odessa</td><td>Texas</td><td>TX</td><td>114597</td><td>null</td></tr><tr><td>Pasadena</td><td>Texas</td><td>TX</td><td>153887</td><td>null</td></tr><tr><td>Pearland</td><td>Texas</td><td>TX</td><td>103441</td><td>null</td></tr><tr><td>Plano</td><td>Texas</td><td>TX</td><td>278480</td><td>null</td></tr><tr><td>Richardson</td><td>Texas</td><td>TX</td><td>108617</td><td>null</td></tr><tr><td>Round Rock</td><td>Texas</td><td>TX</td><td>112744</td><td>null</td></tr><tr><td>Tyler</td><td>Texas</td><td>TX</td><td>101421</td><td>null</td></tr><tr><td>Waco</td><td>Texas</td><td>TX</td><td>130194</td><td>null</td></tr><tr><td>Wichita Falls</td><td>Texas</td><td>TX</td><td>105114</td><td>null</td></tr><tr><td>Provo</td><td>Utah</td><td>UT</td><td>114801</td><td>null</td></tr><tr><td>West Jordan</td><td>Utah</td><td>UT</td><td>110920</td><td>null</td></tr><tr><td>West Valley City</td><td>Utah</td><td>UT</td><td>134495</td><td>null</td></tr><tr><td>Alexandria[15]</td><td>Virginia</td><td>VA</td><td>150575</td><td>null</td></tr><tr><td>Chesapeake[15]</td><td>Virginia</td><td>VA</td><td>233371</td><td>null</td></tr><tr><td>Hampton[15]</td><td>Virginia</td><td>VA</td><td>136879</td><td>null</td></tr><tr><td>Newport News[15]</td><td>Virginia</td><td>VA</td><td>182965</td><td>null</td></tr><tr><td>Norfolk[15]</td><td>Virginia</td><td>VA</td><td>245428</td><td>null</td></tr><tr><td>Bellevue</td><td>Washington</td><td>WA</td><td>136426</td><td>null</td></tr><tr><td>Everett</td><td>Washington</td><td>WA</td><td>106736</td><td>null</td></tr><tr><td>Kent</td><td>Washington</td><td>WA</td><td>125560</td><td>null</td></tr><tr><td>Tacoma</td><td>Washington</td><td>WA</td><td>205159</td><td>null</td></tr><tr><td>Vancouver</td><td>Washington</td><td>WA</td><td>169294</td><td>null</td></tr><tr><td>Green Bay</td><td>Wisconsin</td><td>WI</td><td>104891</td><td>null</td></tr></tbody></table></div>"
      ]
     },
     "metadata": {
      "application/vnd.databricks.v1+output": {
       "addedWidgets": {},
       "aggData": [],
       "aggError": "",
       "aggOverflow": false,
       "aggSchema": [],
       "aggSeriesLimitReached": false,
       "aggType": "",
       "arguments": {},
       "columnCustomDisplayInfos": {},
       "data": [
        [
         "Anchorage[19]",
         "Alaska",
         "AK",
         301010,
         null
        ],
        [
         "Chandler",
         "Arizona",
         "AZ",
         254276,
         null
        ],
        [
         "Gilbert[20]",
         "Arizona",
         "AZ",
         239277,
         null
        ],
        [
         "Glendale",
         "Arizona",
         "AZ",
         237517,
         null
        ],
        [
         "Mesa",
         "Arizona",
         "AZ",
         464704,
         null
        ],
        [
         "Peoria",
         "Arizona",
         "AZ",
         166934,
         null
        ],
        [
         "Scottsdale",
         "Arizona",
         "AZ",
         230512,
         null
        ],
        [
         "Surprise",
         "Arizona",
         "AZ",
         126275,
         null
        ],
        [
         "Tempe",
         "Arizona",
         "AZ",
         172816,
         null
        ],
        [
         "Antioch",
         "California",
         "CA",
         108930,
         null
        ],
        [
         "Bakersfield",
         "California",
         "CA",
         368759,
         null
        ],
        [
         "Berkeley",
         "California",
         "CA",
         118853,
         null
        ],
        [
         "Burbank",
         "California",
         "CA",
         105368,
         null
        ],
        [
         "Carlsbad",
         "California",
         "CA",
         112299,
         null
        ],
        [
         "Chula Vista",
         "California",
         "CA",
         260988,
         null
        ],
        [
         "Clovis",
         "California",
         "CA",
         102189,
         null
        ],
        [
         "Concord",
         "California",
         "CA",
         127522,
         null
        ],
        [
         "Corona",
         "California",
         "CA",
         161486,
         null
        ],
        [
         "Costa Mesa",
         "California",
         "CA",
         112784,
         null
        ],
        [
         "Daly City",
         "California",
         "CA",
         106094,
         null
        ],
        [
         "Downey",
         "California",
         "CA",
         114172,
         null
        ],
        [
         "El Cajon",
         "California",
         "CA",
         103091,
         null
        ],
        [
         "El Monte",
         "California",
         "CA",
         116631,
         null
        ],
        [
         "Elk Grove",
         "California",
         "CA",
         163553,
         null
        ],
        [
         "Escondido",
         "California",
         "CA",
         150243,
         null
        ],
        [
         "Fairfield",
         "California",
         "CA",
         111125,
         null
        ],
        [
         "Fontana",
         "California",
         "CA",
         204950,
         null
        ],
        [
         "Fremont",
         "California",
         "CA",
         228758,
         null
        ],
        [
         "Fresno",
         "California",
         "CA",
         515986,
         null
        ],
        [
         "Fullerton",
         "California",
         "CA",
         139677,
         null
        ],
        [
         "Garden Grove",
         "California",
         "CA",
         175078,
         null
        ],
        [
         "Glendale",
         "California",
         "CA",
         200167,
         null
        ],
        [
         "Hayward",
         "California",
         "CA",
         154612,
         null
        ],
        [
         "Huntington Beach",
         "California",
         "CA",
         200809,
         null
        ],
        [
         "Inglewood",
         "California",
         "CA",
         111905,
         null
        ],
        [
         "Irvine",
         "California",
         "CA",
         248531,
         null
        ],
        [
         "Lancaster",
         "California",
         "CA",
         161043,
         null
        ],
        [
         "Long Beach",
         "California",
         "CA",
         473577,
         null
        ],
        [
         "Modesto",
         "California",
         "CA",
         209286,
         null
        ],
        [
         "Moreno Valley",
         "California",
         "CA",
         202976,
         null
        ],
        [
         "Murrieta",
         "California",
         "CA",
         108368,
         null
        ],
        [
         "Norwalk",
         "California",
         "CA",
         107096,
         null
        ],
        [
         "Oakland",
         "California",
         "CA",
         413775,
         null
        ],
        [
         "Oceanside",
         "California",
         "CA",
         174558,
         null
        ],
        [
         "Ontario",
         "California",
         "CA",
         169089,
         null
        ],
        [
         "Orange",
         "California",
         "CA",
         139812,
         null
        ],
        [
         "Oxnard",
         "California",
         "CA",
         205437,
         null
        ],
        [
         "Palmdale",
         "California",
         "CA",
         158279,
         null
        ],
        [
         "Pasadena",
         "California",
         "CA",
         140881,
         null
        ],
        [
         "Pomona",
         "California",
         "CA",
         153350,
         null
        ],
        [
         "Rancho Cucamonga",
         "California",
         "CA",
         174305,
         null
        ],
        [
         "Rialto",
         "California",
         "CA",
         102741,
         null
        ],
        [
         "Richmond",
         "California",
         "CA",
         108565,
         null
        ],
        [
         "Roseville",
         "California",
         "CA",
         128615,
         null
        ],
        [
         "Salinas",
         "California",
         "CA",
         156677,
         null
        ],
        [
         "San Bernardino",
         "California",
         "CA",
         215213,
         null
        ],
        [
         "San Mateo",
         "California",
         "CA",
         102893,
         null
        ],
        [
         "Santa Ana",
         "California",
         "CA",
         334909,
         null
        ],
        [
         "Santa Clara",
         "California",
         "CA",
         122192,
         null
        ],
        [
         "Santa Clarita",
         "California",
         "CA",
         181557,
         null
        ],
        [
         "Santa Maria",
         "California",
         "CA",
         103410,
         null
        ],
        [
         "Santa Rosa",
         "California",
         "CA",
         174170,
         null
        ],
        [
         "Simi Valley",
         "California",
         "CA",
         126871,
         null
        ],
        [
         "Stockton",
         "California",
         "CA",
         302389,
         null
        ],
        [
         "Sunnyvale",
         "California",
         "CA",
         149980,
         null
        ],
        [
         "Temecula",
         "California",
         "CA",
         109428,
         null
        ],
        [
         "Thousand Oaks",
         "California",
         "CA",
         129342,
         null
        ],
        [
         "Torrance",
         "California",
         "CA",
         148495,
         null
        ],
        [
         "Vallejo",
         "California",
         "CA",
         120228,
         null
        ],
        [
         "Ventura[29]",
         "California",
         "CA",
         109484,
         null
        ],
        [
         "Victorville",
         "California",
         "CA",
         121901,
         null
        ],
        [
         "Visalia",
         "California",
         "CA",
         129281,
         null
        ],
        [
         "West Covina",
         "California",
         "CA",
         108455,
         null
        ],
        [
         "Arvada",
         "Colorado",
         "CO",
         113574,
         null
        ],
        [
         "Aurora",
         "Colorado",
         "CO",
         353108,
         null
        ],
        [
         "Centennial",
         "Colorado",
         "CO",
         107201,
         null
        ],
        [
         "Fort Collins",
         "Colorado",
         "CO",
         156480,
         null
        ],
        [
         "Lakewood",
         "Colorado",
         "CO",
         149643,
         null
        ],
        [
         "Pueblo",
         "Colorado",
         "CO",
         108423,
         null
        ],
        [
         "Thornton",
         "Colorado",
         "CO",
         130307,
         null
        ],
        [
         "Westminster",
         "Colorado",
         "CO",
         112090,
         null
        ],
        [
         "Stamford",
         "Connecticut",
         "CT",
         128278,
         null
        ],
        [
         "Waterbury",
         "Connecticut",
         "CT",
         109307,
         null
        ],
        [
         "Clearwater",
         "Florida",
         "FL",
         110703,
         null
        ],
        [
         "Coral Springs",
         "Florida",
         "FL",
         127952,
         null
        ],
        [
         "Fort Lauderdale",
         "Florida",
         "FL",
         176013,
         null
        ],
        [
         "Hialeah",
         "Florida",
         "FL",
         235563,
         null
        ],
        [
         "Hollywood",
         "Florida",
         "FL",
         148047,
         null
        ],
        [
         "Miami Gardens",
         "Florida",
         "FL",
         112265,
         null
        ],
        [
         "Miramar",
         "Florida",
         "FL",
         134989,
         null
        ],
        [
         "Orlando",
         "Florida",
         "FL",
         262372,
         null
        ],
        [
         "Pembroke Pines",
         "Florida",
         "FL",
         164626,
         null
        ],
        [
         "Pompano Beach",
         "Florida",
         "FL",
         106105,
         null
        ],
        [
         "St. Petersburg",
         "Florida",
         "FL",
         253693,
         null
        ],
        [
         "West Palm Beach",
         "Florida",
         "FL",
         104031,
         null
        ],
        [
         "Athens[28]",
         "Georgia",
         "GA",
         119648,
         null
        ],
        [
         "Augusta[24]",
         "Georgia",
         "GA",
         196741,
         null
        ],
        [
         "Columbus[23]",
         "Georgia",
         "GA",
         200887,
         null
        ],
        [
         "Macon",
         "Georgia",
         "GA",
         null,
         null
        ],
        [
         "Sandy Springs",
         "Georgia",
         "GA",
         101908,
         null
        ],
        [
         "Savannah",
         "Georgia",
         "GA",
         144352,
         null
        ],
        [
         "Aurora",
         "Illinois",
         "IL",
         200456,
         null
        ],
        [
         "Elgin",
         "Illinois",
         "IL",
         111117,
         null
        ],
        [
         "Joliet",
         "Illinois",
         "IL",
         147928,
         null
        ],
        [
         "Naperville",
         "Illinois",
         "IL",
         146128,
         null
        ],
        [
         "Evansville",
         "Indiana",
         "IN",
         120346,
         null
        ],
        [
         "Des Moines",
         "Iowa",
         "IA",
         209220,
         null
        ],
        [
         "Kansas City[26]",
         "Kansas",
         "KS",
         149636,
         null
        ],
        [
         "Olathe",
         "Kansas",
         "KS",
         133062,
         null
        ],
        [
         "Overland Park",
         "Kansas",
         "KS",
         184525,
         null
        ],
        [
         "Lafayette[27]",
         "Louisiana",
         "LA",
         126066,
         null
        ],
        [
         "New Orleans[17]",
         "Louisiana",
         "LA",
         384320,
         null
        ],
        [
         "Cambridge",
         "Massachusetts",
         "MA",
         109694,
         null
        ],
        [
         "Lowell",
         "Massachusetts",
         "MA",
         109945,
         null
        ],
        [
         "Ann Arbor",
         "Michigan",
         "MI",
         117770,
         null
        ],
        [
         "Detroit",
         "Michigan",
         "MI",
         680250,
         null
        ],
        [
         "Grand Rapids",
         "Michigan",
         "MI",
         193792,
         null
        ],
        [
         "Sterling Heights",
         "Michigan",
         "MI",
         131741,
         null
        ],
        [
         "Warren",
         "Michigan",
         "MI",
         135099,
         null
        ],
        [
         "Rochester",
         "Minnesota",
         "MN",
         111402,
         null
        ],
        [
         "Saint Paul",
         "Minnesota",
         "MN",
         297640,
         null
        ],
        [
         "Columbia",
         "Missouri",
         "MO",
         116906,
         null
        ],
        [
         "Independence",
         "Missouri",
         "MO",
         117494,
         null
        ],
        [
         "St. Louis[15]",
         "Missouri",
         "MO",
         317419,
         null
        ],
        [
         "Billings",
         "Montana",
         "MT",
         108869,
         null
        ],
        [
         "Henderson",
         "Nevada",
         "NV",
         277440,
         null
        ],
        [
         "North Las Vegas",
         "Nevada",
         "NV",
         230788,
         null
        ],
        [
         "Elizabeth",
         "New Jersey",
         "NJ",
         128705,
         null
        ],
        [
         "Jersey City",
         "New Jersey",
         "NJ",
         262146,
         null
        ],
        [
         "Paterson",
         "New Jersey",
         "NJ",
         146753,
         null
        ],
        [
         "Las Cruces",
         "New Mexico",
         "NM",
         101408,
         null
        ],
        [
         "Yonkers",
         "New York",
         "NY",
         200667,
         null
        ],
        [
         "Cary[25]",
         "North Carolina",
         "NC",
         155227,
         null
        ],
        [
         "High Point",
         "North Carolina",
         "NC",
         108629,
         null
        ],
        [
         "Broken Arrow",
         "Oklahoma",
         "OK",
         104726,
         null
        ],
        [
         "Norman",
         "Oklahoma",
         "OK",
         118040,
         null
        ],
        [
         "Oklahoma City",
         "Oklahoma",
         "OK",
         620602,
         null
        ],
        [
         "Gresham",
         "Oregon",
         "OR",
         109892,
         null
        ],
        [
         "Pittsburgh",
         "Pennsylvania",
         "PA",
         305412,
         null
        ],
        [
         "Charleston",
         "South Carolina",
         "SC",
         130113,
         null
        ],
        [
         "Columbia",
         "South Carolina",
         "SC",
         132067,
         null
        ],
        [
         "North Charleston",
         "South Carolina",
         "SC",
         106749,
         null
        ],
        [
         "Clarksville",
         "Tennessee",
         "TN",
         146806,
         null
        ],
        [
         "Murfreesboro",
         "Tennessee",
         "TN",
         120954,
         null
        ],
        [
         "Arlington",
         "Texas",
         "TX",
         383204,
         null
        ],
        [
         "Brownsville",
         "Texas",
         "TX",
         183046,
         null
        ],
        [
         "Carrollton",
         "Texas",
         "TX",
         128353,
         null
        ],
        [
         "College Station",
         "Texas",
         "TX",
         103483,
         null
        ],
        [
         "Denton",
         "Texas",
         "TX",
         128205,
         null
        ],
        [
         "Fort Worth",
         "Texas",
         "TX",
         812238,
         null
        ],
        [
         "Frisco",
         "Texas",
         "TX",
         145035,
         null
        ],
        [
         "Garland",
         "Texas",
         "TX",
         235501,
         null
        ],
        [
         "Grand Prairie",
         "Texas",
         "TX",
         185453,
         null
        ],
        [
         "Irving",
         "Texas",
         "TX",
         232406,
         null
        ],
        [
         "Killeen",
         "Texas",
         "TX",
         138154,
         null
        ],
        [
         "Laredo",
         "Texas",
         "TX",
         252309,
         null
        ],
        [
         "Lewisville",
         "Texas",
         "TX",
         102889,
         null
        ],
        [
         "Lubbock",
         "Texas",
         "TX",
         243839,
         null
        ],
        [
         "McAllen",
         "Texas",
         "TX",
         138596,
         null
        ],
        [
         "McKinney",
         "Texas",
         "TX",
         156767,
         null
        ],
        [
         "Mesquite",
         "Texas",
         "TX",
         144416,
         null
        ],
        [
         "Midland",
         "Texas",
         "TX",
         128037,
         null
        ],
        [
         "Odessa",
         "Texas",
         "TX",
         114597,
         null
        ],
        [
         "Pasadena",
         "Texas",
         "TX",
         153887,
         null
        ],
        [
         "Pearland",
         "Texas",
         "TX",
         103441,
         null
        ],
        [
         "Plano",
         "Texas",
         "TX",
         278480,
         null
        ],
        [
         "Richardson",
         "Texas",
         "TX",
         108617,
         null
        ],
        [
         "Round Rock",
         "Texas",
         "TX",
         112744,
         null
        ],
        [
         "Tyler",
         "Texas",
         "TX",
         101421,
         null
        ],
        [
         "Waco",
         "Texas",
         "TX",
         130194,
         null
        ],
        [
         "Wichita Falls",
         "Texas",
         "TX",
         105114,
         null
        ],
        [
         "Provo",
         "Utah",
         "UT",
         114801,
         null
        ],
        [
         "West Jordan",
         "Utah",
         "UT",
         110920,
         null
        ],
        [
         "West Valley City",
         "Utah",
         "UT",
         134495,
         null
        ],
        [
         "Alexandria[15]",
         "Virginia",
         "VA",
         150575,
         null
        ],
        [
         "Chesapeake[15]",
         "Virginia",
         "VA",
         233371,
         null
        ],
        [
         "Hampton[15]",
         "Virginia",
         "VA",
         136879,
         null
        ],
        [
         "Newport News[15]",
         "Virginia",
         "VA",
         182965,
         null
        ],
        [
         "Norfolk[15]",
         "Virginia",
         "VA",
         245428,
         null
        ],
        [
         "Bellevue",
         "Washington",
         "WA",
         136426,
         null
        ],
        [
         "Everett",
         "Washington",
         "WA",
         106736,
         null
        ],
        [
         "Kent",
         "Washington",
         "WA",
         125560,
         null
        ],
        [
         "Tacoma",
         "Washington",
         "WA",
         205159,
         null
        ],
        [
         "Vancouver",
         "Washington",
         "WA",
         169294,
         null
        ],
        [
         "Green Bay",
         "Wisconsin",
         "WI",
         104891,
         null
        ]
       ],
       "datasetInfos": [],
       "dbfsResultPath": null,
       "isJsonSchema": true,
       "metadata": {},
       "overflow": false,
       "plotOptions": {
        "customPlotOptions": {},
        "displayType": "table",
        "pivotAggregation": null,
        "pivotColumns": null,
        "xColumns": null,
        "yColumns": null
       },
       "removedWidgets": [],
       "schema": [
        {
         "metadata": "{}",
         "name": "City",
         "type": "\"string\""
        },
        {
         "metadata": "{}",
         "name": "State",
         "type": "\"string\""
        },
        {
         "metadata": "{}",
         "name": "State Code",
         "type": "\"string\""
        },
        {
         "metadata": "{}",
         "name": "2014 Population estimate",
         "type": "\"integer\""
        },
        {
         "metadata": "{}",
         "name": "2015 median sales price",
         "type": "\"double\""
        }
       ],
       "type": "table"
      }
     },
     "output_type": "display_data"
    }
   ],
   "source": [
    "display(df_selected.filter(df_selected[\"2015 median sales price\"].isNull()))\n"
   ]
  }
 ],
 "metadata": {
  "application/vnd.databricks.v1+notebook": {
   "computePreferences": null,
   "dashboards": [],
   "environmentMetadata": {
    "base_environment": "",
    "environment_version": "1"
   },
   "inputWidgetPreferences": null,
   "language": "python",
   "notebookMetadata": {
    "pythonIndentUnit": 4
   },
   "notebookName": "populationPriceanalysis",
   "widgets": {}
  }
 },
 "nbformat": 4,
 "nbformat_minor": 0
}